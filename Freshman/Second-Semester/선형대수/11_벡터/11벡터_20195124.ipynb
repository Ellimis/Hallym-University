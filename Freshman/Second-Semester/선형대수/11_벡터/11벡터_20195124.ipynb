{
 "cells": [
  {
   "cell_type": "code",
   "execution_count": 4,
   "metadata": {},
   "outputs": [],
   "source": [
    "import numpy as np\n",
    "%matplotlib qt\n",
    "import matplotlib.pyplot as plt\n",
    "from mpl_toolkits.mplot3d import Axes3D\n",
    "from sympy import *"
   ]
  },
  {
   "cell_type": "markdown",
   "metadata": {},
   "source": [
    "## 과제 1. 다음 세 개의 벡터가 일차 독립인지 확인하고, 일차 종속이면 한 벡터를 다른 두 벡터의 선형결합으로 표현하여라. 또한 quiver 를 이용하여 그림을 그려서 같은 평면상에 있는지 확인해라."
   ]
  },
  {
   "cell_type": "markdown",
   "metadata": {},
   "source": [
    "(a) a = [7,8,9], b = [1,2,3], c = [4,5,6]"
   ]
  },
  {
   "cell_type": "code",
   "execution_count": 5,
   "metadata": {},
   "outputs": [
    {
     "name": "stdout",
     "output_type": "stream",
     "text": [
      "[[7 1 4]\n",
      " [8 2 5]\n",
      " [9 3 6]]\n"
     ]
    }
   ],
   "source": [
    "A = np.array([[7,8,9], [1,2,3], [4,5,6]]).T\n",
    "print(A)"
   ]
  },
  {
   "cell_type": "code",
   "execution_count": 6,
   "metadata": {},
   "outputs": [
    {
     "data": {
      "text/plain": [
       "(Matrix([\n",
       " [1, 0, 1/2],\n",
       " [0, 1, 1/2],\n",
       " [0, 0,   0]]), (0, 1))"
      ]
     },
     "execution_count": 6,
     "metadata": {},
     "output_type": "execute_result"
    }
   ],
   "source": [
    "Matrix(A).rref()"
   ]
  },
  {
   "cell_type": "markdown",
   "metadata": {},
   "source": [
    "이를 보아 일차종속인 것을 볼 수 있다."
   ]
  },
  {
   "cell_type": "code",
   "execution_count": 9,
   "metadata": {},
   "outputs": [
    {
     "data": {
      "text/plain": [
       "<mpl_toolkits.mplot3d.art3d.Line3DCollection at 0x1990b0d99b0>"
      ]
     },
     "execution_count": 9,
     "metadata": {},
     "output_type": "execute_result"
    }
   ],
   "source": [
    "ax = plt.gca(projection='3d')\n",
    "ML = np.max(A)\n",
    "ax.set_xlim(0, ML)\n",
    "ax.set_ylim(0, ML)\n",
    "ax.set_zlim(0, ML)\n",
    "ax.grid()\n",
    "ax.quiver(np.zeros((3, 1)),np.zeros((3, 1)), np.zeros((3, 1)), A[:, 0], A[:, 1], A[:, 2])"
   ]
  },
  {
   "cell_type": "markdown",
   "metadata": {},
   "source": [
    "(b) u = [1,0,2], v = [1,2,1], w = [-1,1,3]"
   ]
  },
  {
   "cell_type": "code",
   "execution_count": 12,
   "metadata": {},
   "outputs": [
    {
     "name": "stdout",
     "output_type": "stream",
     "text": [
      "[[ 1  1 -1]\n",
      " [ 0  2  1]\n",
      " [ 2  1  3]]\n"
     ]
    }
   ],
   "source": [
    "B = np.array([[1,0,2], [1,2,1], [-1,1,3]]).T\n",
    "print(B)"
   ]
  },
  {
   "cell_type": "code",
   "execution_count": 13,
   "metadata": {},
   "outputs": [
    {
     "data": {
      "text/plain": [
       "(Matrix([\n",
       " [1, 0, 0],\n",
       " [0, 1, 0],\n",
       " [0, 0, 1]]), (0, 1, 2))"
      ]
     },
     "execution_count": 13,
     "metadata": {},
     "output_type": "execute_result"
    }
   ],
   "source": [
    "Matrix(B).rref()"
   ]
  },
  {
   "cell_type": "markdown",
   "metadata": {},
   "source": [
    "일차독립이다."
   ]
  },
  {
   "cell_type": "markdown",
   "metadata": {},
   "source": [
    "## 과제 2."
   ]
  },
  {
   "cell_type": "markdown",
   "metadata": {},
   "source": [
    "(1) 다음 벡터 x가 A의 영공간 N(A)의 원소인지 Python 으로 확인해라.\n",
    "\n",
    "> A = np.array([[3,-5,-3], [6,-2,0], [-8,4,1]])\n",
    "\n",
    "> x = np.array([[1], [3], [-4]])"
   ]
  },
  {
   "cell_type": "code",
   "execution_count": 32,
   "metadata": {},
   "outputs": [
    {
     "data": {
      "text/plain": [
       "(Matrix([\n",
       " [1, 0, 1/4],\n",
       " [0, 1, 3/4],\n",
       " [0, 0,   0]]), (0, 1))"
      ]
     },
     "execution_count": 32,
     "metadata": {},
     "output_type": "execute_result"
    }
   ],
   "source": [
    "#첫번째 방법\n",
    "A = np.array([[3,-5,-3], [6,-2,0], [-8,4,1]])\n",
    "Matrix(A).rref()"
   ]
  },
  {
   "cell_type": "code",
   "execution_count": 33,
   "metadata": {},
   "outputs": [
    {
     "data": {
      "text/plain": [
       "[Matrix([\n",
       " [-1/4],\n",
       " [-3/4],\n",
       " [   1]])]"
      ]
     },
     "execution_count": 33,
     "metadata": {},
     "output_type": "execute_result"
    }
   ],
   "source": [
    "Matrix(A).nullspace()"
   ]
  },
  {
   "cell_type": "code",
   "execution_count": 34,
   "metadata": {},
   "outputs": [
    {
     "name": "stdout",
     "output_type": "stream",
     "text": [
      "[[1 3 -4]]\n"
     ]
    }
   ],
   "source": [
    "B = np.array(Matrix(A).nullspace())\n",
    "for i in range(3):\n",
    "    B[0, i] *= -4\n",
    "print(B)"
   ]
  },
  {
   "cell_type": "code",
   "execution_count": 37,
   "metadata": {},
   "outputs": [
    {
     "data": {
      "text/plain": [
       "array([[0],\n",
       "       [0],\n",
       "       [0]])"
      ]
     },
     "execution_count": 37,
     "metadata": {},
     "output_type": "execute_result"
    }
   ],
   "source": [
    "#두번쨰 방법\n",
    "x = np.array([[1], [3], [-4]])\n",
    "np.dot(A, x)"
   ]
  },
  {
   "cell_type": "code",
   "execution_count": 38,
   "metadata": {},
   "outputs": [],
   "source": [
    "#두개 곱했을 때 0이므로 x 는 A의 N(A) 이다."
   ]
  },
  {
   "cell_type": "markdown",
   "metadata": {},
   "source": [
    "(2) 다음 행렬의 영공간을 강의 ppt 의 22page에서와 같이 구하시오. 자유변수는 s, t, u, v, w 순으로 쓰시오\n",
    "\n",
    "> A = np.array([[1,4,5,2],[2,1,3,0],[-1,3,2,2]])\n",
    "\n",
    "> B = np.array([[1,-2,0,4,0],[0,0,-1,-9,0],[0,0,0,0,-3]])"
   ]
  },
  {
   "cell_type": "code",
   "execution_count": 39,
   "metadata": {},
   "outputs": [
    {
     "data": {
      "text/plain": [
       "(Matrix([\n",
       " [1, 0, 1, -2/7],\n",
       " [0, 1, 1,  4/7],\n",
       " [0, 0, 0,    0]]), (0, 1))"
      ]
     },
     "execution_count": 39,
     "metadata": {},
     "output_type": "execute_result"
    }
   ],
   "source": [
    "#(A)\n",
    "A = np.array([[1,4,5,2],[2,1,3,0],[-1,3,2,2]])\n",
    "Matrix(A).rref()"
   ]
  },
  {
   "cell_type": "markdown",
   "metadata": {},
   "source": [
    "x3 = s\n",
    "x4 = t\n",
    "x2 = -s - 4/7t\n",
    "x1 = -s + 2/7t\n",
    "\n",
    "그러므로 x = s*[-1, -1, 1, 0] + t*[2/7, -4/7, 0, 1] 이다."
   ]
  },
  {
   "cell_type": "markdown",
   "metadata": {},
   "source": [
    "(3) (2) 문제를 “2. 기본 지식과 자료”를 참조하여 Python으로 구하고 위의 풀이와 비교하라!"
   ]
  },
  {
   "cell_type": "code",
   "execution_count": 44,
   "metadata": {},
   "outputs": [
    {
     "data": {
      "text/plain": [
       "[Matrix([\n",
       " [-1],\n",
       " [-1],\n",
       " [ 1],\n",
       " [ 0]]), Matrix([\n",
       " [ 2/7],\n",
       " [-4/7],\n",
       " [   0],\n",
       " [   1]])]"
      ]
     },
     "execution_count": 44,
     "metadata": {},
     "output_type": "execute_result"
    }
   ],
   "source": [
    "Matrix(A).nullspace()\n",
    "#다음과 같이 나오므로 풀이가 같다."
   ]
  },
  {
   "cell_type": "code",
   "execution_count": 41,
   "metadata": {},
   "outputs": [
    {
     "data": {
      "text/plain": [
       "(Matrix([\n",
       " [1, -2, 0, 4, 0],\n",
       " [0,  0, 1, 9, 0],\n",
       " [0,  0, 0, 0, 1]]), (0, 2, 4))"
      ]
     },
     "execution_count": 41,
     "metadata": {},
     "output_type": "execute_result"
    }
   ],
   "source": [
    "#(B)\n",
    "B = np.array([[1,-2,0,4,0],[0,0,-1,-9,0],[0,0,0,0,-3]])\n",
    "Matrix(B).rref()"
   ]
  },
  {
   "cell_type": "markdown",
   "metadata": {},
   "source": [
    "x2 = s, x4 = t //\n",
    "x1 = 2s + -4t //\n",
    "x3 = -9t //\n",
    "x5 = 0\n",
    "\n",
    "그러므로 x = s*[2, 1, 0, 0, 0] + t*[-4, 0, -9, 1, 0] 이다."
   ]
  },
  {
   "cell_type": "markdown",
   "metadata": {},
   "source": [
    "(3) (2) 문제를 “2. 기본 지식과 자료”를 참조하여 Python으로 구하고 위의 풀이와 비교하라!"
   ]
  },
  {
   "cell_type": "code",
   "execution_count": 43,
   "metadata": {},
   "outputs": [
    {
     "data": {
      "text/plain": [
       "[Matrix([\n",
       " [2],\n",
       " [1],\n",
       " [0],\n",
       " [0],\n",
       " [0]]), Matrix([\n",
       " [-4],\n",
       " [ 0],\n",
       " [-9],\n",
       " [ 1],\n",
       " [ 0]])]"
      ]
     },
     "execution_count": 43,
     "metadata": {},
     "output_type": "execute_result"
    }
   ],
   "source": [
    "Matrix(B).nullspace()\n",
    "#다음과 같이 나오므로 풀이가 같다."
   ]
  },
  {
   "cell_type": "markdown",
   "metadata": {},
   "source": [
    "(4) 다음 벡터들로 생성된 공간의 차원 rref를 이용하여 구하고, Matrix(A).rank()함수를 이용하여 구한 것 과 같은지 확인하여라.\n",
    "> (2, 7, 6) (0, 6, 8) (2, -5, -10) (3, 0, -5)\n",
    "\n",
    "> (1, 2, 5, 10) (3, 1, 2, 5) (-2, 1, 3, 5) (4, 3, 7, 15) (5, 1, 3, 7)"
   ]
  },
  {
   "cell_type": "code",
   "execution_count": 66,
   "metadata": {},
   "outputs": [
    {
     "data": {
      "text/plain": [
       "(Matrix([\n",
       " [1, 0,  1,  3/2],\n",
       " [0, 1, -2, -7/4],\n",
       " [0, 0,  0,    0]]), (0, 1))"
      ]
     },
     "execution_count": 66,
     "metadata": {},
     "output_type": "execute_result"
    }
   ],
   "source": [
    "# (2, 7, 6) (0, 6, 8) (2, -5, -10) (3, 0, -5) 일때,\n",
    "A = np.array([[2, 7, 6], [0, 6, 8], [2, -5, -10], [3, 0, -5]]).T\n",
    "Matrix(A).rref()"
   ]
  },
  {
   "cell_type": "code",
   "execution_count": 67,
   "metadata": {},
   "outputs": [
    {
     "data": {
      "text/plain": [
       "2"
      ]
     },
     "execution_count": 67,
     "metadata": {},
     "output_type": "execute_result"
    }
   ],
   "source": [
    "#선행성분(0, 1)의 개수가 2\n",
    "Matrix(A).rank()"
   ]
  },
  {
   "cell_type": "code",
   "execution_count": 68,
   "metadata": {},
   "outputs": [
    {
     "data": {
      "text/plain": [
       "(Matrix([\n",
       " [1, 0,  1, 1, 0],\n",
       " [0, 1, -1, 1, 0],\n",
       " [0, 0,  0, 0, 1],\n",
       " [0, 0,  0, 0, 0]]), (0, 1, 4))"
      ]
     },
     "execution_count": 68,
     "metadata": {},
     "output_type": "execute_result"
    }
   ],
   "source": [
    "# (1, 2, 5, 10) (3, 1, 2, 5) (-2, 1, 3, 5) (4, 3, 7, 15) (5, 1, 3, 7)\n",
    "A = np.array([[1, 2, 5, 10], [3, 1, 2, 5], [-2, 1, 3, 5], [4, 3, 7, 15], [5, 1, 3, 7]]).T\n",
    "Matrix(A).rref()"
   ]
  },
  {
   "cell_type": "code",
   "execution_count": 69,
   "metadata": {},
   "outputs": [
    {
     "data": {
      "text/plain": [
       "3"
      ]
     },
     "execution_count": 69,
     "metadata": {},
     "output_type": "execute_result"
    }
   ],
   "source": [
    "#선행성분(0, 1, 4)의 개수가 3\n",
    "Matrix(A).rank()"
   ]
  },
  {
   "cell_type": "markdown",
   "metadata": {},
   "source": [
    "(5) 다음 중 span{(1, 0, 2, 3), (-1, 2, 5, 3), ( -1, 1, 0, 2)} 에 속하는 것은 ?\n",
    "> a = (-5, 6, 11, 3)\n",
    "\n",
    "> b = (5, 2, 4, -7)"
   ]
  },
  {
   "cell_type": "code",
   "execution_count": 81,
   "metadata": {},
   "outputs": [
    {
     "name": "stdout",
     "output_type": "stream",
     "text": [
      "[[ 1 -1 -1 -5]\n",
      " [ 0  2  1  6]\n",
      " [ 2  5  0 11]\n",
      " [ 3  3  2  3]]\n"
     ]
    }
   ],
   "source": [
    "A = np.array([[1, 0, 2, 3], [-1, 2, 5, 3], [-1, 1, 0, 2]]).T\n",
    "a = np.array([-5, 6, 11, 3])\n",
    "b = np.array([5, 2, 4, -7])\n",
    "aug = np.column_stack((A, a))\n",
    "print(aug)"
   ]
  },
  {
   "cell_type": "code",
   "execution_count": 82,
   "metadata": {},
   "outputs": [
    {
     "data": {
      "text/plain": [
       "(Matrix([\n",
       " [1, 0, 0, -2],\n",
       " [0, 1, 0,  3],\n",
       " [0, 0, 1,  0],\n",
       " [0, 0, 0,  0]]), (0, 1, 2))"
      ]
     },
     "execution_count": 82,
     "metadata": {},
     "output_type": "execute_result"
    }
   ],
   "source": [
    "Matrix(aug).rref()"
   ]
  },
  {
   "cell_type": "code",
   "execution_count": 83,
   "metadata": {},
   "outputs": [
    {
     "data": {
      "text/plain": [
       "3"
      ]
     },
     "execution_count": 83,
     "metadata": {},
     "output_type": "execute_result"
    }
   ],
   "source": [
    "Matrix(aug).rank()"
   ]
  },
  {
   "cell_type": "code",
   "execution_count": 84,
   "metadata": {},
   "outputs": [],
   "source": [
    "#차원의 개수가 3개 뿐이므로 a는 속하지 않는다."
   ]
  },
  {
   "cell_type": "code",
   "execution_count": 85,
   "metadata": {},
   "outputs": [
    {
     "name": "stdout",
     "output_type": "stream",
     "text": [
      "[[ 1 -1 -1  5]\n",
      " [ 0  2  1  2]\n",
      " [ 2  5  0  4]\n",
      " [ 3  3  2 -7]]\n"
     ]
    }
   ],
   "source": [
    "AUG = np.column_stack((A, b))\n",
    "print(AUG)"
   ]
  },
  {
   "cell_type": "code",
   "execution_count": 86,
   "metadata": {},
   "outputs": [
    {
     "data": {
      "text/plain": [
       "(Matrix([\n",
       " [1, 0, 0, 0],\n",
       " [0, 1, 0, 0],\n",
       " [0, 0, 1, 0],\n",
       " [0, 0, 0, 1]]), (0, 1, 2, 3))"
      ]
     },
     "execution_count": 86,
     "metadata": {},
     "output_type": "execute_result"
    }
   ],
   "source": [
    "Matrix(AUG).rref()"
   ]
  },
  {
   "cell_type": "code",
   "execution_count": 87,
   "metadata": {},
   "outputs": [
    {
     "data": {
      "text/plain": [
       "4"
      ]
     },
     "execution_count": 87,
     "metadata": {},
     "output_type": "execute_result"
    }
   ],
   "source": [
    "Matrix(AUG).rank()"
   ]
  },
  {
   "cell_type": "code",
   "execution_count": 88,
   "metadata": {},
   "outputs": [],
   "source": [
    "#차원의 개수가 선행 성분의 갯수와 같으므로 b 는 A에 속한다"
   ]
  },
  {
   "cell_type": "markdown",
   "metadata": {},
   "source": [
    "(6)다음 벡터들로 생성되는 공간의 기저를 구하시오\n",
    ">  (1, 0, -3, -2) (0, 1,2, -3) (-3, -4, 1, 6) (1, -3, -8, 7) (2, 1, -6, 9)"
   ]
  },
  {
   "cell_type": "code",
   "execution_count": 93,
   "metadata": {},
   "outputs": [
    {
     "name": "stdout",
     "output_type": "stream",
     "text": [
      "[[ 1  0 -3 -2]\n",
      " [ 0  1  2 -3]\n",
      " [-3 -4  1  6]\n",
      " [ 1 -3 -8  7]\n",
      " [ 2  1 -6  9]]\n"
     ]
    }
   ],
   "source": [
    "A = np.array([[1, 0, -3, -2], [0, 1, 2, -3], [-3, -4, 1, 6], [1, -3, -8, 7], [2, 1, -6, 9]])\n",
    "print(A)"
   ]
  },
  {
   "cell_type": "code",
   "execution_count": 94,
   "metadata": {},
   "outputs": [
    {
     "data": {
      "text/plain": [
       "(Matrix([\n",
       " [1, 0, 0, 0],\n",
       " [0, 1, 0, 0],\n",
       " [0, 0, 1, 0],\n",
       " [0, 0, 0, 1],\n",
       " [0, 0, 0, 0]]), (0, 1, 2, 3))"
      ]
     },
     "execution_count": 94,
     "metadata": {},
     "output_type": "execute_result"
    }
   ],
   "source": [
    "Matrix(A).rref()"
   ]
  },
  {
   "cell_type": "code",
   "execution_count": 97,
   "metadata": {},
   "outputs": [],
   "source": [
    "#전부 일차 독립이므로 이런 벡터를 포함하는 기저가 존재한다.\n",
    "#기저는 v = ([1, 0, 0, 0], [0, 1, 0, 0], [0, 0, 1, 0], [0, 0, 0, 1]) 이다."
   ]
  },
  {
   "cell_type": "code",
   "execution_count": null,
   "metadata": {},
   "outputs": [],
   "source": []
  }
 ],
 "metadata": {
  "kernelspec": {
   "display_name": "Python 3",
   "language": "python",
   "name": "python3"
  },
  "language_info": {
   "codemirror_mode": {
    "name": "ipython",
    "version": 3
   },
   "file_extension": ".py",
   "mimetype": "text/x-python",
   "name": "python",
   "nbconvert_exporter": "python",
   "pygments_lexer": "ipython3",
   "version": "3.7.3"
  }
 },
 "nbformat": 4,
 "nbformat_minor": 4
}
