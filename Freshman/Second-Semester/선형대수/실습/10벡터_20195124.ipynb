{
 "cells": [
  {
   "cell_type": "code",
   "execution_count": 14,
   "metadata": {},
   "outputs": [],
   "source": [
    "import numpy as np\n",
    "%matplotlib qt\n",
    "import matplotlib.pyplot as plt\n",
    "import matplotlib.patches as pat"
   ]
  },
  {
   "cell_type": "markdown",
   "metadata": {},
   "source": [
    "## 사전지식"
   ]
  },
  {
   "cell_type": "code",
   "execution_count": 15,
   "metadata": {},
   "outputs": [
    {
     "data": {
      "text/plain": [
       "<matplotlib.quiver.Quiver at 0x1be41d54198>"
      ]
     },
     "execution_count": 15,
     "metadata": {},
     "output_type": "execute_result"
    }
   ],
   "source": [
    "w1=np.array([1,0.5])\n",
    "w2=np.array([0.5,1])\n",
    "w=w2-w1\n",
    "ws=np.vstack((w1,w2,w))\n",
    "arg={'angles':'xy','scale_units':'xy','scale':1}\n",
    "ax=plt.gca()\n",
    "ax.quiver(np.zeros(3),np.zeros(3),ws[:,0],ws[:,1],**arg)"
   ]
  },
  {
   "cell_type": "code",
   "execution_count": 16,
   "metadata": {},
   "outputs": [
    {
     "data": {
      "text/plain": [
       "Text(-0.5, 0.5, 'w')"
      ]
     },
     "execution_count": 16,
     "metadata": {},
     "output_type": "execute_result"
    }
   ],
   "source": [
    "ax.axhline(0, color='g')\n",
    "ax.axvline(0, color='g')\n",
    "ax.set_aspect('equal')\n",
    "ax.set_xlim(-2,2)\n",
    "ax.set_ylim(-2,2)\n",
    "ax.set_aspect('equal')\n",
    "ax.grid()\n",
    "ax.text(w1[0],w1[1],'w1')\n",
    "ax.text(w2[0],w2[1],'w2')\n",
    "ax.text(w[0],w[1],'w')"
   ]
  },
  {
   "cell_type": "code",
   "execution_count": 17,
   "metadata": {},
   "outputs": [
    {
     "data": {
      "text/plain": [
       "<matplotlib.patches.Rectangle at 0x1be41d9f4a8>"
      ]
     },
     "execution_count": 17,
     "metadata": {},
     "output_type": "execute_result"
    }
   ],
   "source": [
    "rect = pat.Rectangle((0,0),2,2,facecolor='b',alpha=0.3)\n",
    "ax.add_patch(rect)"
   ]
  },
  {
   "cell_type": "code",
   "execution_count": 19,
   "metadata": {},
   "outputs": [
    {
     "data": {
      "text/plain": [
       "[<matplotlib.lines.Line2D at 0x1be41d92d68>]"
      ]
     },
     "execution_count": 19,
     "metadata": {},
     "output_type": "execute_result"
    }
   ],
   "source": [
    "ax=plt.gca()\n",
    "ax.set_xlim(-2,2)\n",
    "ax.set_ylim(-2,2)\n",
    "x=np.linspace(-2,2,20)\n",
    "y=x\n",
    "ax.plot(x,y,c='b')"
   ]
  },
  {
   "cell_type": "markdown",
   "metadata": {},
   "source": [
    "## 과제 1. \n",
    "(1) 기본 지식에서처럼 주어진 집합에서 두 개의 벡터를 선택하여 빼거나 더한 벡터가 주어진 집합을 벗어나는 예를 보여라.\n",
    "\n",
    "> **1. x + y = 1 || 2. x = 0, y = 0 || 3. y = -x**"
   ]
  },
  {
   "cell_type": "code",
   "execution_count": 20,
   "metadata": {},
   "outputs": [
    {
     "data": {
      "text/plain": [
       "Text(0.5, 1.5, 'w')"
      ]
     },
     "execution_count": 20,
     "metadata": {},
     "output_type": "execute_result"
    }
   ],
   "source": [
    "# 1\n",
    "plt.close()\n",
    "ax = plt.gca()\n",
    "ax.axhline(0, color='g')\n",
    "ax.axvline(0, color='g')\n",
    "ax.set_aspect('equal')\n",
    "ax.set_xlim(-2,2)\n",
    "ax.set_ylim(-2,2)\n",
    "ax.set_aspect('equal')\n",
    "x=np.linspace(-2,2,20)\n",
    "y=x\n",
    "ax.plot(-x,y+1,c='b')\n",
    "ax.grid()\n",
    "w1 = np.array([-0.5, 1.5])\n",
    "w2 = np.array([1, 0])\n",
    "w = w1 + w2\n",
    "ws = np.vstack((w1, w2, w))\n",
    "ax.quiver(np.zeros(3), np.zeros(3), ws[:, 0], ws[:, 1], **arg)\n",
    "ax.text(w1[0]+0.1, w1[1], 'w1')\n",
    "ax.text(w2[0]+0.1, w2[1]+0.1, 'w2')\n",
    "ax.text(w[0], w[1], 'w')"
   ]
  },
  {
   "cell_type": "code",
   "execution_count": 21,
   "metadata": {},
   "outputs": [
    {
     "data": {
      "text/plain": [
       "Text(0.5, -1.0, 'v2')"
      ]
     },
     "execution_count": 21,
     "metadata": {},
     "output_type": "execute_result"
    }
   ],
   "source": [
    "# 2\n",
    "plt.close()\n",
    "ax = plt.gca()\n",
    "ax.axhline(0, color='g')\n",
    "ax.axvline(0, color='g')\n",
    "ax.set_aspect('equal')\n",
    "ax.set_xlim(-2,2)\n",
    "ax.set_ylim(-2,2)\n",
    "ax.set_aspect('equal')\n",
    "ax.grid()\n",
    "rect1 = pat.Rectangle((0,0),2,2,facecolor='b',alpha=0.3)\n",
    "rect2 = pat.Rectangle((0,0),-2,-2,facecolor='b',alpha=0.3)\n",
    "ax.add_patch(rect1)\n",
    "ax.add_patch(rect2)\n",
    "w1 = np.array([0.5, 1])\n",
    "w2 = np.array([-1, -0.5])\n",
    "w3 = np.array([-0.5, -1.5])\n",
    "v1 = w1 + w2\n",
    "v2 = w3 - w2\n",
    "ws=np.vstack((w1,w2,w3,v1,v2))\n",
    "ax.quiver(np.zeros(5),np.zeros(5),ws[:,0],ws[:,1],**arg)\n",
    "ax.text(w1[0],w1[1],'w1')\n",
    "ax.text(w2[0],w2[1]+0.2,'w2')\n",
    "ax.text(w3[0]+0.1,w3[1],'w3')\n",
    "ax.text(v1[0],v1[1],'v1')\n",
    "ax.text(v2[0],v2[1],'v2')"
   ]
  },
  {
   "cell_type": "code",
   "execution_count": 22,
   "metadata": {},
   "outputs": [
    {
     "data": {
      "text/plain": [
       "Text(0.5, -1.5, 'w')"
      ]
     },
     "execution_count": 22,
     "metadata": {},
     "output_type": "execute_result"
    }
   ],
   "source": [
    "# 3\n",
    "plt.close()\n",
    "ax = plt.gca()\n",
    "ax.axhline(0, color='g')\n",
    "ax.axvline(0, color='g')\n",
    "ax.set_aspect('equal')\n",
    "ax.set_xlim(-2,2)\n",
    "ax.set_ylim(-2,2)\n",
    "ax.set_aspect('equal')\n",
    "ax.grid()\n",
    "pts = np.array([[-2, 2], [2, -2], [2, 2]])\n",
    "tri = pat.Polygon(pts, facecolor='b', alpha=0.3)\n",
    "ax.add_patch(tri)\n",
    "w1 = np.array([0.5, 1])\n",
    "w2 = np.array([1, -0.5])\n",
    "w = w2 - w1\n",
    "ws=np.vstack((w1, w2, w))\n",
    "ax.quiver(np.zeros(3), np.zeros(3), ws[:, 0], ws[:, 1], **arg)\n",
    "ax.text(w1[0],w1[1],'w1')\n",
    "ax.text(w2[0],w2[1],'w2')\n",
    "ax.text(w[0],w[1],'w')"
   ]
  },
  {
   "cell_type": "markdown",
   "metadata": {},
   "source": [
    "(2) 다음 집합에 대하여도 상기와 같은 벡터 쌍이 있는 지 여러 가지로 그려 보아라."
   ]
  },
  {
   "cell_type": "code",
   "execution_count": 23,
   "metadata": {},
   "outputs": [
    {
     "data": {
      "text/plain": [
       "Text(-0.6, -0.3, 'v2')"
      ]
     },
     "execution_count": 23,
     "metadata": {},
     "output_type": "execute_result"
    }
   ],
   "source": [
    "plt.close()\n",
    "ax = plt.gca()\n",
    "ax.axhline(0, color='g')\n",
    "ax.axvline(0, color='g')\n",
    "ax.set_aspect('equal')\n",
    "ax.set_xlim(-2,2)\n",
    "ax.set_ylim(-2,2)\n",
    "ax.set_aspect('equal')\n",
    "x=np.linspace(-2,2,20)\n",
    "y=x\n",
    "ax.plot(x,y,c='b')\n",
    "ax.grid()\n",
    "w1 = np.array([0.5, 1])\n",
    "w2 = np.array([1, 0.5])\n",
    "w3 = np.array([-1, 0.5])\n",
    "w4 = np.array([0.5, -1])\n",
    "v1 = w1 + w2\n",
    "v2 = w3 + w4\n",
    "ws=np.vstack((w1, w2, w3, w4, v1, v2))\n",
    "ax.quiver(np.zeros(6), np.zeros(6), ws[:, 0], ws[:, 1], **arg)\n",
    "ax.text(w1[0],w1[1],'w1')\n",
    "ax.text(w2[0],w2[1],'w2')\n",
    "ax.text(w3[0],w3[1]+0.1,'w3')\n",
    "ax.text(w4[0],w4[1],'w4')\n",
    "ax.text(v1[0],v1[1]-0.1,'v1')\n",
    "ax.text(v2[0]-0.1,v2[1]+0.2,'v2')"
   ]
  },
  {
   "cell_type": "code",
   "execution_count": 3,
   "metadata": {},
   "outputs": [
    {
     "data": {
      "text/plain": [
       "(Matrix([\n",
       " [1, -2, 0, -1,  3],\n",
       " [0,  0, 1,  2, -2],\n",
       " [0,  0, 0,  0,  0]]), (0, 2))"
      ]
     },
     "execution_count": 3,
     "metadata": {},
     "output_type": "execute_result"
    }
   ],
   "source": [
    "from sympy import *\n",
    "A = np.array([[1, -2, 2, 3, -1], [-3, 6, -1, 1, -7], [2, -4, 5, 8, -4]])\n",
    "B = np.array([[1, -2, 1, 3, -1], [-3, 6, 1, 1, -7], [2, -4, 1, 5, -4]])\n",
    "Matrix(A).rref()"
   ]
  },
  {
   "cell_type": "code",
   "execution_count": 4,
   "metadata": {},
   "outputs": [
    {
     "data": {
      "text/plain": [
       "[Matrix([\n",
       " [2],\n",
       " [1],\n",
       " [0],\n",
       " [0],\n",
       " [0]]), Matrix([\n",
       " [ 1],\n",
       " [ 0],\n",
       " [-2],\n",
       " [ 1],\n",
       " [ 0]]), Matrix([\n",
       " [-3],\n",
       " [ 0],\n",
       " [ 2],\n",
       " [ 0],\n",
       " [ 1]])]"
      ]
     },
     "execution_count": 4,
     "metadata": {},
     "output_type": "execute_result"
    }
   ],
   "source": [
    "Matrix(A).nullspace()"
   ]
  },
  {
   "cell_type": "code",
   "execution_count": 5,
   "metadata": {},
   "outputs": [
    {
     "data": {
      "text/plain": [
       "(Matrix([\n",
       " [1, -2, 0, 0,  3],\n",
       " [0,  0, 1, 0,  5],\n",
       " [0,  0, 0, 1, -3]]), (0, 2, 3))"
      ]
     },
     "execution_count": 5,
     "metadata": {},
     "output_type": "execute_result"
    }
   ],
   "source": [
    "Matrix(B).rref()"
   ]
  },
  {
   "cell_type": "code",
   "execution_count": 6,
   "metadata": {},
   "outputs": [
    {
     "data": {
      "text/plain": [
       "[Matrix([\n",
       " [2],\n",
       " [1],\n",
       " [0],\n",
       " [0],\n",
       " [0]]), Matrix([\n",
       " [-3],\n",
       " [ 0],\n",
       " [-5],\n",
       " [ 3],\n",
       " [ 1]])]"
      ]
     },
     "execution_count": 6,
     "metadata": {},
     "output_type": "execute_result"
    }
   ],
   "source": [
    "Matrix(B).nullspace()"
   ]
  },
  {
   "cell_type": "markdown",
   "metadata": {},
   "source": [
    "nullspace 를 이용하여 A와 B를 구해보니 공책에서 구한 널 공간 벡터가 똑같이 나옴을 알 수 있다."
   ]
  },
  {
   "cell_type": "code",
   "execution_count": null,
   "metadata": {},
   "outputs": [],
   "source": []
  }
 ],
 "metadata": {
  "kernelspec": {
   "display_name": "Python 3",
   "language": "python",
   "name": "python3"
  },
  "language_info": {
   "codemirror_mode": {
    "name": "ipython",
    "version": 3
   },
   "file_extension": ".py",
   "mimetype": "text/x-python",
   "name": "python",
   "nbconvert_exporter": "python",
   "pygments_lexer": "ipython3",
   "version": "3.7.3"
  }
 },
 "nbformat": 4,
 "nbformat_minor": 4
}
