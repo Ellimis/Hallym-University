{
 "cells": [
  {
   "cell_type": "code",
   "execution_count": 1,
   "metadata": {},
   "outputs": [],
   "source": [
    "import numpy as np\n",
    "import matplotlib.pyplot as plt\n",
    "%matplotlib widget"
   ]
  },
  {
   "cell_type": "markdown",
   "metadata": {},
   "source": [
    "<img src=\"regularPolygon.jpg\">\n",
    "<font size=3>\n",
    "정다각형의 꼭지점 들은 하나의 원 상에 존재한다.<br>\n",
    "    \n",
    "원의 반지름을 1 이라하고 중심과 내접하는 정다각형의 각 꼭지점을 잇는 벡터를 생각해 볼 수 있다.<br>\n",
    "\n",
    "정n각형의 선분 사이의 각은 360도를 n등분한 것과 같다.<br>\n",
    "\n",
    "즉 한 꼭지점을 vector (1,0)이라고 하고, 시계 반대방향으로 돌면서 꼭지점을 표시하면 아래와 같이 표시된다.<br>\n",
    "\n",
    "$\\left(cos\\frac{2\\times0\\pi}{n},sin\\frac{2\\times0\\pi}{n}\\right)$, $\\left(cos\\frac{2\\times1\\pi}{n},sin\\frac{2\\times1\\pi}{n}\\right)$, $\\left(cos\\frac{2\\times2\\pi}{n},sin\\frac{2\\times2\\pi}{n}\\right)$, $\\left(cos\\frac{3\\times2\\pi}{n},sin\\frac{3\\times2\\pi}{n}\\right)$, ... <br>\n",
    "</font>"
   ]
  },
  {
   "cell_type": "code",
   "execution_count": 2,
   "metadata": {},
   "outputs": [
    {
     "data": {
      "text/plain": [
       "<matplotlib.quiver.Quiver at 0x25dc8004438>"
      ]
     },
     "execution_count": 2,
     "metadata": {},
     "output_type": "execute_result"
    },
    {
     "data": {
      "image/png": "[encoded data removed]",
      "text/plain": [
       "<Figure size 432x288 with 1 Axes>"
      ]
     },
     "metadata": {
      "needs_background": "light"
     },
     "output_type": "display_data"
    }
   ],
   "source": [
    "ax=plt.gca()\n",
    "circle = plt.Circle((0,0),1,fill=False,color='b')\n",
    "ax.add_artist(circle)\n",
    "ax.set_xlim(-1,1)\n",
    "ax.set_ylim(-1,1)\n",
    "ax.set_aspect('equal')\n",
    "n=6 # 정 n각형\n",
    "vs=np.zeros((n,2))\n",
    "for i in range(n):\n",
    "    vs[i,0]=np.cos(2*i*np.pi/n)\n",
    "    vs[i,1]=np.sin(2*i*np.pi/n)\n",
    "ax.quiver(np.zeros(n),np.zeros(n),vs[:,0],vs[:,1],angles='xy', scale_units='xy', scale=1)"
   ]
  },
  {
   "cell_type": "markdown",
   "metadata": {},
   "source": [
    "정다각형의 한변의 길이는 시계방향으로 처음 두 벡터의 차벡터의 길이를 구하면된다"
   ]
  },
  {
   "cell_type": "code",
   "execution_count": 6,
   "metadata": {},
   "outputs": [
    {
     "data": {
      "text/plain": [
       "<matplotlib.quiver.Quiver at 0x25dc805b048>"
      ]
     },
     "execution_count": 6,
     "metadata": {},
     "output_type": "execute_result"
    }
   ],
   "source": [
    "diff=vs[1,:]-vs[0,:]\n",
    "ax.quiver(vs[0,0],vs[0,1],diff[0],diff[1],angles='xy', scale_units='xy', scale=1,color='r')"
   ]
  },
  {
   "cell_type": "code",
   "execution_count": 7,
   "metadata": {},
   "outputs": [
    {
     "data": {
      "text/plain": [
       "0.9999999999999999"
      ]
     },
     "execution_count": 7,
     "metadata": {},
     "output_type": "execute_result"
    }
   ],
   "source": [
    "np.linalg.norm(diff)"
   ]
  },
  {
   "cell_type": "code",
   "execution_count": 5,
   "metadata": {},
   "outputs": [],
   "source": [
    "plt.close()"
   ]
  },
  {
   "cell_type": "code",
   "execution_count": null,
   "metadata": {},
   "outputs": [],
   "source": []
  }
 ],
 "metadata": {
  "kernelspec": {
   "display_name": "Python 3",
   "language": "python",
   "name": "python3"
  },
  "language_info": {
   "codemirror_mode": {
    "name": "ipython",
    "version": 3
   },
   "file_extension": ".py",
   "mimetype": "text/x-python",
   "name": "python",
   "nbconvert_exporter": "python",
   "pygments_lexer": "ipython3",
   "version": "3.7.3"
  }
 },
 "nbformat": 4,
 "nbformat_minor": 4
}
