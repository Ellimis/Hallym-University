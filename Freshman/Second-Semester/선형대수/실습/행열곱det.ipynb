{
 "cells": [
  {
   "cell_type": "markdown",
   "metadata": {},
   "source": [
    "## $det(AB)=det(A)det(B)$\n",
    "- ### 기본 행연산 (열연산을 포함한다.)\n",
    ">1. replacement: 어떤 행을 그 행과 다른 행에 실수를 곱해서 더한 것으로 대체\n",
    ">2. Interchange: 두 행을 서로 바꿈\n",
    ">3. Scaling: 한 행에 0이 아닌 실수를 곱함\n",
    "\n",
    "- **기본행렬**\n",
    "> - dentity matrix에 기본행연산을 해서 만든 행렬\n",
    "> - 어떤 행렬에 기본행렬을 곱하면 해당 행연산을 하는 효과를 보인다.\n",
    "\n",
    "- ### $det(EA)=det(E)det(A)$\n",
    ">- 기본 행렬과 곱의 determinant는 각각의 determinant의 곱과 같다. $\\Leftarrow$ 정리 1.8과 1.9에 의하여\n",
    ">> - 정리 1.8(2) interchange: A의 두 행을 교환한 행렬을 B라고 하면 $det(B)=-det(A)$\n",
    ">> - 정리 1.9(1) scaling: A이 한 행에 상수 $k$를 곱해서 만든 행렬을 B라고 하고 하면 $det(B)=kdet(A)$\n",
    ">> - 정리 1.9(3) replacement: A의 어떤 행을 그 행과 다른 행에 상수를 곱해서 만든 행으로 대체 한 행렬을 B라고 하면 $det(B)=det(A)$\n",
    "\n",
    "- ### 기본행렬의 determinant\n",
    "> - replacement: $E_r=\\begin{bmatrix}1 & 0 & -3\\\\ 0 & 1 & 0\\\\ 0 & 0 & 1\\end{bmatrix} \\Leftarrow det(E_r)=1$\n",
    "> - interchange: $E_i=\\begin{bmatrix}0 & 1 & 0\\\\ 1&  0&  0\\\\ 0&  0&  1 \\end{bmatrix} \\Leftarrow det(E_i)=-1$ \n",
    "> - scaling: $E_s=\\begin{bmatrix}1 & 0 & 0\\\\ 0 & 1 & 0\\\\ 0 & 0 & 2 \\end{bmatrix} \\Leftarrow det(E_s)=2$"
   ]
  },
  {
   "cell_type": "markdown",
   "metadata": {},
   "source": [
    "## 예제\n",
    "$A=\\begin{bmatrix} 0 & 1 & 2\\\\1 & 0 & 3\\\\4 & -3 & 8 \\end{bmatrix}$\n",
    "\n",
    "$E_1=\\begin{bmatrix}0 & 1 & 0\\\\ 1&  0&  0\\\\ 0&  0&  1 \\end{bmatrix}$\n",
    "$E_2=\\begin{bmatrix}1 & 0 & 0\\\\ 0 & 1 & 0\\\\ -4 & 0 & 1\\end{bmatrix}$\n",
    "$E_3=\\begin{bmatrix}1 & 0 & 0\\\\ 0 & 1 & 0\\\\ 0 & 3 & 1 \\end{bmatrix}$\n",
    "$E_4=\\begin{bmatrix}1 & 0 & 0\\\\ 0 & 1 & 0\\\\ 0 & 0 & 0.5 \\end{bmatrix}$\n",
    "$E_5=\\begin{bmatrix}1 & 0 & 0\\\\ 0 & 1 & –2\\\\ 0 & 0 & 1\\end{bmatrix}$\n",
    "$E_6=\\begin{bmatrix}1 & 0 & -3\\\\ 0 & 1 & 0\\\\ 0 & 0 & 1\\end{bmatrix}$\n",
    "\n",
    "$E_1^{-1}=\\begin{bmatrix}0 & 1 & 0\\\\ 1&  0&  0\\\\ 0&  0&  1 \\end{bmatrix}$\n",
    "$E_2^{-1}=\\begin{bmatrix}1 & 0 & 0\\\\ 0 & 1 & 0\\\\ 4 & 0 & 1\\end{bmatrix}$\n",
    "$E_3^{-1}=\\begin{bmatrix}1 & 0 & 0\\\\ 0 & 1 & 0\\\\ 0 & -3 & 1 \\end{bmatrix}$\n",
    "$E_4^{-1}=\\begin{bmatrix}1 & 0 & 0\\\\ 0 & 1 & 0\\\\ 0 & 0 & 2 \\end{bmatrix}$\n",
    "$E_5^{-1}=\\begin{bmatrix}1 & 0 & 0\\\\ 0 & 1 & 2\\\\ 0 & 0 & 1\\end{bmatrix}$\n",
    "$E_6^{-1}=\\begin{bmatrix}1 & 0 & 3\\\\ 0 & 1 & 0\\\\ 0 & 0 & 1\\end{bmatrix}$\n"
   ]
  },
  {
   "cell_type": "code",
   "execution_count": 1,
   "metadata": {},
   "outputs": [],
   "source": [
    "import numpy as np\n",
    "\n",
    "A=np.array([[0, 1, 2],[1, 0, 3],[4, -3, 8]])\n",
    "E1=np.array([[0, 1, 0],[1, 0, 0],[0 ,0, 1]])\n",
    "E2=np.array([[1, 0, 0],[0, 1, 0],[-4, 0, 1]])\n",
    "E3=np.array([[1, 0, 0],[0, 1, 0],[0, 3, 1]])\n",
    "E4=np.array([[1, 0, 0],[0, 1, 0],[0, 0, 0.5]])\n",
    "E5=np.array([[1, 0, 0],[0, 1, -2],[0, 0, 1]])\n",
    "E6=np.array([[1, 0, -3],[0, 1, 0],[0, 0, 1]])\n",
    "\n",
    "e1=np.array([[0, 1, 0],[1, 0, 0],[0 ,0, 1]])\n",
    "e2=np.array([[1, 0, 0],[0, 1, 0],[4, 0, 1]])\n",
    "e3=np.array([[1, 0, 0],[0, 1, 0],[0, -3, 1]])\n",
    "e4=np.array([[1, 0, 0],[0, 1, 0],[0, 0, 2]])\n",
    "e5=np.array([[1, 0, 0],[0, 1, 2],[0, 0, 1]])\n",
    "e6=np.array([[1, 0, 3],[0, 1, 0],[0, 0, 1]])"
   ]
  },
  {
   "cell_type": "code",
   "execution_count": 2,
   "metadata": {},
   "outputs": [
    {
     "name": "stdout",
     "output_type": "stream",
     "text": [
      "[[1 0 0]\n",
      " [0 1 0]\n",
      " [0 0 1]]\n",
      "[[1 0 0]\n",
      " [0 1 0]\n",
      " [0 0 1]]\n",
      "[[1 0 0]\n",
      " [0 1 0]\n",
      " [0 0 1]]\n",
      "[[1. 0. 0.]\n",
      " [0. 1. 0.]\n",
      " [0. 0. 1.]]\n",
      "[[1 0 0]\n",
      " [0 1 0]\n",
      " [0 0 1]]\n",
      "[[1 0 0]\n",
      " [0 1 0]\n",
      " [0 0 1]]\n"
     ]
    }
   ],
   "source": [
    "# 상기 역행렬 확인\n",
    "print(np.dot(E1,e1))\n",
    "print(np.dot(E2,e2))\n",
    "print(np.dot(E3,e3))\n",
    "print(np.dot(E4,e4))\n",
    "print(np.dot(E5,e5))\n",
    "print(np.dot(E6,e6))"
   ]
  },
  {
   "cell_type": "markdown",
   "metadata": {},
   "source": [
    "---"
   ]
  },
  {
   "cell_type": "markdown",
   "metadata": {},
   "source": [
    "$E_1$ 부터 $E_6$ 까지 차례대로 곱하면 identity matrix가 된다.\n",
    "\n",
    "$E_6E_5E_4E_3E_2E_1A=I$"
   ]
  },
  {
   "cell_type": "code",
   "execution_count": 20,
   "metadata": {},
   "outputs": [
    {
     "name": "stdout",
     "output_type": "stream",
     "text": [
      "[[ 0  1  2]\n",
      " [ 1  0  3]\n",
      " [ 4 -3  8]]\n",
      "[[ 1  0  3]\n",
      " [ 0  1  2]\n",
      " [ 4 -3  8]]\n",
      "[[ 1  0  0]\n",
      " [ 0  1  0]\n",
      " [-4  0  1]]\n"
     ]
    }
   ],
   "source": [
    "A1=np.dot(E1,A)\n",
    "print(A)\n",
    "print(A1)\n",
    "print(E2)"
   ]
  },
  {
   "cell_type": "code",
   "execution_count": 26,
   "metadata": {},
   "outputs": [
    {
     "name": "stdout",
     "output_type": "stream",
     "text": [
      "[[ 1  0  0]\n",
      " [ 0  1  0]\n",
      " [-4  0  1]]\n",
      "[[ 1  0  3]\n",
      " [ 0  1  2]\n",
      " [ 0 -3 -4]]\n"
     ]
    }
   ],
   "source": [
    "A2=np.dot(E2,A1)\n",
    "print(E2)\n",
    "print(A2)"
   ]
  },
  {
   "cell_type": "code",
   "execution_count": 27,
   "metadata": {},
   "outputs": [
    {
     "name": "stdout",
     "output_type": "stream",
     "text": [
      "[[1 0 0]\n",
      " [0 1 0]\n",
      " [0 3 1]]\n",
      "[[1 0 3]\n",
      " [0 1 2]\n",
      " [0 0 2]]\n"
     ]
    }
   ],
   "source": [
    "A3=np.dot(E3,A2)\n",
    "print(E3)\n",
    "print(A3)"
   ]
  },
  {
   "cell_type": "code",
   "execution_count": 28,
   "metadata": {},
   "outputs": [
    {
     "name": "stdout",
     "output_type": "stream",
     "text": [
      "[[1.  0.  0. ]\n",
      " [0.  1.  0. ]\n",
      " [0.  0.  0.5]]\n",
      "[[1. 0. 3.]\n",
      " [0. 1. 2.]\n",
      " [0. 0. 1.]]\n"
     ]
    }
   ],
   "source": [
    "A4=np.dot(E4,A3)\n",
    "print(E4)\n",
    "print(A4)"
   ]
  },
  {
   "cell_type": "code",
   "execution_count": 29,
   "metadata": {},
   "outputs": [
    {
     "name": "stdout",
     "output_type": "stream",
     "text": [
      "[[ 1  0  0]\n",
      " [ 0  1 -2]\n",
      " [ 0  0  1]]\n",
      "[[1. 0. 3.]\n",
      " [0. 1. 0.]\n",
      " [0. 0. 1.]]\n"
     ]
    }
   ],
   "source": [
    "A5=np.dot(E5,A4)\n",
    "print(E5)\n",
    "print(A5)"
   ]
  },
  {
   "cell_type": "code",
   "execution_count": 30,
   "metadata": {},
   "outputs": [
    {
     "name": "stdout",
     "output_type": "stream",
     "text": [
      "[[ 1  0 -3]\n",
      " [ 0  1  0]\n",
      " [ 0  0  1]]\n",
      "[[1. 0. 0.]\n",
      " [0. 1. 0.]\n",
      " [0. 0. 1.]]\n"
     ]
    }
   ],
   "source": [
    "A6=np.dot(E6,A5)\n",
    "print(E6)\n",
    "print(A6)"
   ]
  },
  {
   "cell_type": "markdown",
   "metadata": {},
   "source": [
    "---\n",
    "반대로 identity matrix에 역행렬을 꺼꾸로 곱해 나가면 A 행렬이 된다.\n",
    "\n",
    "$e_6E_6E_5E_4E_3E_2E_1A=e_6I \\rightarrow E_5E_4E_3E_2E_1A=e_6I$<br>\n",
    "$e_5E_5E_4E_3E_2E_1A=e_5e_6I \\rightarrow E_4E_3E_2E_1A=e_5e_6I$<br>\n",
    "$e_4E_4E_3E_2E_1A=e_4e_5e_6I \\rightarrow E_3E_2E_1A=e_4e_5e_6I$<br>\n",
    "$e_3E_3E_2E_1A=e_3e_4e_5e_6I \\rightarrow E_2E_1A=e_3e_4e_5e_6I$<br>\n",
    "$e_2E_2E_1A=e_2e_3e_4e_5e_6I \\rightarrow E_1A=e_2e_3e_4e_5e_6I$<br>\n",
    "$e_1E_1A=e_1e_2e_3e_4e_5e_6I \\rightarrow A=e_1e_2e_3e_4e_5e_6I$<br>"
   ]
  },
  {
   "cell_type": "markdown",
   "metadata": {},
   "source": [
    "행렬을 identity matrix에 기본행연산을 여러번 적용해서 만들 수 있다. (determinant가 0이 아닌 행렬)<br>\n",
    "$A=E_pE_{p-1} ... E_1 I$<br>\n",
    "$B=E_qE_{q-1} ... E_1 I$<br>\n",
    "$det(AB)=det(E_pE_{p-1} ... E_1 IB)=det(E_pE_{p-1} ... E_1B)$<br>\n",
    "\n",
    "- 기본행연산과의 곱의 determinant는 각각의 determinant의 곱과 같다.\n",
    "\n",
    "$det(AB)=det(E_p)det(E_{p-1} ... E_1 IB)$ <br>\n",
    "$det(AB)=det(E_p)det(E_{p-1})det(E_{p-2} ... E_1 IB)$ <br>\n",
    "$\\cdot$<br>\n",
    "$\\cdot$<br>\n",
    "$\\cdot$<br>\n",
    "$det(AB)=det(E_p)det(E_{p-1})...det(E_1)det(B)$\n",
    "\n",
    "- A 부분을 다시 합친다.\n",
    "\n",
    "$det(AB)=det(E_pE_{p-1})...det(E_1)det(B)$ <br>\n",
    "$det(AB)=det(E_pE_{p-1}...E_1)det(B)$<br>\n",
    "$\\cdot$<br>\n",
    "$\\cdot$<br>\n",
    "$\\cdot$<br>\n",
    "$det(AB)=det(A)det(B)$"
   ]
  }
 ],
 "metadata": {
  "kernelspec": {
   "display_name": "Python 3",
   "language": "python",
   "name": "python3"
  },
  "language_info": {
   "codemirror_mode": {
    "name": "ipython",
    "version": 3
   },
   "file_extension": ".py",
   "mimetype": "text/x-python",
   "name": "python",
   "nbconvert_exporter": "python",
   "pygments_lexer": "ipython3",
   "version": "3.7.3"
  }
 },
 "nbformat": 4,
 "nbformat_minor": 4
}
