{
 "cells": [
  {
   "cell_type": "code",
   "execution_count": 24,
   "metadata": {},
   "outputs": [],
   "source": [
    "import numpy as np"
   ]
  },
  {
   "cell_type": "markdown",
   "metadata": {},
   "source": [
    "## 1. for loop 이용하여 해 구하기"
   ]
  },
  {
   "cell_type": "code",
   "execution_count": 35,
   "metadata": {},
   "outputs": [
    {
     "name": "stdout",
     "output_type": "stream",
     "text": [
      "[[ 1 -3 -2  4  2]\n",
      " [ 1  2  4 -2  5]\n",
      " [ 2  6  7 -6  6]\n",
      " [ 4 -5  2  5  5]]\n"
     ]
    }
   ],
   "source": [
    "A=np.array([[1, -3, -2, 4], [1, 2, 4, -2], [2, 6, 7, -6], [4, -5, 2, 5]])\n",
    "B=np.array([[2],[5],[6],[5]])\n",
    "aug = np.column_stack((A, B))\n",
    "print(aug)"
   ]
  },
  {
   "cell_type": "code",
   "execution_count": 36,
   "metadata": {},
   "outputs": [
    {
     "data": {
      "text/plain": [
       "array([[ 1, -3, -2,  4,  2],\n",
       "       [ 0,  5,  6, -6,  3],\n",
       "       [ 2,  6,  7, -6,  6],\n",
       "       [ 4, -5,  2,  5,  5]])"
      ]
     },
     "execution_count": 36,
     "metadata": {},
     "output_type": "execute_result"
    }
   ],
   "source": [
    "aug[1, :]-=aug[0, :]\n",
    "aug"
   ]
  },
  {
   "cell_type": "code",
   "execution_count": 37,
   "metadata": {},
   "outputs": [
    {
     "data": {
      "text/plain": [
       "array([[  1,  -3,  -2,   4,   2],\n",
       "       [  0,   5,   6,  -6,   3],\n",
       "       [  0,  12,  11, -14,   2],\n",
       "       [  4,  -5,   2,   5,   5]])"
      ]
     },
     "execution_count": 37,
     "metadata": {},
     "output_type": "execute_result"
    }
   ],
   "source": [
    "aug[2, :]-=2*aug[0,:]\n",
    "aug"
   ]
  },
  {
   "cell_type": "code",
   "execution_count": 38,
   "metadata": {},
   "outputs": [
    {
     "data": {
      "text/plain": [
       "array([[  1,  -3,  -2,   4,   2],\n",
       "       [  0,   5,   6,  -6,   3],\n",
       "       [  0,  12,  11, -14,   2],\n",
       "       [  0,   7,  10, -11,  -3]])"
      ]
     },
     "execution_count": 38,
     "metadata": {},
     "output_type": "execute_result"
    }
   ],
   "source": [
    "aug[3, :]-=4*aug[0, :]\n",
    "aug"
   ]
  },
  {
   "cell_type": "code",
   "execution_count": 39,
   "metadata": {},
   "outputs": [
    {
     "data": {
      "text/plain": [
       "array([[  1,  -3,  -2,   4,   2],\n",
       "       [  0,   1,   1,  -1,   0],\n",
       "       [  0,   0,  -1,  -2,   2],\n",
       "       [  0,   7,  10, -11,  -3]])"
      ]
     },
     "execution_count": 39,
     "metadata": {},
     "output_type": "execute_result"
    }
   ],
   "source": [
    "aug[1, :] = aug[1, :]/5\n",
    "aug[2, :] -= aug[1, :]*12\n",
    "aug"
   ]
  },
  {
   "cell_type": "code",
   "execution_count": 40,
   "metadata": {},
   "outputs": [
    {
     "data": {
      "text/plain": [
       "array([[  1,  -3,  -2,   4,   2],\n",
       "       [  0,   1,   1,  -1,   0],\n",
       "       [  0,   0,   1,   2,  -2],\n",
       "       [  0,   7,  10, -11,  -3]])"
      ]
     },
     "execution_count": 40,
     "metadata": {},
     "output_type": "execute_result"
    }
   ],
   "source": [
    "aug[2, :]*=(-1)\n",
    "aug"
   ]
  },
  {
   "cell_type": "code",
   "execution_count": 41,
   "metadata": {},
   "outputs": [
    {
     "data": {
      "text/plain": [
       "array([[ 1, -3, -2,  4,  2],\n",
       "       [ 0,  1,  1, -1,  0],\n",
       "       [ 0,  0,  1,  2, -2],\n",
       "       [ 0,  0,  3, -4, -3]])"
      ]
     },
     "execution_count": 41,
     "metadata": {},
     "output_type": "execute_result"
    }
   ],
   "source": [
    "aug[3, :]-=7*aug[1,:]\n",
    "aug"
   ]
  },
  {
   "cell_type": "code",
   "execution_count": 42,
   "metadata": {},
   "outputs": [
    {
     "data": {
      "text/plain": [
       "array([[  1,  -3,  -2,   4,   2],\n",
       "       [  0,   1,   1,  -1,   0],\n",
       "       [  0,   0,   1,   2,  -2],\n",
       "       [  0,   0,   0, -10,   3]])"
      ]
     },
     "execution_count": 42,
     "metadata": {},
     "output_type": "execute_result"
    }
   ],
   "source": [
    "aug[3, :]-=3*aug[2, :]\n",
    "aug"
   ]
  },
  {
   "cell_type": "code",
   "execution_count": 43,
   "metadata": {},
   "outputs": [
    {
     "name": "stdout",
     "output_type": "stream",
     "text": [
      "[[  1  -3  -2   4]\n",
      " [  0   1   1  -1]\n",
      " [  0   0   1   2]\n",
      " [  0   0   0 -10]] [ 2  0 -2  3]\n"
     ]
    }
   ],
   "source": [
    "r, c=np.shape(aug)\n",
    "a=np.copy(aug[:, 0:c-1])\n",
    "b=np.copy(aug[:, -1])\n",
    "print(a, b)"
   ]
  },
  {
   "cell_type": "code",
   "execution_count": 44,
   "metadata": {},
   "outputs": [
    {
     "name": "stdout",
     "output_type": "stream",
     "text": [
      "[[ 3.7]\n",
      " [ 1.1]\n",
      " [-1.4]\n",
      " [-0.3]]\n"
     ]
    }
   ],
   "source": [
    "n=c-1\n",
    "x=np.zeros((n, 1))\n",
    "for i in range(n-1, -1, -1):\n",
    "    x[i]=(b[i]-np.dot(a[i, :], x))/a[i,i]\n",
    "print(x)"
   ]
  },
  {
   "cell_type": "markdown",
   "metadata": {},
   "source": [
    "## 2. sympy 와 rref 함수를 이용하여 구한 기약행사다리꼴과 비교"
   ]
  },
  {
   "cell_type": "code",
   "execution_count": 45,
   "metadata": {},
   "outputs": [],
   "source": [
    "C=np.array([[1, 1, 2], [-1, -2, 3], [3, -7, 4]])\n",
    "D=np.array([[8], [1], [10]])\n",
    "Aug = np.column_stack((C, D))"
   ]
  },
  {
   "cell_type": "code",
   "execution_count": 46,
   "metadata": {},
   "outputs": [],
   "source": [
    "from sympy import *"
   ]
  },
  {
   "cell_type": "code",
   "execution_count": 47,
   "metadata": {},
   "outputs": [
    {
     "data": {
      "text/plain": [
       "(Matrix([\n",
       " [1, 0, 0, 3],\n",
       " [0, 1, 0, 1],\n",
       " [0, 0, 1, 2]]), (0, 1, 2))"
      ]
     },
     "execution_count": 47,
     "metadata": {},
     "output_type": "execute_result"
    }
   ],
   "source": [
    "Matrix(Aug).rref()"
   ]
  },
  {
   "cell_type": "markdown",
   "metadata": {},
   "source": [
    "* 손으로 푼 것과 x1, x2, x3 의 해가 같다"
   ]
  },
  {
   "cell_type": "code",
   "execution_count": null,
   "metadata": {},
   "outputs": [],
   "source": []
  }
 ],
 "metadata": {
  "kernelspec": {
   "display_name": "Python 3",
   "language": "python",
   "name": "python3"
  },
  "language_info": {
   "codemirror_mode": {
    "name": "ipython",
    "version": 3
   },
   "file_extension": ".py",
   "mimetype": "text/x-python",
   "name": "python",
   "nbconvert_exporter": "python",
   "pygments_lexer": "ipython3",
   "version": "3.7.3"
  }
 },
 "nbformat": 4,
 "nbformat_minor": 4
}
