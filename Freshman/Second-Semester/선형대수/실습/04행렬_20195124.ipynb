{
 "cells": [
  {
   "cell_type": "code",
   "execution_count": 1,
   "metadata": {},
   "outputs": [],
   "source": [
    "import numpy as np"
   ]
  },
  {
   "cell_type": "markdown",
   "metadata": {},
   "source": [
    "## 1. 연립방정식의 첨가행렬과 상삼각행렬의 과정, 후치법을 이용한 해를 보이시오.\n",
    "> ***손으로 직접 하는 것 포함***"
   ]
  },
  {
   "cell_type": "markdown",
   "metadata": {},
   "source": [
    " - 1번째 행렬"
   ]
  },
  {
   "cell_type": "code",
   "execution_count": 2,
   "metadata": {},
   "outputs": [
    {
     "name": "stdout",
     "output_type": "stream",
     "text": [
      "[[ 5. -3.  5.  1.]\n",
      " [ 3.  4.  2.  5.]\n",
      " [ 4.  6. -7. 10.]]\n"
     ]
    }
   ],
   "source": [
    "A=np.array([[5., -3, 5], [3, 4, 2], [4, 6, -7]])\n",
    "b=np.array([[1], [5], [10]])\n",
    "Aug = np.column_stack((A, b))\n",
    "print(Aug)"
   ]
  },
  {
   "cell_type": "code",
   "execution_count": 3,
   "metadata": {},
   "outputs": [
    {
     "name": "stdout",
     "output_type": "stream",
     "text": [
      "[[ 5.  -3.   5.   1. ]\n",
      " [ 0.   5.8 -1.   4.4]\n",
      " [ 4.   6.  -7.  10. ]]\n"
     ]
    }
   ],
   "source": [
    "Aug[1, :]=Aug[1, :]-Aug[0, :]*3/5\n",
    "print(Aug)"
   ]
  },
  {
   "cell_type": "code",
   "execution_count": 4,
   "metadata": {},
   "outputs": [
    {
     "name": "stdout",
     "output_type": "stream",
     "text": [
      "[[  5.   -3.    5.    1. ]\n",
      " [  0.    5.8  -1.    4.4]\n",
      " [  0.    8.4 -11.    9.2]]\n"
     ]
    }
   ],
   "source": [
    "Aug[2, :]=Aug[2, :]-Aug[0, :]*4/5\n",
    "print(Aug)"
   ]
  },
  {
   "cell_type": "code",
   "execution_count": 5,
   "metadata": {},
   "outputs": [
    {
     "name": "stdout",
     "output_type": "stream",
     "text": [
      "[[ 5.   -3.    5.    1.  ]\n",
      " [ 0.    5.8  -1.    4.4 ]\n",
      " [ 0.   -0.88 -9.4   2.16]]\n"
     ]
    }
   ],
   "source": [
    "Aug[2, :]=Aug[2, :]-Aug[1, :]*8/5\n",
    "print(Aug)"
   ]
  },
  {
   "cell_type": "markdown",
   "metadata": {},
   "source": [
    "## **후치법** 이용"
   ]
  },
  {
   "cell_type": "code",
   "execution_count": 6,
   "metadata": {},
   "outputs": [
    {
     "name": "stdout",
     "output_type": "stream",
     "text": [
      "[[ 0.86118855]\n",
      " [ 0.7190022 ]\n",
      " [-0.22978723]]\n"
     ]
    }
   ],
   "source": [
    "x3=Aug[2,3]/Aug[2,2]\n",
    "x2=(x3+Aug[1,3])/Aug[1,1]\n",
    "x1=(x2*3+x3*(-5)+Aug[0, 3])/Aug[0,0]\n",
    "print(np.array([[x1], [x2], [x3]]))"
   ]
  },
  {
   "cell_type": "markdown",
   "metadata": {},
   "source": [
    "## **for loop** 이용"
   ]
  },
  {
   "cell_type": "code",
   "execution_count": 7,
   "metadata": {},
   "outputs": [
    {
     "name": "stdout",
     "output_type": "stream",
     "text": [
      "[[ 5.   -3.    5.  ]\n",
      " [ 0.    5.8  -1.  ]\n",
      " [ 0.   -0.88 -9.4 ]] [1.   4.4  2.16]\n"
     ]
    }
   ],
   "source": [
    "r,c=np.shape(Aug)\n",
    "A=np.copy(Aug[:,0:c-1])\n",
    "b=np.copy(Aug[:,-1])\n",
    "print(A,b)"
   ]
  },
  {
   "cell_type": "code",
   "execution_count": 8,
   "metadata": {},
   "outputs": [
    {
     "name": "stdout",
     "output_type": "stream",
     "text": [
      "[[ 0.86118855]\n",
      " [ 0.7190022 ]\n",
      " [-0.22978723]]\n"
     ]
    }
   ],
   "source": [
    "n=c-1\n",
    "x=np.zeros((n, 1))\n",
    "for i in range(n-1, -1, -1):\n",
    "    x[i] = (b[i]-np.dot(A[i, :], x)) /A[i,i]\n",
    "print(x)"
   ]
  },
  {
   "cell_type": "markdown",
   "metadata": {},
   "source": [
    " - 2번째 행렬"
   ]
  },
  {
   "cell_type": "code",
   "execution_count": 9,
   "metadata": {},
   "outputs": [
    {
     "name": "stdout",
     "output_type": "stream",
     "text": [
      "[[ 1  2  3 11]\n",
      " [ 3 -1  2 12]\n",
      " [ 2 -2  1  2]]\n"
     ]
    }
   ],
   "source": [
    "a=np.array([[1, 2, 3], [3, -1, 2], [2, -2, 1]])\n",
    "B=np.array([[11], [12], [2]])\n",
    "aug = np.column_stack((a, B))\n",
    "print(aug)"
   ]
  },
  {
   "cell_type": "code",
   "execution_count": 10,
   "metadata": {},
   "outputs": [
    {
     "name": "stdout",
     "output_type": "stream",
     "text": [
      "[[  1   2   3  11]\n",
      " [  0  -7  -7 -21]\n",
      " [  2  -2   1   2]]\n"
     ]
    }
   ],
   "source": [
    "aug[1, :]-=aug[0, :]*3\n",
    "print(aug)"
   ]
  },
  {
   "cell_type": "code",
   "execution_count": 11,
   "metadata": {},
   "outputs": [
    {
     "name": "stdout",
     "output_type": "stream",
     "text": [
      "[[  1   2   3  11]\n",
      " [  0  -7  -7 -21]\n",
      " [  0  -6  -5 -20]]\n"
     ]
    }
   ],
   "source": [
    "aug[2, :]-=aug[0, :]*2\n",
    "print(aug)"
   ]
  },
  {
   "cell_type": "code",
   "execution_count": 12,
   "metadata": {},
   "outputs": [
    {
     "name": "stdout",
     "output_type": "stream",
     "text": [
      "[[  1   2   3  11]\n",
      " [  0   1   1   3]\n",
      " [  0  -6  -5 -20]]\n"
     ]
    }
   ],
   "source": [
    "aug[1, :]=aug[1, :]/(-7)\n",
    "print(aug)"
   ]
  },
  {
   "cell_type": "code",
   "execution_count": 13,
   "metadata": {},
   "outputs": [
    {
     "name": "stdout",
     "output_type": "stream",
     "text": [
      "[[ 1  2  3 11]\n",
      " [ 0  1  1  3]\n",
      " [ 0  0  1 -2]]\n"
     ]
    }
   ],
   "source": [
    "aug[2, :]+=aug[1, :]*6\n",
    "print(aug)"
   ]
  },
  {
   "cell_type": "markdown",
   "metadata": {},
   "source": [
    "## **후치법** 이용"
   ]
  },
  {
   "cell_type": "code",
   "execution_count": 14,
   "metadata": {},
   "outputs": [
    {
     "name": "stdout",
     "output_type": "stream",
     "text": [
      "[[ 7]\n",
      " [ 5]\n",
      " [-2]]\n"
     ]
    }
   ],
   "source": [
    "x3=aug[2,3]\n",
    "x2=aug[1,3]-x3\n",
    "x1=aug[0,3]-2*x2-3*x3\n",
    "print(np.array([[x1], [x2], [x3]]))"
   ]
  },
  {
   "cell_type": "markdown",
   "metadata": {},
   "source": [
    "## **for loop** 이용"
   ]
  },
  {
   "cell_type": "code",
   "execution_count": 18,
   "metadata": {},
   "outputs": [
    {
     "name": "stdout",
     "output_type": "stream",
     "text": [
      "[[1 2 3]\n",
      " [0 1 1]\n",
      " [0 0 1]] [11  3 -2]\n"
     ]
    }
   ],
   "source": [
    "r,c=np.shape(aug)\n",
    "a=np.copy(aug[:, 0:c-1])\n",
    "B=np.copy(aug[:,-1])\n",
    "print(a,B)"
   ]
  },
  {
   "cell_type": "code",
   "execution_count": 19,
   "metadata": {},
   "outputs": [
    {
     "name": "stdout",
     "output_type": "stream",
     "text": [
      "[[ 7.]\n",
      " [ 5.]\n",
      " [-2.]]\n"
     ]
    }
   ],
   "source": [
    "n=c-1\n",
    "X=np.zeros((n, 1))\n",
    "for i in range(n-1, -1, -1):\n",
    "    X[i] = (B[i]-np.dot(a[i, :], X)) /a[i,i]\n",
    "print(X)"
   ]
  },
  {
   "cell_type": "markdown",
   "metadata": {},
   "source": [
    "## 연립방정식의 첨가 행렬을 행사다리꼴로 바꿔라\n",
    "> 해도 구하기"
   ]
  },
  {
   "cell_type": "code",
   "execution_count": 130,
   "metadata": {},
   "outputs": [
    {
     "name": "stdout",
     "output_type": "stream",
     "text": [
      "[[  1.   2.  -1.  -2.   2.]\n",
      " [ -4.  -8.   5.   6.  -6.]\n",
      " [  2.   4.  -3.  -2.   3.]\n",
      " [  3.   6.  -1. -10.   9.]]\n"
     ]
    }
   ],
   "source": [
    "D=np.array([[1., 2, -1, -2], [-4, -8, 5, 6], [2, 4, -3, -2], [3, 6, -1, -10]])\n",
    "F=np.array([[2], [-6], [3], [9]])\n",
    "aa = np.column_stack((D, F))\n",
    "print(aa)"
   ]
  },
  {
   "cell_type": "code",
   "execution_count": 131,
   "metadata": {},
   "outputs": [
    {
     "name": "stdout",
     "output_type": "stream",
     "text": [
      "[[  1.   2.  -1.  -2.   2.]\n",
      " [  2.   4.  -3.  -2.   3.]\n",
      " [ -4.  -8.   5.   6.  -6.]\n",
      " [  3.   6.  -1. -10.   9.]]\n"
     ]
    }
   ],
   "source": [
    "temp=np.copy(aa[2, :])\n",
    "aa[2, :]=aa[1, :]\n",
    "aa[1, :]=temp\n",
    "print(aa)"
   ]
  },
  {
   "cell_type": "code",
   "execution_count": 132,
   "metadata": {},
   "outputs": [
    {
     "name": "stdout",
     "output_type": "stream",
     "text": [
      "[[  1.   2.  -1.  -2.   2.]\n",
      " [  0.   0.  -1.   2.  -1.]\n",
      " [ -4.  -8.   5.   6.  -6.]\n",
      " [  3.   6.  -1. -10.   9.]]\n"
     ]
    }
   ],
   "source": [
    "aa[1, :]-=aa[0, :]*2\n",
    "print(aa)"
   ]
  },
  {
   "cell_type": "code",
   "execution_count": 133,
   "metadata": {},
   "outputs": [
    {
     "name": "stdout",
     "output_type": "stream",
     "text": [
      "[[  1.   2.  -1.  -2.   2.]\n",
      " [  0.   0.  -1.   2.  -1.]\n",
      " [  0.   0.   1.  -2.   2.]\n",
      " [  3.   6.  -1. -10.   9.]]\n"
     ]
    }
   ],
   "source": [
    "aa[2, :]+=aa[0, :]*4\n",
    "print(aa)"
   ]
  },
  {
   "cell_type": "code",
   "execution_count": 134,
   "metadata": {},
   "outputs": [
    {
     "name": "stdout",
     "output_type": "stream",
     "text": [
      "[[ 1.  2. -1. -2.  2.]\n",
      " [ 0.  0. -1.  2. -1.]\n",
      " [ 0.  0.  1. -2.  2.]\n",
      " [ 0.  0.  2. -4.  3.]]\n"
     ]
    }
   ],
   "source": [
    "aa[3, :]-=aa[0, :]*3\n",
    "print(aa)"
   ]
  },
  {
   "cell_type": "code",
   "execution_count": 135,
   "metadata": {},
   "outputs": [
    {
     "name": "stdout",
     "output_type": "stream",
     "text": [
      "[[ 1.  2. -1. -2.  2.]\n",
      " [-0. -0.  1. -2.  1.]\n",
      " [ 0.  0.  1. -2.  2.]\n",
      " [ 0.  0.  2. -4.  3.]]\n"
     ]
    }
   ],
   "source": [
    "aa[1, :]=aa[1, :]*(-1)\n",
    "print(aa)"
   ]
  },
  {
   "cell_type": "code",
   "execution_count": 136,
   "metadata": {},
   "outputs": [
    {
     "name": "stdout",
     "output_type": "stream",
     "text": [
      "[[ 1.  2. -1. -2.  2.]\n",
      " [-0. -0.  1. -2.  1.]\n",
      " [ 0.  0.  0.  0.  1.]\n",
      " [ 0.  0.  2. -4.  3.]]\n"
     ]
    }
   ],
   "source": [
    "aa[2, :]-=aa[1, :]\n",
    "print(aa)"
   ]
  },
  {
   "cell_type": "code",
   "execution_count": 137,
   "metadata": {},
   "outputs": [
    {
     "name": "stdout",
     "output_type": "stream",
     "text": [
      "[[ 1.  2. -1. -2.  2.]\n",
      " [-0. -0.  1. -2.  1.]\n",
      " [ 0.  0.  0.  0.  1.]\n",
      " [ 0.  0.  0.  0.  1.]]\n"
     ]
    }
   ],
   "source": [
    "aa[3, :]-=aa[1,:]*2\n",
    "print(aa)"
   ]
  },
  {
   "cell_type": "markdown",
   "metadata": {},
   "source": [
    "이를 보아 이 연립방정식의 해는 무수히 많다.\n",
    "미지수는 4개이나 식은 두개 밖에 없기 때문이다."
   ]
  },
  {
   "cell_type": "code",
   "execution_count": null,
   "metadata": {},
   "outputs": [],
   "source": []
  }
 ],
 "metadata": {
  "kernelspec": {
   "display_name": "Python 3",
   "language": "python",
   "name": "python3"
  },
  "language_info": {
   "codemirror_mode": {
    "name": "ipython",
    "version": 3
   },
   "file_extension": ".py",
   "mimetype": "text/x-python",
   "name": "python",
   "nbconvert_exporter": "python",
   "pygments_lexer": "ipython3",
   "version": "3.7.3"
  }
 },
 "nbformat": 4,
 "nbformat_minor": 4
}
