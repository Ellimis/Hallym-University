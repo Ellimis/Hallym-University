{
 "cells": [
  {
   "cell_type": "code",
   "execution_count": 1,
   "metadata": {},
   "outputs": [],
   "source": [
    "import matplotlib.pyplot as plt\n",
    "import numpy as np\n",
    "%matplotlib widget"
   ]
  },
  {
   "cell_type": "markdown",
   "metadata": {},
   "source": [
    "# 1. 다음을 따라 하라"
   ]
  },
  {
   "cell_type": "code",
   "execution_count": 2,
   "metadata": {},
   "outputs": [
    {
     "data": {
      "text/plain": [
       "([<matplotlib.axis.YTick at 0x193c55d84a8>,\n",
       "  <matplotlib.axis.YTick at 0x193c55c8d68>,\n",
       "  <matplotlib.axis.YTick at 0x193c55aec88>,\n",
       "  <matplotlib.axis.YTick at 0x193c58645f8>,\n",
       "  <matplotlib.axis.YTick at 0x193c5872668>,\n",
       "  <matplotlib.axis.YTick at 0x193c5872b00>,\n",
       "  <matplotlib.axis.YTick at 0x193c587b128>],\n",
       " <a list of 7 Text yticklabel objects>)"
      ]
     },
     "execution_count": 2,
     "metadata": {},
     "output_type": "execute_result"
    },
    {
     "data": {
      "image/png": "[encoded data removed]",
      "text/plain": [
       "<Figure size 432x288 with 1 Axes>"
      ]
     },
     "metadata": {
      "needs_background": "light"
     },
     "output_type": "display_data"
    }
   ],
   "source": [
    "ax = plt.gca()\n",
    "arg={'angles':'xy', 'scale_units':'xy', 'scale': 1}\n",
    "ax.grid()\n",
    "\n",
    "#(1) 벡터 그리기\n",
    "ax.quiver(1, 3, 1, 2, **arg)\n",
    "ax.quiver(2, 2, 6, 1, **arg)\n",
    "#ax.set_xlim(0, 10)\n",
    "#ax.set_ylim(0, 6)\n",
    "\n",
    "plt.xticks(np.arange(0, 10))\n",
    "plt.yticks(np.arange(0, 7))"
   ]
  },
  {
   "cell_type": "code",
   "execution_count": 3,
   "metadata": {},
   "outputs": [
    {
     "data": {
      "text/plain": [
       "([<matplotlib.axis.YTick at 0x193c58eacc0>,\n",
       "  <matplotlib.axis.YTick at 0x193c58ea5f8>,\n",
       "  <matplotlib.axis.YTick at 0x193c5471da0>,\n",
       "  <matplotlib.axis.YTick at 0x193c5921d30>,\n",
       "  <matplotlib.axis.YTick at 0x193c59282e8>,\n",
       "  <matplotlib.axis.YTick at 0x193c5928860>,\n",
       "  <matplotlib.axis.YTick at 0x193c5921198>],\n",
       " <a list of 7 Text yticklabel objects>)"
      ]
     },
     "execution_count": 3,
     "metadata": {},
     "output_type": "execute_result"
    },
    {
     "data": {
      "image/png": "[encoded data removed]",
      "text/plain": [
       "<Figure size 432x288 with 1 Axes>"
      ]
     },
     "metadata": {
      "needs_background": "light"
     },
     "output_type": "display_data"
    }
   ],
   "source": [
    "#(2) x, y 를 구하여 원 점을 시점으로 해라\n",
    "plt.close()\n",
    "ax = plt.gca()\n",
    "arg={'angles':'xy', 'scale_units':'xy', 'scale': 1}\n",
    "ax.grid()\n",
    "\n",
    "x = np.array([1, 2])\n",
    "y = np.array([6, 1])\n",
    "ax.quiver(0, 0, x[0], x[1], **arg)\n",
    "ax.quiver(0, 0, y[0], y[1], **arg)\n",
    "\n",
    "plt.xticks(np.arange(0, 10))\n",
    "plt.yticks(np.arange(0, 7))"
   ]
  },
  {
   "cell_type": "code",
   "execution_count": 4,
   "metadata": {},
   "outputs": [
    {
     "data": {
      "text/plain": [
       "([<matplotlib.axis.YTick at 0x193c596a588>,\n",
       "  <matplotlib.axis.YTick at 0x193c5963e48>,\n",
       "  <matplotlib.axis.YTick at 0x193c5963048>,\n",
       "  <matplotlib.axis.YTick at 0x193c59a1cf8>,\n",
       "  <matplotlib.axis.YTick at 0x193c59ac2b0>,\n",
       "  <matplotlib.axis.YTick at 0x193c59ac828>,\n",
       "  <matplotlib.axis.YTick at 0x193c59acda0>,\n",
       "  <matplotlib.axis.YTick at 0x193c59b2358>],\n",
       " <a list of 8 Text yticklabel objects>)"
      ]
     },
     "execution_count": 4,
     "metadata": {},
     "output_type": "execute_result"
    },
    {
     "data": {
      "image/png": "[encoded data removed]",
      "text/plain": [
       "<Figure size 432x288 with 1 Axes>"
      ]
     },
     "metadata": {
      "needs_background": "light"
     },
     "output_type": "display_data"
    }
   ],
   "source": [
    "#(3) z= x+y, w= x-y 를 구해라\n",
    "z = x+y\n",
    "w = x-y\n",
    "\n",
    "#(4) 위 z, w 벡터를 원점으로 해서 추가\n",
    "ax.quiver(0, 0, z[0], z[1], **arg)\n",
    "ax.quiver(0, 0, w[0], w[1], **arg)\n",
    "\n",
    "plt.xticks(np.arange(-8, 10))\n",
    "plt.yticks(np.arange(0, 8))"
   ]
  },
  {
   "cell_type": "code",
   "execution_count": 5,
   "metadata": {},
   "outputs": [
    {
     "data": {
      "text/plain": [
       "([<matplotlib.axis.YTick at 0x1c8cae8d198>,\n",
       "  <matplotlib.axis.YTick at 0x1c8cae88a90>,\n",
       "  <matplotlib.axis.YTick at 0x1c8cae80c50>,\n",
       "  <matplotlib.axis.YTick at 0x1c8caecbda0>,\n",
       "  <matplotlib.axis.YTick at 0x1c8caed1358>,\n",
       "  <matplotlib.axis.YTick at 0x1c8caed1898>,\n",
       "  <matplotlib.axis.YTick at 0x1c8caed1dd8>,\n",
       "  <matplotlib.axis.YTick at 0x1c8caed8390>],\n",
       " <a list of 8 Text yticklabel objects>)"
      ]
     },
     "execution_count": 5,
     "metadata": {},
     "output_type": "execute_result"
    },
    {
     "data": {
      "image/png": "[encoded data removed]",
      "text/plain": [
       "<Figure size 432x288 with 1 Axes>"
      ]
     },
     "metadata": {
      "needs_background": "light"
     },
     "output_type": "display_data"
    }
   ],
   "source": [
    "#(5) x 를 D' = (y[0], y[1]) 를 시점으로 그려서 z의 끝점과 만나는지 확인\n",
    "#(6) w 를 D' 를 시점으로 그려서 x 의 끝점과 만나는 지 확인\n",
    "ax.quiver(y[0], y[1], x[0], x[1], **arg)\n",
    "ax.quiver(y[0], y[1], w[0], w[1], **arg)\n",
    "\n",
    "plt.xticks(np.arange(-8, 10))\n",
    "plt.yticks(np.arange(0, 8))"
   ]
  },
  {
   "cell_type": "markdown",
   "metadata": {},
   "source": [
    "> 확인결과 각각 D' 로 시점을 했을 때 z 의 끝점과 x 의 끝점에 만나는 것을 알 수 있다."
   ]
  },
  {
   "cell_type": "code",
   "execution_count": 6,
   "metadata": {},
   "outputs": [
    {
     "data": {
      "text/plain": [
       "Text(-5, 1, 'w = x-y')"
      ]
     },
     "execution_count": 6,
     "metadata": {},
     "output_type": "execute_result"
    }
   ],
   "source": [
    "#(7) ax.text 를 이용해서 각 벡터 선 끝부분에 넣기\n",
    "ax.text(x[0], x[1], 'x')\n",
    "ax.text(y[0], y[1], 'y')\n",
    "ax.text(z[0], z[1], 'z = x+y')\n",
    "ax.text(w[0], w[1], 'w = x-y')"
   ]
  },
  {
   "cell_type": "markdown",
   "metadata": {},
   "source": [
    "# 2. 다음을 따라하라"
   ]
  },
  {
   "cell_type": "code",
   "execution_count": 7,
   "metadata": {},
   "outputs": [],
   "source": [
    "import matplotlib.pyplot as plt\n",
    "import numpy as np\n",
    "import math\n",
    "%matplotlib widget"
   ]
  },
  {
   "cell_type": "code",
   "execution_count": 8,
   "metadata": {},
   "outputs": [
    {
     "data": {
      "application/vnd.jupyter.widget-view+json": {
       "model_id": "",
       "version_major": 2,
       "version_minor": 0
      },
      "text/plain": [
       "Canvas(toolbar=Toolbar(toolitems=[('Home', 'Reset original view', 'home', 'home'), ('Back', 'Back to previous …"
      ]
     },
     "metadata": {},
     "output_type": "display_data"
    },
    {
     "name": "stdout",
     "output_type": "stream",
     "text": [
      "0.9999999999999999\n"
     ]
    },
    {
     "data": {
      "text/plain": [
       "119.99999999999999"
      ]
     },
     "execution_count": 8,
     "metadata": {},
     "output_type": "execute_result"
    }
   ],
   "source": [
    "ax = plt.gca()\n",
    "arg = {'angles':'xy','scale_units':'xy', 'scale':1}\n",
    "ax.grid()\n",
    "x = list()\n",
    "\n",
    "#(a) 정삼각형\n",
    "n=3\n",
    "for i in range(1, n+1, 1):\n",
    "    x.append([math.cos(i*(2*math.pi/n)), math.sin(i*(2*math.pi/n))])\n",
    "    \n",
    "x = np.array(x)\n",
    "for i in range(n):\n",
    "    ax.quiver(0, 0, x[i][0], x[i][1], **arg)\n",
    "\n",
    "plt.xticks(np.arange(-1, 2))\n",
    "plt.yticks(np.arange(-1, 2))\n",
    "\n",
    "#(a-1) 정삼각형의 한변의 길이\n",
    "print(np.linalg.norm(x[0]))\n",
    "\n",
    "#(a-2) 정삼각형의 내각\n",
    "val = np.dot(x[0], x[1])/(np.linalg.norm(x[0])*np.linalg.norm(x[1]))\n",
    "np.arccos(val)*180/np.pi"
   ]
  },
  {
   "cell_type": "code",
   "execution_count": 9,
   "metadata": {},
   "outputs": [
    {
     "data": {
      "application/vnd.jupyter.widget-view+json": {
       "model_id": "",
       "version_major": 2,
       "version_minor": 0
      },
      "text/plain": [
       "Canvas(toolbar=Toolbar(toolitems=[('Home', 'Reset original view', 'home', 'home'), ('Back', 'Back to previous …"
      ]
     },
     "metadata": {},
     "output_type": "display_data"
    },
    {
     "name": "stdout",
     "output_type": "stream",
     "text": [
      "1.0\n"
     ]
    },
    {
     "data": {
      "text/plain": [
       "90.0"
      ]
     },
     "execution_count": 9,
     "metadata": {},
     "output_type": "execute_result"
    }
   ],
   "source": [
    "plt.close()\n",
    "ax = plt.gca()\n",
    "arg = {'angles':'xy','scale_units':'xy', 'scale':1}\n",
    "ax.grid()\n",
    "x = list()\n",
    "\n",
    "#(b) 정사각형\n",
    "n=4\n",
    "for i in range(1, n+1, 1):\n",
    "    x.append([math.cos(i*(2*math.pi/n)), math.sin(i*(2*math.pi/n))])\n",
    "    \n",
    "x = np.array(x)\n",
    "for i in range(n):\n",
    "    ax.quiver(0, 0, x[i][0], x[i][1], **arg)\n",
    "\n",
    "plt.xticks(np.arange(-1, 2))\n",
    "plt.yticks(np.arange(-1, 2))\n",
    "\n",
    "#(b-1) 정사각형의 한변의 길이\n",
    "print(np.linalg.norm(x[0]))\n",
    "\n",
    "#(b-2) 정사각형의 내각\n",
    "val = np.dot(x[0], x[1])/(np.linalg.norm(x[0])*np.linalg.norm(x[1]))\n",
    "np.arccos(val)*180/np.pi"
   ]
  },
  {
   "cell_type": "code",
   "execution_count": 10,
   "metadata": {},
   "outputs": [
    {
     "data": {
      "application/vnd.jupyter.widget-view+json": {
       "model_id": "",
       "version_major": 2,
       "version_minor": 0
      },
      "text/plain": [
       "Canvas(toolbar=Toolbar(toolitems=[('Home', 'Reset original view', 'home', 'home'), ('Back', 'Back to previous …"
      ]
     },
     "metadata": {},
     "output_type": "display_data"
    },
    {
     "name": "stdout",
     "output_type": "stream",
     "text": [
      "0.9999999999999999\n"
     ]
    },
    {
     "data": {
      "text/plain": [
       "71.99999999999999"
      ]
     },
     "execution_count": 10,
     "metadata": {},
     "output_type": "execute_result"
    }
   ],
   "source": [
    "plt.close()\n",
    "ax = plt.gca()\n",
    "arg = {'angles':'xy','scale_units':'xy', 'scale':1}\n",
    "ax.grid()\n",
    "x = list()\n",
    "\n",
    "#(c) 정오각형\n",
    "n=5\n",
    "for i in range(1, n+1, 1):\n",
    "    x.append([math.cos(i*(2*math.pi/n)), math.sin(i*(2*math.pi/n))])\n",
    "    \n",
    "x = np.array(x)\n",
    "for i in range(n):\n",
    "    ax.quiver(0, 0, x[i][0], x[i][1], **arg)\n",
    "\n",
    "plt.xticks(np.arange(-1, 2))\n",
    "plt.yticks(np.arange(-1, 2))\n",
    "\n",
    "#(c-1) 정오각형의 한변의 길이\n",
    "print(np.linalg.norm(x[0]))\n",
    "\n",
    "#(c-2) 정오각형의 내각\n",
    "val = np.dot(x[0], x[1])/(np.linalg.norm(x[0])*np.linalg.norm(x[1]))\n",
    "np.arccos(val)*180/np.pi"
   ]
  },
  {
   "cell_type": "code",
   "execution_count": 11,
   "metadata": {},
   "outputs": [
    {
     "data": {
      "application/vnd.jupyter.widget-view+json": {
       "model_id": "",
       "version_major": 2,
       "version_minor": 0
      },
      "text/plain": [
       "Canvas(toolbar=Toolbar(toolitems=[('Home', 'Reset original view', 'home', 'home'), ('Back', 'Back to previous …"
      ]
     },
     "metadata": {},
     "output_type": "display_data"
    },
    {
     "name": "stdout",
     "output_type": "stream",
     "text": [
      "1.0\n"
     ]
    },
    {
     "data": {
      "text/plain": [
       "59.99999999999999"
      ]
     },
     "execution_count": 11,
     "metadata": {},
     "output_type": "execute_result"
    }
   ],
   "source": [
    "plt.close()\n",
    "ax = plt.gca()\n",
    "arg = {'angles':'xy','scale_units':'xy', 'scale':1}\n",
    "ax.grid()\n",
    "x = list()\n",
    "\n",
    "#(d) 정육각형\n",
    "n=6\n",
    "for i in range(1, n+1, 1):\n",
    "    x.append([math.cos(i*(2*math.pi/n)), math.sin(i*(2*math.pi/n))])\n",
    "    \n",
    "x = np.array(x)\n",
    "for i in range(n):\n",
    "    ax.quiver(0, 0, x[i][0], x[i][1], **arg)\n",
    "\n",
    "plt.xticks(np.arange(-1, 2))\n",
    "plt.yticks(np.arange(-1, 2))\n",
    "\n",
    "#(d-1) 정육각형의 한변의 길이\n",
    "print(np.linalg.norm(x[0]))\n",
    "\n",
    "#(d-2) 정육각형의 내각\n",
    "val = np.dot(x[0], x[1])/(np.linalg.norm(x[0])*np.linalg.norm(x[1]))\n",
    "np.arccos(val)*180/np.pi"
   ]
  },
  {
   "cell_type": "code",
   "execution_count": null,
   "metadata": {},
   "outputs": [],
   "source": []
  },
  {
   "cell_type": "code",
   "execution_count": null,
   "metadata": {},
   "outputs": [],
   "source": []
  }
 ],
 "metadata": {
  "kernelspec": {
   "display_name": "Python 3",
   "language": "python",
   "name": "python3"
  },
  "language_info": {
   "codemirror_mode": {
    "name": "ipython",
    "version": 3
   },
   "file_extension": ".py",
   "mimetype": "text/x-python",
   "name": "python",
   "nbconvert_exporter": "python",
   "pygments_lexer": "ipython3",
   "version": "3.7.3"
  }
 },
 "nbformat": 4,
 "nbformat_minor": 4
}
