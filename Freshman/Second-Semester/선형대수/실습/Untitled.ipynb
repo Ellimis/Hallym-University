{
 "cells": [
  {
   "cell_type": "code",
   "execution_count": 1,
   "metadata": {},
   "outputs": [],
   "source": [
    "import numpy as np"
   ]
  },
  {
   "cell_type": "code",
   "execution_count": 2,
   "metadata": {},
   "outputs": [
    {
     "name": "stdout",
     "output_type": "stream",
     "text": [
      "[[ 0 -1 -1  1  0]\n",
      " [ 2  2  2  2 12]\n",
      " [ 2  4  1 -2 -1]\n",
      " [ 3  1 -2  2  3]]\n"
     ]
    }
   ],
   "source": [
    "A=np.array([[0, -1, -1, 1], [2, 2, 2, 2], [2, 4, 1, -2], [3, 1, -2, 2]])\n",
    "B=np.array([[0],[12],[-1],[3]])\n",
    "aug = np.column_stack((A, B))\n",
    "print(aug)"
   ]
  },
  {
   "cell_type": "code",
   "execution_count": 3,
   "metadata": {},
   "outputs": [
    {
     "data": {
      "text/plain": [
       "array([[ 2,  2,  2,  2, 12],\n",
       "       [ 0, -1, -1,  1,  0],\n",
       "       [ 2,  4,  1, -2, -1],\n",
       "       [ 3,  1, -2,  2,  3]])"
      ]
     },
     "execution_count": 3,
     "metadata": {},
     "output_type": "execute_result"
    }
   ],
   "source": [
    "temp = np.copy(aug[0, :])\n",
    "aug[0, :] = aug[1, :]\n",
    "aug[1, :] = temp\n",
    "aug"
   ]
  },
  {
   "cell_type": "code",
   "execution_count": 4,
   "metadata": {},
   "outputs": [
    {
     "data": {
      "text/plain": [
       "array([[ 1,  1,  1,  1,  6],\n",
       "       [ 0, -1, -1,  1,  0],\n",
       "       [ 2,  4,  1, -2, -1],\n",
       "       [ 3,  1, -2,  2,  3]])"
      ]
     },
     "execution_count": 4,
     "metadata": {},
     "output_type": "execute_result"
    }
   ],
   "source": [
    "aug[0, :]= (1/2)*aug[0, :]\n",
    "aug"
   ]
  },
  {
   "cell_type": "code",
   "execution_count": 5,
   "metadata": {},
   "outputs": [
    {
     "data": {
      "text/plain": [
       "array([[  1,   1,   1,   1,   6],\n",
       "       [  0,  -1,  -1,   1,   0],\n",
       "       [  0,   2,  -1,  -4, -13],\n",
       "       [  3,   1,  -2,   2,   3]])"
      ]
     },
     "execution_count": 5,
     "metadata": {},
     "output_type": "execute_result"
    }
   ],
   "source": [
    "aug[2, :]=(-2)*aug[0, :]+aug[2, :]\n",
    "aug"
   ]
  },
  {
   "cell_type": "code",
   "execution_count": 6,
   "metadata": {},
   "outputs": [
    {
     "data": {
      "text/plain": [
       "array([[  1,   1,   1,   1,   6],\n",
       "       [  0,  -1,  -1,   1,   0],\n",
       "       [  0,   2,  -1,  -4, -13],\n",
       "       [  0,  -2,  -5,  -1, -15]])"
      ]
     },
     "execution_count": 6,
     "metadata": {},
     "output_type": "execute_result"
    }
   ],
   "source": [
    "aug[3, :]+=(-3)*aug[0, :]\n",
    "aug"
   ]
  },
  {
   "cell_type": "code",
   "execution_count": 7,
   "metadata": {},
   "outputs": [
    {
     "data": {
      "text/plain": [
       "array([[  1,   1,   1,   1,   6],\n",
       "       [  0,  -1,  -1,   1,   0],\n",
       "       [  0,   0,  -3,  -2, -13],\n",
       "       [  0,  -2,  -5,  -1, -15]])"
      ]
     },
     "execution_count": 7,
     "metadata": {},
     "output_type": "execute_result"
    }
   ],
   "source": [
    "aug[2, :]+=aug[1,:]*2\n",
    "aug"
   ]
  },
  {
   "cell_type": "code",
   "execution_count": 8,
   "metadata": {},
   "outputs": [
    {
     "data": {
      "text/plain": [
       "array([[  1,   1,   1,   1,   6],\n",
       "       [  0,  -1,  -1,   1,   0],\n",
       "       [  0,   0,  -3,  -2, -13],\n",
       "       [  0,   0,  -3,  -3, -15]])"
      ]
     },
     "execution_count": 8,
     "metadata": {},
     "output_type": "execute_result"
    }
   ],
   "source": [
    "aug[3, :]+=(-2)*aug[1, :]\n",
    "aug"
   ]
  },
  {
   "cell_type": "code",
   "execution_count": 9,
   "metadata": {},
   "outputs": [
    {
     "data": {
      "text/plain": [
       "array([[  1,   1,   1,   1,   6],\n",
       "       [  0,  -1,  -1,   1,   0],\n",
       "       [  0,   0,  -3,  -2, -13],\n",
       "       [  0,   0,   0,  -1,  -2]])"
      ]
     },
     "execution_count": 9,
     "metadata": {},
     "output_type": "execute_result"
    }
   ],
   "source": [
    "aug[3, :]+=(-1)*aug[2, :]\n",
    "aug"
   ]
  },
  {
   "cell_type": "code",
   "execution_count": 10,
   "metadata": {},
   "outputs": [
    {
     "name": "stdout",
     "output_type": "stream",
     "text": [
      "[[ 2.]\n",
      " [-1.]\n",
      " [ 3.]\n",
      " [ 2.]]\n"
     ]
    }
   ],
   "source": [
    "x4 = aug[3, 4]/aug[3, 3]\n",
    "x3 = (aug[2, 4]+2*x4)/aug[2, 2]\n",
    "x2 = (x3 - x4)/aug[1, 1]\n",
    "x1 = 6 - x2 - x3 - x4\n",
    "print(np.array([[x1], [x2], [x3], [x4]]))"
   ]
  },
  {
   "cell_type": "code",
   "execution_count": 11,
   "metadata": {},
   "outputs": [
    {
     "name": "stdout",
     "output_type": "stream",
     "text": [
      "[[ 1  1  1  1]\n",
      " [ 0 -1 -1  1]\n",
      " [ 0  0 -3 -2]\n",
      " [ 0  0  0 -1]] [  6   0 -13  -2]\n"
     ]
    }
   ],
   "source": [
    "r, c = np.shape(aug)\n",
    "a=np.copy(aug[:, 0:c-1])\n",
    "b=np.copy(aug[:, -1])\n",
    "print(a, b)"
   ]
  },
  {
   "cell_type": "code",
   "execution_count": 12,
   "metadata": {},
   "outputs": [
    {
     "name": "stdout",
     "output_type": "stream",
     "text": [
      "[[ 2.]\n",
      " [-1.]\n",
      " [ 3.]\n",
      " [ 2.]]\n"
     ]
    }
   ],
   "source": [
    "n=c-1\n",
    "x=np.zeros((n, 1))\n",
    "for i in range(n-1, -1, -1):\n",
    "    x[i]=(b[i]-np.dot(a[i, :], x))/a[i, i]\n",
    "print(x)"
   ]
  },
  {
   "cell_type": "code",
   "execution_count": 13,
   "metadata": {},
   "outputs": [
    {
     "data": {
      "text/plain": [
       "array([[ 1, -1,  1, -1],\n",
       "       [ 1,  0,  2,  1],\n",
       "       [-1,  1, -1,  0],\n",
       "       [ 2, -2,  2, -1]])"
      ]
     },
     "execution_count": 13,
     "metadata": {},
     "output_type": "execute_result"
    }
   ],
   "source": [
    "c=np.array([[1, -1, 1], [1, 0, 2], [-1, 1, -1], [2, -2, 2]])\n",
    "d=np.array([[-1], [1], [0], [-1]])\n",
    "Aug=np.column_stack((c, d))\n",
    "Aug"
   ]
  },
  {
   "cell_type": "code",
   "execution_count": 3,
   "metadata": {},
   "outputs": [],
   "source": [
    "from sympy import *"
   ]
  },
  {
   "cell_type": "code",
   "execution_count": 18,
   "metadata": {},
   "outputs": [
    {
     "data": {
      "text/plain": [
       "(Matrix([\n",
       " [1, 0, 2, 0],\n",
       " [0, 1, 1, 0],\n",
       " [0, 0, 0, 1],\n",
       " [0, 0, 0, 0]]), (0, 1, 3))"
      ]
     },
     "execution_count": 18,
     "metadata": {},
     "output_type": "execute_result"
    }
   ],
   "source": [
    "Matrix(Aug).rref()"
   ]
  },
  {
   "cell_type": "code",
   "execution_count": 5,
   "metadata": {},
   "outputs": [
    {
     "name": "stdout",
     "output_type": "stream",
     "text": [
      "[[0. 0. 0. 0. 0.]\n",
      " [0. 0. 0. 0. 0.]\n",
      " [0. 0. 0. 0. 0.]\n",
      " [0. 0. 0. 0. 0.]\n",
      " [0. 0. 0. 0. 0.]]\n"
     ]
    }
   ],
   "source": [
    "neno = np.zeros((5, 5))\n",
    "print(neno)"
   ]
  },
  {
   "cell_type": "code",
   "execution_count": 6,
   "metadata": {},
   "outputs": [
    {
     "data": {
      "text/plain": [
       "(5, 5)"
      ]
     },
     "execution_count": 6,
     "metadata": {},
     "output_type": "execute_result"
    }
   ],
   "source": [
    "neno.shape"
   ]
  },
  {
   "cell_type": "code",
   "execution_count": 7,
   "metadata": {},
   "outputs": [
    {
     "data": {
      "text/plain": [
       "(5, 5)"
      ]
     },
     "execution_count": 7,
     "metadata": {},
     "output_type": "execute_result"
    }
   ],
   "source": [
    "np.shape(neno)"
   ]
  },
  {
   "cell_type": "code",
   "execution_count": 10,
   "metadata": {},
   "outputs": [
    {
     "name": "stdout",
     "output_type": "stream",
     "text": [
      "[[1. 0. 0. 0. 0.]\n",
      " [0. 1. 0. 0. 0.]\n",
      " [0. 0. 1. 0. 0.]\n",
      " [0. 0. 0. 1. 0.]\n",
      " [0. 0. 0. 0. 1.]]\n"
     ]
    }
   ],
   "source": [
    "nemo = np.eye(5)\n",
    "print(nemo)"
   ]
  },
  {
   "cell_type": "code",
   "execution_count": 13,
   "metadata": {},
   "outputs": [
    {
     "name": "stdout",
     "output_type": "stream",
     "text": [
      "[0. 1. 0.]\n"
     ]
    }
   ],
   "source": [
    "print(nemo[ 0 : 3, 1])"
   ]
  },
  {
   "cell_type": "code",
   "execution_count": 14,
   "metadata": {},
   "outputs": [
    {
     "name": "stdout",
     "output_type": "stream",
     "text": [
      "[0. 0. 0. 0. 1.]\n"
     ]
    }
   ],
   "source": [
    "print(nemo[-1, :])"
   ]
  },
  {
   "cell_type": "code",
   "execution_count": 15,
   "metadata": {},
   "outputs": [
    {
     "name": "stdout",
     "output_type": "stream",
     "text": [
      "[[1. 0. 0. 0. 0.]\n",
      " [0. 1. 0. 0. 0.]\n",
      " [0. 0. 1. 0. 0.]\n",
      " [0. 0. 0. 1. 0.]\n",
      " [0. 0. 0. 0. 1.]] [[0]\n",
      " [1]\n",
      " [2]\n",
      " [3]\n",
      " [4]]\n"
     ]
    }
   ],
   "source": [
    "nn = np.array([[0], [1], [2], [3], [4]])\n",
    "print(nemo, nn)"
   ]
  },
  {
   "cell_type": "code",
   "execution_count": 2,
   "metadata": {},
   "outputs": [
    {
     "data": {
      "text/plain": [
       "array([[1, 2, 3],\n",
       "       [4, 5, 6],\n",
       "       [7, 8, 9]])"
      ]
     },
     "execution_count": 2,
     "metadata": {},
     "output_type": "execute_result"
    }
   ],
   "source": [
    "test = np.array([[1, 2, 3], [4, 5, 6], [7, 8, 9]])\n",
    "test"
   ]
  },
  {
   "cell_type": "code",
   "execution_count": 3,
   "metadata": {},
   "outputs": [
    {
     "data": {
      "text/plain": [
       "array([4, 5, 6])"
      ]
     },
     "execution_count": 3,
     "metadata": {},
     "output_type": "execute_result"
    }
   ],
   "source": [
    "test[1, :]"
   ]
  },
  {
   "cell_type": "code",
   "execution_count": 4,
   "metadata": {},
   "outputs": [
    {
     "data": {
      "text/plain": [
       "array([3, 6, 9])"
      ]
     },
     "execution_count": 4,
     "metadata": {},
     "output_type": "execute_result"
    }
   ],
   "source": [
    "test[:, 2]"
   ]
  },
  {
   "cell_type": "code",
   "execution_count": 5,
   "metadata": {},
   "outputs": [
    {
     "data": {
      "text/plain": [
       "array([[6]])"
      ]
     },
     "execution_count": 5,
     "metadata": {},
     "output_type": "execute_result"
    }
   ],
   "source": [
    "test[1:2, 2:3]"
   ]
  },
  {
   "cell_type": "code",
   "execution_count": 6,
   "metadata": {},
   "outputs": [
    {
     "data": {
      "text/plain": [
       "array([[2]])"
      ]
     },
     "execution_count": 6,
     "metadata": {},
     "output_type": "execute_result"
    }
   ],
   "source": [
    "test[0:1, 1:2]"
   ]
  },
  {
   "cell_type": "code",
   "execution_count": 2,
   "metadata": {},
   "outputs": [],
   "source": [
    "A = np.array([0, 3, 4])\n",
    "B = np.array([-1, 1, 2])\n",
    "C = np.array([6, 1, 8])"
   ]
  },
  {
   "cell_type": "code",
   "execution_count": 3,
   "metadata": {},
   "outputs": [
    {
     "name": "stdout",
     "output_type": "stream",
     "text": [
      "[-1 -2 -2]\n",
      "[ 6 -2  4]\n"
     ]
    }
   ],
   "source": [
    "x = B - A\n",
    "y = C - A\n",
    "print(x)\n",
    "print(y)"
   ]
  },
  {
   "cell_type": "code",
   "execution_count": 4,
   "metadata": {},
   "outputs": [
    {
     "name": "stdout",
     "output_type": "stream",
     "text": [
      "10.04987562112089\n"
     ]
    }
   ],
   "source": [
    "print(np.linalg.norm(np.cross(x, y))/2)"
   ]
  },
  {
   "cell_type": "code",
   "execution_count": 6,
   "metadata": {},
   "outputs": [
    {
     "name": "stdout",
     "output_type": "stream",
     "text": [
      "[[ 3 -5 -3  1]\n",
      " [ 6 -2  0  3]\n",
      " [-8  4  1 -4]]\n"
     ]
    }
   ],
   "source": [
    "A = np.array([[3, -5, -3], [6, -2, 0], [-8, 4, 1]])\n",
    "x = np.array([[1], [3], [-4]])\n",
    "Aug = np.column_stack((A, x))\n",
    "print(Aug)"
   ]
  },
  {
   "cell_type": "code",
   "execution_count": 7,
   "metadata": {},
   "outputs": [
    {
     "data": {
      "text/plain": [
       "(Matrix([\n",
       " [1, 0, 1/4, 0],\n",
       " [0, 1, 3/4, 0],\n",
       " [0, 0,   0, 1]]), (0, 1, 3))"
      ]
     },
     "execution_count": 7,
     "metadata": {},
     "output_type": "execute_result"
    }
   ],
   "source": [
    "Matrix(Aug).rref()"
   ]
  },
  {
   "cell_type": "code",
   "execution_count": 9,
   "metadata": {},
   "outputs": [
    {
     "name": "stdout",
     "output_type": "stream",
     "text": [
      "[Matrix([\n",
      "[-1],\n",
      "[-1],\n",
      "[ 1],\n",
      "[ 0]]), Matrix([\n",
      "[ 2/7],\n",
      "[-4/7],\n",
      "[   0],\n",
      "[   1]])]\n"
     ]
    }
   ],
   "source": [
    "print(Matrix(np.array([[1, 4, 5, 2], [2, 1, 3, 0], [-1, 3, 2, 2]])).nullspace())"
   ]
  },
  {
   "cell_type": "code",
   "execution_count": 10,
   "metadata": {},
   "outputs": [
    {
     "name": "stdout",
     "output_type": "stream",
     "text": [
      "[Matrix([\n",
      "[2],\n",
      "[1],\n",
      "[0],\n",
      "[0],\n",
      "[0]]), Matrix([\n",
      "[-4],\n",
      "[ 0],\n",
      "[-9],\n",
      "[ 1],\n",
      "[ 0]])]\n"
     ]
    }
   ],
   "source": [
    "print(Matrix(np.array([[1, -2, 0, 4, 0], [0, 0, 1, 9, 0], [0, 0, 0, 0, 1]])).nullspace())"
   ]
  },
  {
   "cell_type": "code",
   "execution_count": 4,
   "metadata": {},
   "outputs": [
    {
     "name": "stdout",
     "output_type": "stream",
     "text": [
      "(Matrix([\n",
      "[1, 0, 0],\n",
      "[0, 1, 0],\n",
      "[0, 0, 1]]), (0, 1, 2))\n"
     ]
    }
   ],
   "source": [
    "print(Matrix(np.array([[4, -2, 7], [0, 5, 2], [-2, 1, 3]])).rref())"
   ]
  },
  {
   "cell_type": "code",
   "execution_count": 1,
   "metadata": {},
   "outputs": [],
   "source": [
    "import numpy as np\n",
    "from sympy import *"
   ]
  },
  {
   "cell_type": "code",
   "execution_count": 2,
   "metadata": {},
   "outputs": [
    {
     "name": "stdout",
     "output_type": "stream",
     "text": [
      "(Matrix([\n",
      "[1, 0,  1,  3/2],\n",
      "[0, 1, -2, -7/4],\n",
      "[0, 0,  0,    0]]), (0, 1))\n"
     ]
    }
   ],
   "source": [
    "print(Matrix(np.array([[2, 0, 2, 3], [7, 6, -5, 0], [6, 8, -10, -5]])).rref())"
   ]
  },
  {
   "cell_type": "code",
   "execution_count": 5,
   "metadata": {},
   "outputs": [
    {
     "name": "stdout",
     "output_type": "stream",
     "text": [
      "(Matrix([\n",
      "[1, 0,  1, 1, 0],\n",
      "[0, 1, -1, 1, 0],\n",
      "[0, 0,  0, 0, 1],\n",
      "[0, 0,  0, 0, 0]]), (0, 1, 4))\n"
     ]
    }
   ],
   "source": [
    "print(Matrix(np.array([[1, 3, -2, 4, 5], [2, 1, 1, 3, 1], [5, 2, 3, 7, 3], [10, 5, 5, 15, 7]])).rref())"
   ]
  },
  {
   "cell_type": "code",
   "execution_count": 6,
   "metadata": {},
   "outputs": [
    {
     "name": "stdout",
     "output_type": "stream",
     "text": [
      "(Matrix([\n",
      "[1, 0,  1, 1, 0],\n",
      "[0, 1, -1, 1, 0],\n",
      "[0, 0,  0, 0, 1],\n",
      "[0, 0,  0, 0, 0]]), (0, 1, 4))\n"
     ]
    }
   ],
   "source": [
    "print(Matrix(np.array([[1, 2, 5, 10], [3, 1, 2, 5], [-2, 1, 3, 5], [4, 3, 7, 15], [5, 1, 3, 7]]).T).rref())"
   ]
  },
  {
   "cell_type": "code",
   "execution_count": 10,
   "metadata": {},
   "outputs": [
    {
     "name": "stdout",
     "output_type": "stream",
     "text": [
      "(Matrix([\n",
      "[1, 0, 0],\n",
      "[0, 1, 0],\n",
      "[0, 0, 1],\n",
      "[0, 0, 0]]), (0, 1, 2))\n",
      "3\n"
     ]
    }
   ],
   "source": [
    "A = np.array([[1,0,2,3], [-1, 2, 5, 3], [-1, 1, 0, 2]]).T\n",
    "print(Matrix(A).rref())\n",
    "print(Matrix(A).rank())"
   ]
  },
  {
   "cell_type": "code",
   "execution_count": 12,
   "metadata": {},
   "outputs": [
    {
     "name": "stdout",
     "output_type": "stream",
     "text": [
      "[[ 1 -1 -1 -5]\n",
      " [ 0  2  1  6]\n",
      " [ 2  5  0 11]\n",
      " [ 3  3  2  3]]\n",
      "(Matrix([\n",
      "[1, 0, 0, -2],\n",
      "[0, 1, 0,  3],\n",
      "[0, 0, 1,  0],\n",
      "[0, 0, 0,  0]]), (0, 1, 2))\n",
      "3\n"
     ]
    }
   ],
   "source": [
    "B1 = np.array([[-5], [6], [11], [3]])\n",
    "ab = np.column_stack((A, B1))\n",
    "print(ab)\n",
    "print(Matrix(ab).rref())\n",
    "print(Matrix(ab).rank())"
   ]
  },
  {
   "cell_type": "code",
   "execution_count": 13,
   "metadata": {},
   "outputs": [
    {
     "name": "stdout",
     "output_type": "stream",
     "text": [
      "[[ 1 -1 -1  5]\n",
      " [ 0  2  1  2]\n",
      " [ 2  5  0  4]\n",
      " [ 3  3  2 -7]]\n",
      "(Matrix([\n",
      "[1, 0, 0, 0],\n",
      "[0, 1, 0, 0],\n",
      "[0, 0, 1, 0],\n",
      "[0, 0, 0, 1]]), (0, 1, 2, 3))\n",
      "4\n"
     ]
    }
   ],
   "source": [
    "B2 = np.array([[5], [2], [4], [-7]])\n",
    "AB = np.column_stack((A, B2))\n",
    "print(AB)\n",
    "print(Matrix(AB).rref())\n",
    "print(Matrix(AB).rank())"
   ]
  },
  {
   "cell_type": "code",
   "execution_count": 18,
   "metadata": {},
   "outputs": [
    {
     "name": "stdout",
     "output_type": "stream",
     "text": [
      "(Matrix([\n",
      "[1, 0, -3, 0,  4],\n",
      "[0, 1, -4, 0, -5],\n",
      "[0, 0,  0, 1, -2],\n",
      "[0, 0,  0, 0,  0]]), (0, 1, 3))\n",
      "3\n",
      "[Matrix([\n",
      "[3],\n",
      "[4],\n",
      "[1],\n",
      "[0],\n",
      "[0]]), Matrix([\n",
      "[-4],\n",
      "[ 5],\n",
      "[ 0],\n",
      "[ 2],\n",
      "[ 1]])]\n",
      "(Matrix([\n",
      "[1, 0, 0, -10],\n",
      "[0, 1, 0,   5],\n",
      "[0, 0, 1,  -4],\n",
      "[0, 0, 0,   0],\n",
      "[0, 0, 0,   0]]), (0, 1, 2))\n",
      "3\n"
     ]
    }
   ],
   "source": [
    "X = np.array([[1, 0, -3 , 2], [0, 1, 2, -3], [-3, -4, 1, 6], [1, -3, -8, 7], [2, 1, -6, 9]]).T\n",
    "x = np.array([[1, 0, -3 , 2], [0, 1, 2, -3], [-3, -4, 1, 6], [1, -3, -8, 7], [2, 1, -6, 9]])\n",
    "print(Matrix(X).rref())\n",
    "print(Matrix(X).rank())\n",
    "print(Matrix(X).nullspace())\n",
    "print(Matrix(x).rref())\n",
    "print(Matrix(x).rank())"
   ]
  },
  {
   "cell_type": "code",
   "execution_count": 17,
   "metadata": {},
   "outputs": [
    {
     "name": "stdout",
     "output_type": "stream",
     "text": [
      "(Matrix([\n",
      "[1, 0, 0, 0, 0],\n",
      "[0, 1, 0, 0, 0],\n",
      "[0, 0, 1, 0, 1],\n",
      "[0, 0, 0, 1, 1]]), (0, 1, 2, 3))\n",
      "4\n",
      "[Matrix([\n",
      "[ 0],\n",
      "[ 0],\n",
      "[-1],\n",
      "[-1],\n",
      "[ 1]])]\n"
     ]
    }
   ],
   "source": [
    "X = np.array([[2, 1, -4, 1], [3, -1, 2, 1], [3, 0, -2, 2], [5, -1, -4, 3], [8, -1, -6, 5]]).T\n",
    "print(Matrix(X).rref())\n",
    "print(Matrix(X).rank())\n",
    "print(Matrix(X).nullspace())"
   ]
  },
  {
   "cell_type": "code",
   "execution_count": 19,
   "metadata": {},
   "outputs": [
    {
     "name": "stdout",
     "output_type": "stream",
     "text": [
      "(Matrix([\n",
      "[1, 0, 0, 0,  3],\n",
      "[0, 1, 0, 0, -2],\n",
      "[0, 0, 1, 0,  7],\n",
      "[0, 0, 0, 1, -3]]), (0, 1, 2, 3))\n"
     ]
    }
   ],
   "source": [
    "A = np.array([[3, -1, 2, 5], [4, 7, -5, 3], [2, 5, 3, 6], [2, 9, 5, -4]])\n",
    "b = np.array([10, -46, -1, 35]).T\n",
    "\n",
    "print(Matrix(np.column_stack((A, b))).rref())"
   ]
  },
  {
   "cell_type": "code",
   "execution_count": 22,
   "metadata": {},
   "outputs": [
    {
     "name": "stdout",
     "output_type": "stream",
     "text": [
      "(Matrix([\n",
      "[1, 0, 0],\n",
      "[0, 1, 0],\n",
      "[0, 0, 1]]), (0, 1, 2))\n",
      "3\n",
      "(Matrix([\n",
      "[1, 0, 0,  1],\n",
      "[0, 1, 0,  1],\n",
      "[0, 0, 1, -1]]), (0, 1, 2))\n",
      "3\n"
     ]
    }
   ],
   "source": [
    "A = np.array([[2, 5, 6], [-3, 9, 8], [7, -4, 1]])\n",
    "b = np.array([-8, 18, 13])\n",
    "print(Matrix(A).rref())\n",
    "print(Matrix(A).rank())\n",
    "print(Matrix(np.column_stack((A.T, b.T))).rref())\n",
    "print(Matrix(np.column_stack((A.T, b.T))).rank())"
   ]
  },
  {
   "cell_type": "code",
   "execution_count": 23,
   "metadata": {},
   "outputs": [
    {
     "name": "stdout",
     "output_type": "stream",
     "text": [
      "(Matrix([\n",
      "[1, 0, 3],\n",
      "[0, 1, 2],\n",
      "[0, 0, 0]]), (0, 1))\n",
      "2\n",
      "(Matrix([\n",
      "[1, 0,  17/11, 0],\n",
      "[0, 1, -43/33, 0],\n",
      "[0, 0,      0, 1]]), (0, 1, 3))\n",
      "3\n"
     ]
    }
   ],
   "source": [
    "A = np.array([[2, 5, 16], [-3, 9, 9], [7, -4, 13]])\n",
    "b = np.array([-8, 18, 13])\n",
    "print(Matrix(A).rref())\n",
    "print(Matrix(A).rank())\n",
    "print(Matrix(np.column_stack((A.T, b.T))).rref())\n",
    "print(Matrix(np.column_stack((A.T, b.T))).rank())"
   ]
  },
  {
   "cell_type": "code",
   "execution_count": 24,
   "metadata": {},
   "outputs": [
    {
     "name": "stdout",
     "output_type": "stream",
     "text": [
      "(Matrix([\n",
      "[1, 0,  2, -1, 0],\n",
      "[0, 1, -2,  2, 0]]), (0, 1))\n"
     ]
    }
   ],
   "source": [
    "A = np.array([[4, 5, -2, 6, 0], [1, 1, 0, 1, 0]])\n",
    "print(Matrix(A).rref())"
   ]
  },
  {
   "cell_type": "code",
   "execution_count": 26,
   "metadata": {},
   "outputs": [
    {
     "name": "stdout",
     "output_type": "stream",
     "text": [
      "(Matrix([\n",
      "[1, 0,  9, 0],\n",
      "[0, 1, -5, 0],\n",
      "[0, 0,  0, 1]]), (0, 1, 3))\n",
      "3\n"
     ]
    }
   ],
   "source": [
    "A = np.array([[2, -2, 3], [4, -5, 7], [-2, 7, -8], [1, 3, 6]]).T\n",
    "print(Matrix(A).rref())\n",
    "print(Matrix(A).rank())"
   ]
  },
  {
   "cell_type": "code",
   "execution_count": 34,
   "metadata": {},
   "outputs": [
    {
     "name": "stdout",
     "output_type": "stream",
     "text": [
      "(Matrix([\n",
      "[1, 0,   6,   5],\n",
      "[0, 1, 5/2, 3/2],\n",
      "[0, 0,   0,   0]]), (0, 1))\n",
      "[[-2  2 -3]\n",
      " [ 4 -6  8]\n",
      " [-2 -3  2]\n",
      " [-4  1 -3]]\n",
      "(Matrix([\n",
      "[1, 0, 1/2],\n",
      "[0, 1,  -1],\n",
      "[0, 0,   0],\n",
      "[0, 0,   0]]), (0, 1))\n"
     ]
    }
   ],
   "source": [
    "A = np.array([[-2, 2, -3], [4, -6, 8], [-2, -3, 2], [-4, 1, -3]]).T\n",
    "print(Matrix(A).rref())\n",
    "print(np.array([[-2, 2, -3], [4, -6, 8], [-2, -3, 2], [-4, 1, -3]]))\n",
    "print(Matrix(np.array([[-2, 2, -3], [4, -6, 8], [-2, -3, 2], [-4, 1, -3]])).rref())"
   ]
  },
  {
   "cell_type": "code",
   "execution_count": 33,
   "metadata": {},
   "outputs": [
    {
     "name": "stdout",
     "output_type": "stream",
     "text": [
      "(Matrix([\n",
      "[1, 0,   -1, 5],\n",
      "[0, 1, -5/2, 3],\n",
      "[0, 0,    0, 0]]), (0, 1))\n",
      "(Matrix([\n",
      "[1, 0, 0],\n",
      "[0, 1, 0],\n",
      "[0, 0, 0],\n",
      "[0, 0, 0]]), (0, 1))\n",
      "[Matrix([\n",
      "[  1],\n",
      "[5/2],\n",
      "[  1],\n",
      "[  0]]), Matrix([\n",
      "[-5],\n",
      "[-3],\n",
      "[ 0],\n",
      "[ 1]])]\n"
     ]
    }
   ],
   "source": [
    "A = np.array([[1, -4, 9, -7], [-1, 2, -4, 1], [5, -6, 10, 7]])\n",
    "B = np.array([[1, 0, -1, 5], [0, -2, 5, -6], [0, 0, 0, 0]])\n",
    "\n",
    "print(Matrix(A).rref())\n",
    "print(Matrix(B.T).rref())\n",
    "print(Matrix(A).nullspace())"
   ]
  },
  {
   "cell_type": "code",
   "execution_count": 36,
   "metadata": {},
   "outputs": [
    {
     "name": "stdout",
     "output_type": "stream",
     "text": [
      "(Matrix([\n",
      "[1, 0, -3/13],\n",
      "[0, 1, -8/13],\n",
      "[0, 0,     0]]), (0, 1))\n"
     ]
    }
   ],
   "source": [
    "t = np.array([[5, 1, -7], [3, -2, 1], [-3, 1, 1]]).T\n",
    "print(Matrix(t).rref())"
   ]
  },
  {
   "cell_type": "code",
   "execution_count": 2,
   "metadata": {},
   "outputs": [
    {
     "data": {
      "text/plain": [
       "25"
      ]
     },
     "execution_count": 2,
     "metadata": {},
     "output_type": "execute_result"
    }
   ],
   "source": [
    "np.square(5)"
   ]
  },
  {
   "cell_type": "code",
   "execution_count": 3,
   "metadata": {},
   "outputs": [
    {
     "name": "stdout",
     "output_type": "stream",
     "text": [
      "(Matrix([\n",
      "[1, 0, 0, 0],\n",
      "[0, 1, 0, 0],\n",
      "[0, 0, 1, 0],\n",
      "[0, 0, 0, 1]]), (0, 1, 2, 3))\n",
      "[]\n"
     ]
    }
   ],
   "source": [
    "A = np.array([[3, -1, 2, 5], [4, 7, -5, 3], [2, 5, 3, 6], [2, 9, 5, -4]])\n",
    "print(Matrix(A).rref())\n",
    "print(Matrix(A).nullspace())"
   ]
  },
  {
   "cell_type": "code",
   "execution_count": null,
   "metadata": {},
   "outputs": [],
   "source": []
  }
 ],
 "metadata": {
  "kernelspec": {
   "display_name": "Python 3",
   "language": "python",
   "name": "python3"
  },
  "language_info": {
   "codemirror_mode": {
    "name": "ipython",
    "version": 3
   },
   "file_extension": ".py",
   "mimetype": "text/x-python",
   "name": "python",
   "nbconvert_exporter": "python",
   "pygments_lexer": "ipython3",
   "version": "3.7.3"
  }
 },
 "nbformat": 4,
 "nbformat_minor": 4
}
