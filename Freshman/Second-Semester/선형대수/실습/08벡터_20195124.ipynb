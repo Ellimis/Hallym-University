{
 "cells": [
  {
   "cell_type": "code",
   "execution_count": 1,
   "metadata": {},
   "outputs": [],
   "source": [
    "from mpl_toolkits.mplot3d import Axes3D\n",
    "import numpy as np\n",
    "%matplotlib widget\n",
    "import matplotlib.pyplot as plt"
   ]
  },
  {
   "cell_type": "markdown",
   "metadata": {},
   "source": [
    "## 과제 1. x = (sqrt(3), 1), y = (0, 2) 일때 다음을 실행"
   ]
  },
  {
   "cell_type": "markdown",
   "metadata": {},
   "source": [
    "> (A) 벡터 x = (sqrt(3), 1), y = (0, 2)에 대해 다음 계산"
   ]
  },
  {
   "cell_type": "code",
   "execution_count": 2,
   "metadata": {},
   "outputs": [
    {
     "name": "stdout",
     "output_type": "stream",
     "text": [
      "[ 3.46410162 -4.        ]\n"
     ]
    }
   ],
   "source": [
    "#1. 2x - 3y\n",
    "x = np.array([np.sqrt(3), 1])\n",
    "y = np.array([0, 2])\n",
    "print(2*x-3*y)"
   ]
  },
  {
   "cell_type": "code",
   "execution_count": 3,
   "metadata": {},
   "outputs": [
    {
     "data": {
      "text/plain": [
       "1.9999999999999998"
      ]
     },
     "execution_count": 3,
     "metadata": {},
     "output_type": "execute_result"
    }
   ],
   "source": [
    "#2. x의 크기\n",
    "np.linalg.norm(x)"
   ]
  },
  {
   "cell_type": "markdown",
   "metadata": {},
   "source": [
    "> (B) 두 벡터 x = (1, -2, -3 ), y = (5, -4, -3) 에 대해 다음 계산"
   ]
  },
  {
   "cell_type": "code",
   "execution_count": 4,
   "metadata": {},
   "outputs": [
    {
     "data": {
      "text/plain": [
       "10.392304845413264"
      ]
     },
     "execution_count": 4,
     "metadata": {},
     "output_type": "execute_result"
    }
   ],
   "source": [
    "#1. ||x+y||\n",
    "x = np.array([1, -2 ,-3])\n",
    "y = np.array([5, -4, -3])\n",
    "np.linalg.norm(x+y)"
   ]
  },
  {
   "cell_type": "code",
   "execution_count": 5,
   "metadata": {},
   "outputs": [
    {
     "data": {
      "text/plain": [
       "4.47213595499958"
      ]
     },
     "execution_count": 5,
     "metadata": {},
     "output_type": "execute_result"
    }
   ],
   "source": [
    "#2. ||x-y||\n",
    "np.linalg.norm(x-y)"
   ]
  },
  {
   "cell_type": "code",
   "execution_count": 6,
   "metadata": {},
   "outputs": [
    {
     "data": {
      "text/plain": [
       "10.812725198639416"
      ]
     },
     "execution_count": 6,
     "metadata": {},
     "output_type": "execute_result"
    }
   ],
   "source": [
    "#3. ||x||+||y||\n",
    "np.linalg.norm(x)+np.linalg.norm(y)"
   ]
  },
  {
   "cell_type": "markdown",
   "metadata": {},
   "source": [
    "> (C) 다음 벡터 x 에서 y 로의 직교정사영 구하기"
   ]
  },
  {
   "cell_type": "code",
   "execution_count": 7,
   "metadata": {},
   "outputs": [
    {
     "data": {
      "text/plain": [
       "array([ 0.61538462, -0.92307692])"
      ]
     },
     "execution_count": 7,
     "metadata": {},
     "output_type": "execute_result"
    }
   ],
   "source": [
    "#1.\n",
    "x = np.array([-1, -2])\n",
    "y = np.array([-2, 3])\n",
    "np.dot(x, y)*y/np.square((np.linalg.norm(y)))"
   ]
  },
  {
   "cell_type": "code",
   "execution_count": 8,
   "metadata": {},
   "outputs": [
    {
     "data": {
      "text/plain": [
       "array([-1.23076923,  0.        , -6.15384615])"
      ]
     },
     "execution_count": 8,
     "metadata": {},
     "output_type": "execute_result"
    }
   ],
   "source": [
    "#2.\n",
    "x = np.array([3, 1, -7])\n",
    "y = np.array([1, 0, 5])\n",
    "np.dot(x, y)*y/np.square((np.linalg.norm(y)))"
   ]
  },
  {
   "cell_type": "markdown",
   "metadata": {},
   "source": [
    "## 과제 2. 다음을 구하여라."
   ]
  },
  {
   "cell_type": "code",
   "execution_count": 9,
   "metadata": {},
   "outputs": [
    {
     "name": "stdout",
     "output_type": "stream",
     "text": [
      "[0 0 1] [ 0  0 -1]\n"
     ]
    }
   ],
   "source": [
    "#1. i = (1, 0, 0), j = (0, 1, 0) 일 때 z = i x j 와 w = j x i 를 구하여라\n",
    "i = np.array([1, 0, 0])\n",
    "j = np.array([0, 1, 0])\n",
    "z = np.cross(i, j)\n",
    "w = np.cross(j, i)\n",
    "print(z, w)"
   ]
  },
  {
   "cell_type": "code",
   "execution_count": 10,
   "metadata": {},
   "outputs": [
    {
     "data": {
      "application/vnd.jupyter.widget-view+json": {
       "model_id": "4c79078f523140ce8adde8f3d2688364",
       "version_major": 2,
       "version_minor": 0
      },
      "text/plain": [
       "Canvas(toolbar=Toolbar(toolitems=[('Home', 'Reset original view', 'home', 'home'), ('Back', 'Back to previous …"
      ]
     },
     "metadata": {},
     "output_type": "display_data"
    },
    {
     "data": {
      "text/plain": [
       "<mpl_toolkits.mplot3d.art3d.Line3DCollection at 0x24fd259ff28>"
      ]
     },
     "execution_count": 10,
     "metadata": {},
     "output_type": "execute_result"
    }
   ],
   "source": [
    "#2. i, j, z, w 를 한 그림으로 그려라\n",
    "ax=plt.gca(projection='3d')\n",
    "ax.set_xlim(-2, 2)\n",
    "ax.set_ylim(-2, 2)\n",
    "ax.set_zlim(-2, 2)\n",
    "ax.quiver(0,0,0, i[0], i[1], i[2], color='k')\n",
    "ax.quiver(0,0,0, j[0], j[1], j[2], color='y')\n",
    "ax.quiver(0,0,0, z[0], z[1], z[2], color='r')\n",
    "ax.quiver(0,0,0, w[0], w[1], w[2], color='b')"
   ]
  },
  {
   "cell_type": "code",
   "execution_count": 100,
   "metadata": {},
   "outputs": [],
   "source": [
    "#3. 그림 부분에서 mouse를 drag하여 vector를 회전하면서 \n",
    "#i, j와 z, w와의 관계를 관찰하고, k = (0, 0, 1)와 z, w와의 관계를 써라."
   ]
  },
  {
   "cell_type": "markdown",
   "metadata": {},
   "source": [
    "i 가 노랑색, j 가 검정색 그리고 z 와 w 는 각각 빨강, 파랑이다.\n",
    "이때 i 와 j 는 z = 0 인 동일 평면에 존재한다\n",
    "또한 z 와 w 는 크기는 같으나 방향이 정반대이다.(z+w => 0)\n",
    "\n",
    "k = (0, 0, 1) 일 때 z 도 (0, 0, 1) 이므로 k 와 크기와 방향이 같은 벡터이다.\n",
    "또한, w 는 (0, 0, -1) 이므로 k와 크기는 같으나 방향이 정반대이다."
   ]
  },
  {
   "cell_type": "markdown",
   "metadata": {},
   "source": [
    "## 과제 3. 4개의 점 A, B, C, D 로 다음을 풀어라\n",
    "> A = (0, 0), B = (1, 2), C = (5, 2), D = (3, 3)"
   ]
  },
  {
   "cell_type": "code",
   "execution_count": 120,
   "metadata": {},
   "outputs": [
    {
     "name": "stdout",
     "output_type": "stream",
     "text": [
      "4.0\n"
     ]
    }
   ],
   "source": [
    "#(A) 삼각형 ABC 의 면적을 벡터의 외적을 이용하여 구해라\n",
    "A = np.array([0, 0])\n",
    "B = np.array([1, 2])\n",
    "C = np.array([5, 2])\n",
    "D = np.array([3, 3])\n",
    "\n",
    "tri1 = np.linalg.norm(np.cross(B, C))/2\n",
    "print(tri1)"
   ]
  },
  {
   "cell_type": "code",
   "execution_count": 121,
   "metadata": {},
   "outputs": [
    {
     "name": "stdout",
     "output_type": "stream",
     "text": [
      "6.0\n"
     ]
    }
   ],
   "source": [
    "#(B) 사각형 ABCD 의 면적을 벡터의 외적을 이용하여 구해라\n",
    "x = C - B\n",
    "y = D - B\n",
    "\n",
    "tri2 = np.linalg.norm(np.cross(x, y))/2\n",
    "print(tri1+tri2)"
   ]
  },
  {
   "cell_type": "markdown",
   "metadata": {},
   "source": [
    "## 과제 4. 다음을 구하여라."
   ]
  },
  {
   "cell_type": "markdown",
   "metadata": {},
   "source": [
    "### (1) 두점 (1, 1, 1) 과 (2, 3, 4) 를 지나는 직선의 방정식을 구하라\n",
    "\n",
    "u = (2, 3, 4) - (1, 1, 1) = (1, 2, 3)\n",
    "\n",
    "(x, y, z) = (1, 1, 1) + t(1, 2, 3)\n",
    "\n",
    "(x-1)/1 = (y-1)/2 = (z-1)/3"
   ]
  },
  {
   "cell_type": "markdown",
   "metadata": {},
   "source": [
    "### (2) 평면 3x - 2y + z = 5 와 직선 x = 1+t, y = -2+2t, z = 4t 가 만나는 점을 구하여라\n",
    "\n",
    "3(1+t)-2(-2+2t)+4t = -5\n",
    "\n",
    "3t = -12\n",
    "\n",
    "t = -4\n",
    "\n",
    "x = -3, y = -10, z = -16"
   ]
  },
  {
   "cell_type": "markdown",
   "metadata": {},
   "source": [
    "### (3) 점 (2, 3, 5) 와 평면 x-2y+2z+3 = 0 사이의 거리를 구하라"
   ]
  },
  {
   "cell_type": "code",
   "execution_count": 110,
   "metadata": {},
   "outputs": [
    {
     "name": "stdout",
     "output_type": "stream",
     "text": [
      "3.0\n"
     ]
    }
   ],
   "source": [
    "u = np.array([1, -2, 2])\n",
    "d = np.abs(2*u[0] + 3*u[1] + 5*u[2] + 3)/np.linalg.norm(u)\n",
    "print(d)"
   ]
  },
  {
   "cell_type": "code",
   "execution_count": null,
   "metadata": {},
   "outputs": [],
   "source": []
  },
  {
   "cell_type": "code",
   "execution_count": null,
   "metadata": {},
   "outputs": [],
   "source": []
  },
  {
   "cell_type": "code",
   "execution_count": null,
   "metadata": {},
   "outputs": [],
   "source": []
  }
 ],
 "metadata": {
  "kernelspec": {
   "display_name": "Python 3",
   "language": "python",
   "name": "python3"
  },
  "language_info": {
   "codemirror_mode": {
    "name": "ipython",
    "version": 3
   },
   "file_extension": ".py",
   "mimetype": "text/x-python",
   "name": "python",
   "nbconvert_exporter": "python",
   "pygments_lexer": "ipython3",
   "version": "3.7.3"
  }
 },
 "nbformat": 4,
 "nbformat_minor": 4
}
