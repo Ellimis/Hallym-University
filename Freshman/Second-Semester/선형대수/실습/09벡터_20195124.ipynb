{
 "cells": [
  {
   "cell_type": "code",
   "execution_count": 6,
   "metadata": {},
   "outputs": [],
   "source": [
    "import numpy as np\n",
    "import numpy.linalg as la\n",
    "from sympy import *\n",
    "%matplotlib qt\n",
    "import matplotlib.pyplot as plt"
   ]
  },
  {
   "cell_type": "markdown",
   "metadata": {},
   "source": [
    "# 과제 1\n",
    "\n",
    "(1) 두점 (3, 4) 와 (-4, 5) 를 지나는 직선의 방정식을 구하라\n",
    "> 방향벡터 u가 (7, -1) 이므로 (x, y) = (3, 4) + t(7, -1) 이다.(t 는 임의의 실수)|"
   ]
  },
  {
   "cell_type": "markdown",
   "metadata": {},
   "source": [
    "(2) x0 를 포함하고 방향이 u 인 직선의 방정식은  이다. 위에서 구한 직선을 Python을 이용하여 그려보자. t를 –5, -4, ..., 0, 1, 2, ..., 5까지 바꾸어 가면서 quiver를 이용하여 한 그림에 그려봐라. 이 그림을 보면서 끝점의 연결선은 직선의 방정식이다. 이때 벡터선들이 여러 가지 색깔이면 복잡하므로 color가 하나가 되도록 ‘k’ (검은색)을 넣어라. "
   ]
  },
  {
   "cell_type": "code",
   "execution_count": 7,
   "metadata": {},
   "outputs": [],
   "source": [
    "p0 = np.array([3, 4])\n",
    "p1 = np.array([-4, 5])\n",
    "u = p1 - p0"
   ]
  },
  {
   "cell_type": "code",
   "execution_count": 8,
   "metadata": {},
   "outputs": [
    {
     "name": "stdout",
     "output_type": "stream",
     "text": [
      "[-5, -4, -3, -2, -1, 0, 1, 2, 3, 4, 5]\n",
      "[[0. 0.]\n",
      " [0. 0.]\n",
      " [0. 0.]\n",
      " [0. 0.]\n",
      " [0. 0.]\n",
      " [0. 0.]\n",
      " [0. 0.]\n",
      " [0. 0.]\n",
      " [0. 0.]\n",
      " [0. 0.]\n",
      " [0. 0.]]\n"
     ]
    }
   ],
   "source": [
    "t1 = list(range(-5, 6))\n",
    "pts = len(t1)\n",
    "x = np.zeros((pts, 2))\n",
    "print(t1)\n",
    "print(x)"
   ]
  },
  {
   "cell_type": "code",
   "execution_count": 9,
   "metadata": {},
   "outputs": [
    {
     "name": "stdout",
     "output_type": "stream",
     "text": [
      "[[ 38.  -1.]\n",
      " [ 31.   0.]\n",
      " [ 24.   1.]\n",
      " [ 17.   2.]\n",
      " [ 10.   3.]\n",
      " [  3.   4.]\n",
      " [ -4.   5.]\n",
      " [-11.   6.]\n",
      " [-18.   7.]\n",
      " [-25.   8.]\n",
      " [-32.   9.]]\n"
     ]
    }
   ],
   "source": [
    "for i in range(pts):\n",
    "    x[i] = p0 + t1[i]*u\n",
    "print(x)"
   ]
  },
  {
   "cell_type": "code",
   "execution_count": 10,
   "metadata": {},
   "outputs": [],
   "source": [
    "arg={'angles':'xy', 'scale_units':'xy', 'scale': 1, 'color':'k'}\n",
    "ax = plt.gca()\n",
    "ax.quiver(0, 0, x[:, 0], x[:, 1], **arg)\n",
    "mv = np.min(x)\n",
    "Mv = np.max(x)\n",
    "ax.set_xlim(mv, Mv)\n",
    "ax.set_ylim(mv, Mv)\n",
    "ax.set_aspect('equal')"
   ]
  },
  {
   "cell_type": "markdown",
   "metadata": {},
   "source": [
    "(3) 끝점만을 그리고 싶으면 plt.plot를 이용할 수 있다. plt.plot(x[0],x[1],‘b.’)를 이용하면 끝점만 파란색 선으로 그린다. np.linspace를 이용하여 촘촘히 그려서 직선의 방정식에 생각대로 나오는 지 확인해라. "
   ]
  },
  {
   "cell_type": "code",
   "execution_count": 11,
   "metadata": {},
   "outputs": [],
   "source": [
    "t1 = np.linspace(mv, Mv, 500)\n",
    "for t in t1:\n",
    "    x = p0 + t*u\n",
    "    plt.plot(x[0], x[1], 'b.')"
   ]
  },
  {
   "cell_type": "markdown",
   "metadata": {},
   "source": [
    "(4) (1)에 주어진 두점을 plot(x,y,‘ro’)를 이용하여 그리면 빨간색 동그라미로 그려서 직선상에 두 점이 있는 지 확인해라."
   ]
  },
  {
   "cell_type": "code",
   "execution_count": 12,
   "metadata": {},
   "outputs": [
    {
     "data": {
      "text/plain": [
       "[<matplotlib.lines.Line2D at 0x21e01ecfba8>]"
      ]
     },
     "execution_count": 12,
     "metadata": {},
     "output_type": "execute_result"
    }
   ],
   "source": [
    "plt.plot(p0[0], p0[1], 'ro')\n",
    "plt.plot(p1[0], p1[1], 'ro')"
   ]
  },
  {
   "cell_type": "markdown",
   "metadata": {},
   "source": [
    "# 과제 2\n",
    "(1) 3x-2y+z=10과  직선 x=1+t, y=-2+2t, z=4t 이 만나는 점을 구하여라 "
   ]
  },
  {
   "cell_type": "markdown",
   "metadata": {},
   "source": [
    "> 3(1+t)-2(-2+2t)+4t=10 에서 3t = 3 이므로 t = 1이다.\n",
    "> 이때 x = 2, y = 0, z = 4 이므로 만나는 점은 (2, 0, 4) 이다."
   ]
  },
  {
   "cell_type": "code",
   "execution_count": 13,
   "metadata": {},
   "outputs": [],
   "source": [
    "plt.close()\n",
    "A = np.array([[3, -2, 1, 10], [1, 0, -1/4, 1], [0, 1, -1/2, -2]])"
   ]
  },
  {
   "cell_type": "code",
   "execution_count": 14,
   "metadata": {},
   "outputs": [
    {
     "name": "stdout",
     "output_type": "stream",
     "text": [
      "(Matrix([\n",
      "[1, 0, 0, 2.0],\n",
      "[0, 1, 0,   0],\n",
      "[0, 0, 1, 4.0]]), (0, 1, 2))\n"
     ]
    }
   ],
   "source": [
    "R = Matrix(A).rref()\n",
    "print(R)"
   ]
  },
  {
   "cell_type": "code",
   "execution_count": 15,
   "metadata": {},
   "outputs": [],
   "source": [
    "#만나는 점 j\n",
    "j = np.array([2, 0, 4])"
   ]
  },
  {
   "cell_type": "markdown",
   "metadata": {},
   "source": [
    "(2) 평면에 포함된 점 x는 위에서 구한 만나는 점 x0와 평면의 법선 벡터 n과 (x-x0)·n=0 을 만족한다. x0=(x0, y0) 주변의 평면상의 점들을 구하기 위하여 x=x0-5~x0+5, y=y0-5~y0+5 사이에 x, y 에 대하여 평면식을 이용하여 z를 구해서 ax.scatter(x,y,z,c=‘g’,marker=’o’)를 이용하여 그리면 x0 주변의 평면상의 점들을 그릴 수 있다 (초록색 동그라미). 위 평면을 이 방법으로 표현해 보아라. ( x, y가 주어지면 z는 평면의 방정식으로부터 구한다.)"
   ]
  },
  {
   "cell_type": "code",
   "execution_count": 16,
   "metadata": {},
   "outputs": [
    {
     "data": {
      "text/plain": [
       "<mpl_toolkits.mplot3d.art3d.Path3DCollection at 0x21e03f21f98>"
      ]
     },
     "execution_count": 16,
     "metadata": {},
     "output_type": "execute_result"
    }
   ],
   "source": [
    "from mpl_toolkits.mplot3d import Axes3D\n",
    "ax = plt.gca(projection='3d')\n",
    "x0 = j\n",
    "xp=np.array(range(int(x0[0]-5),int(x0[0]+6)))\n",
    "yp=np.array(range(int(x0[1]-5),int(x0[1]+6)))\n",
    "xv, yv = np.meshgrid(xp,yp)\n",
    "zv=10+2*yv-3*xv #from 3x-2y+z=10\n",
    "ax.scatter(xv,yv,zv,c='b',marker='.')"
   ]
  },
  {
   "cell_type": "markdown",
   "metadata": {},
   "source": [
    "(3) 만나는 점 x0을 ‘r’, ‘*’ (빨간색 별모양) 으로 덧 그려라"
   ]
  },
  {
   "cell_type": "code",
   "execution_count": 17,
   "metadata": {},
   "outputs": [
    {
     "data": {
      "text/plain": [
       "<mpl_toolkits.mplot3d.art3d.Path3DCollection at 0x21e040a1278>"
      ]
     },
     "execution_count": 17,
     "metadata": {},
     "output_type": "execute_result"
    }
   ],
   "source": [
    "ax.scatter(x0[0], x0[1], x0[2], c='r', marker='*')"
   ]
  },
  {
   "cell_type": "markdown",
   "metadata": {},
   "source": [
    "(4) 만나는 점 x0에서부터 법선을 10배로 크게 green 색으로 그려라 (color=’g’)."
   ]
  },
  {
   "cell_type": "code",
   "execution_count": 18,
   "metadata": {},
   "outputs": [
    {
     "data": {
      "text/plain": [
       "<mpl_toolkits.mplot3d.art3d.Line3DCollection at 0x21e040b2198>"
      ]
     },
     "execution_count": 18,
     "metadata": {},
     "output_type": "execute_result"
    }
   ],
   "source": [
    "n = np.array([3, -2, 1])\n",
    "n=10*(3, -2, 1)\n",
    "ax.quiver(x0[0],x0[1],x0[2],n[0],n[1],n[2], 1, color='g')"
   ]
  },
  {
   "cell_type": "code",
   "execution_count": 19,
   "metadata": {},
   "outputs": [
    {
     "data": {
      "text/plain": [
       "(-21.0, 29.0)"
      ]
     },
     "execution_count": 19,
     "metadata": {},
     "output_type": "execute_result"
    }
   ],
   "source": [
    "max_range = np.array([xv.max()-xv.min(), yv.max()-yv.min(), zv.max()-zv.min()]).max() / 2.0\n",
    "mid_x = (xv.max()+xv.min()) * 0.5\n",
    "mid_y = (yv.max()+yv.min()) * 0.5\n",
    "mid_z = (zv.max()+zv.min()) * 0.5\n",
    "ax.set_xlim(mid_x - max_range, mid_x + max_range)\n",
    "ax.set_ylim(mid_y - max_range, mid_y + max_range)\n",
    "ax.set_zlim(mid_z - max_range, mid_z + max_range)"
   ]
  },
  {
   "cell_type": "markdown",
   "metadata": {},
   "source": [
    "(6) 위의 그림을 돌려보면서 직선과 평면과의 관계를 관찰하여라\n",
    "> 직선과 평면은 한점에서 만난다."
   ]
  },
  {
   "cell_type": "markdown",
   "metadata": {},
   "source": [
    "# 과제 3\n",
    "(1) 점 x0=(2,3,5)의 평면 x-2y+2z+3=0으로의 수선의 발 xh를 구해라\n",
    "> x0 를 지나고 법선 벡터 (1, -2, 2)의 직선과 평면이 만나는 점을 구하면 된다\n",
    "> (x,y,z)=(2,3,5)+t(1,-2,2)\n",
    "> x = 2+t, y = 3-2t, z = 5+2t\n",
    "> x - 2y + 2z + 3 = 0 에 대입하여 t로 정리하면\n",
    "> 9t = -9이므로 t = -1 이다\n",
    "> 따라서 만나는 점은 (1, 5, 3) 이다."
   ]
  },
  {
   "cell_type": "markdown",
   "metadata": {},
   "source": [
    "(2) 위의 평면을 초록색 작은 동그라미로 visualize하고, 주어진 점 x0는 빨간색 동그라미, 수선의 발은 빨간색 별로 표시해라"
   ]
  },
  {
   "cell_type": "code",
   "execution_count": 20,
   "metadata": {},
   "outputs": [
    {
     "data": {
      "text/plain": [
       "<mpl_toolkits.mplot3d.art3d.Path3DCollection at 0x21e03fb77f0>"
      ]
     },
     "execution_count": 20,
     "metadata": {},
     "output_type": "execute_result"
    }
   ],
   "source": [
    "plt.close()\n",
    "ax=plt.gca(projection='3d')\n",
    "h = np.array([1, 5, 3])\n",
    "xp = np.array(range(h[0]-5, h[0]+6))\n",
    "yp = np.array(range(h[1]-5, h[1]+6))\n",
    "xv, yv = np.meshgrid(xp, yp)\n",
    "zv = 1/2*(-3+2*yv-xv)\n",
    "ax.scatter(xv, yv, zv, c='g', marker='.')\n",
    "x0=np.array([2, 3, 5])\n",
    "ax.scatter(x0[0], x0[1], x0[2], c='r', marker='o')\n",
    "ax.scatter(h[0], h[1], h[2], c='r', marker='*')"
   ]
  },
  {
   "cell_type": "markdown",
   "metadata": {},
   "source": [
    "(3) x0 부터 수선의 발까지 검은색 실선으로 그려라 (x=x0+t(xh-x0), t=0:0.01:1을 이용하여 그리면 됨)"
   ]
  },
  {
   "cell_type": "code",
   "execution_count": 26,
   "metadata": {},
   "outputs": [
    {
     "data": {
      "text/plain": [
       "<mpl_toolkits.mplot3d.art3d.Line3DCollection at 0x2274a2e3588>"
      ]
     },
     "execution_count": 26,
     "metadata": {},
     "output_type": "execute_result"
    }
   ],
   "source": [
    "ax.quiver(x0[0], x0[1], x0[2], h[0]-x0[0], h[1]-x0[1], h[2]-x0[2], 1, color='k')"
   ]
  },
  {
   "cell_type": "markdown",
   "metadata": {},
   "source": [
    "(4) (3)에서 그린 선과 평면은 수직이다. 3축의 단위를 같게하여 그림을 돌려가면서 관찰하여라."
   ]
  },
  {
   "cell_type": "code",
   "execution_count": 27,
   "metadata": {},
   "outputs": [
    {
     "data": {
      "text/plain": [
       "(-4.5, 10.5)"
      ]
     },
     "execution_count": 27,
     "metadata": {},
     "output_type": "execute_result"
    }
   ],
   "source": [
    "max_range = np.array([xv.max()-xv.min(), yv.max()-yv.min(), zv.max()-zv.min()]).max() / 2.0\n",
    "mid_x = (xv.max()+xv.min()) * 0.5\n",
    "mid_y = (yv.max()+yv.min()) * 0.5\n",
    "mid_z = (zv.max()+zv.min()) * 0.5\n",
    "ax.set_xlim(mid_x - max_range, mid_x + max_range)\n",
    "ax.set_ylim(mid_y - max_range, mid_y + max_range)\n",
    "ax.set_zlim(mid_z - max_range, mid_z + max_range)"
   ]
  },
  {
   "cell_type": "code",
   "execution_count": null,
   "metadata": {},
   "outputs": [],
   "source": []
  },
  {
   "cell_type": "code",
   "execution_count": null,
   "metadata": {},
   "outputs": [],
   "source": []
  }
 ],
 "metadata": {
  "kernelspec": {
   "display_name": "Python 3",
   "language": "python",
   "name": "python3"
  },
  "language_info": {
   "codemirror_mode": {
    "name": "ipython",
    "version": 3
   },
   "file_extension": ".py",
   "mimetype": "text/x-python",
   "name": "python",
   "nbconvert_exporter": "python",
   "pygments_lexer": "ipython3",
   "version": "3.7.3"
  }
 },
 "nbformat": 4,
 "nbformat_minor": 4
}
