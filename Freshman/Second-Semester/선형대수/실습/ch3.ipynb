{
 "cells": [
  {
   "cell_type": "code",
   "execution_count": 1,
   "metadata": {},
   "outputs": [],
   "source": [
    "import numpy as np\n",
    "import numpy.linalg as la\n",
    "%matplotlib qt\n",
    "import matplotlib.pyplot as plt"
   ]
  },
  {
   "cell_type": "markdown",
   "metadata": {},
   "source": [
    "### 벡터의 정의와 연산\n",
    "벡터는 크기와 방향이 있고 표시할 때 시점이 다를 수 있다.\n",
    "즉 다음 두 벡터 $\\vec{AB}$ 와 $\\vec{CD}$는 같다"
   ]
  },
  {
   "cell_type": "code",
   "execution_count": 2,
   "metadata": {},
   "outputs": [],
   "source": [
    "B=np.array([1,2])\n",
    "A=np.array([2,1])"
   ]
  },
  {
   "cell_type": "code",
   "execution_count": 3,
   "metadata": {},
   "outputs": [],
   "source": [
    "plt.close()\n",
    "ax=plt.gca()"
   ]
  },
  {
   "cell_type": "code",
   "execution_count": 4,
   "metadata": {},
   "outputs": [
    {
     "ename": "NameError",
     "evalue": "name 'D' is not defined",
     "output_type": "error",
     "traceback": [
      "\u001b[1;31m---------------------------------------------------------------------------\u001b[0m",
      "\u001b[1;31mNameError\u001b[0m                                 Traceback (most recent call last)",
      "\u001b[1;32m<ipython-input-4-0ec3d1d9a93a>\u001b[0m in \u001b[0;36m<module>\u001b[1;34m\u001b[0m\n\u001b[0;32m      1\u001b[0m \u001b[0margs\u001b[0m\u001b[1;33m=\u001b[0m\u001b[1;33m{\u001b[0m\u001b[1;34m\"angles\"\u001b[0m\u001b[1;33m:\u001b[0m\u001b[1;34m\"xy\"\u001b[0m\u001b[1;33m,\u001b[0m\u001b[1;34m\"scale\"\u001b[0m\u001b[1;33m:\u001b[0m\u001b[1;36m1\u001b[0m\u001b[1;33m,\u001b[0m\u001b[1;34m\"scale_units\"\u001b[0m\u001b[1;33m:\u001b[0m\u001b[1;34m\"xy\"\u001b[0m\u001b[1;33m}\u001b[0m\u001b[1;33m\u001b[0m\u001b[1;33m\u001b[0m\u001b[0m\n\u001b[1;32m----> 2\u001b[1;33m \u001b[0max\u001b[0m\u001b[1;33m.\u001b[0m\u001b[0mquiver\u001b[0m\u001b[1;33m(\u001b[0m\u001b[0mA\u001b[0m\u001b[1;33m[\u001b[0m\u001b[1;36m0\u001b[0m\u001b[1;33m]\u001b[0m\u001b[1;33m,\u001b[0m\u001b[0mA\u001b[0m\u001b[1;33m[\u001b[0m\u001b[1;36m1\u001b[0m\u001b[1;33m]\u001b[0m\u001b[1;33m,\u001b[0m\u001b[0mD\u001b[0m\u001b[1;33m[\u001b[0m\u001b[1;36m0\u001b[0m\u001b[1;33m]\u001b[0m\u001b[1;33m,\u001b[0m\u001b[0mD\u001b[0m\u001b[1;33m[\u001b[0m\u001b[1;36m1\u001b[0m\u001b[1;33m]\u001b[0m\u001b[1;33m,\u001b[0m\u001b[1;33m**\u001b[0m\u001b[0margs\u001b[0m\u001b[1;33m)\u001b[0m\u001b[1;33m\u001b[0m\u001b[1;33m\u001b[0m\u001b[0m\n\u001b[0m\u001b[0;32m      3\u001b[0m \u001b[0max\u001b[0m\u001b[1;33m.\u001b[0m\u001b[0mquiver\u001b[0m\u001b[1;33m(\u001b[0m\u001b[0mC\u001b[0m\u001b[1;33m[\u001b[0m\u001b[1;36m0\u001b[0m\u001b[1;33m]\u001b[0m\u001b[1;33m,\u001b[0m\u001b[0mC\u001b[0m\u001b[1;33m[\u001b[0m\u001b[1;36m1\u001b[0m\u001b[1;33m]\u001b[0m\u001b[1;33m,\u001b[0m\u001b[0mD\u001b[0m\u001b[1;33m[\u001b[0m\u001b[1;36m0\u001b[0m\u001b[1;33m]\u001b[0m\u001b[1;33m,\u001b[0m\u001b[0mD\u001b[0m\u001b[1;33m[\u001b[0m\u001b[1;36m1\u001b[0m\u001b[1;33m]\u001b[0m\u001b[1;33m,\u001b[0m\u001b[1;33m**\u001b[0m\u001b[0margs\u001b[0m\u001b[1;33m)\u001b[0m\u001b[1;33m\u001b[0m\u001b[1;33m\u001b[0m\u001b[0m\n\u001b[0;32m      4\u001b[0m \u001b[0max\u001b[0m\u001b[1;33m.\u001b[0m\u001b[0mset_xlim\u001b[0m\u001b[1;33m(\u001b[0m\u001b[1;33m(\u001b[0m\u001b[1;33m-\u001b[0m\u001b[1;36m2\u001b[0m\u001b[1;33m,\u001b[0m\u001b[1;36m4\u001b[0m\u001b[1;33m)\u001b[0m\u001b[1;33m)\u001b[0m\u001b[1;33m\u001b[0m\u001b[1;33m\u001b[0m\u001b[0m\n\u001b[0;32m      5\u001b[0m \u001b[0max\u001b[0m\u001b[1;33m.\u001b[0m\u001b[0mset_ylim\u001b[0m\u001b[1;33m(\u001b[0m\u001b[1;33m(\u001b[0m\u001b[1;33m-\u001b[0m\u001b[1;36m2\u001b[0m\u001b[1;33m,\u001b[0m\u001b[1;36m4\u001b[0m\u001b[1;33m)\u001b[0m\u001b[1;33m)\u001b[0m\u001b[1;33m\u001b[0m\u001b[1;33m\u001b[0m\u001b[0m\n",
      "\u001b[1;31mNameError\u001b[0m: name 'D' is not defined"
     ]
    }
   ],
   "source": [
    "args={\"angles\":\"xy\",\"scale\":1,\"scale_units\":\"xy\"}\n",
    "ax.quiver(A[0],A[1],D[0],D[1],**args)\n",
    "ax.quiver(C[0],C[1],D[0],D[1],**args)\n",
    "ax.set_xlim((-2,4))\n",
    "ax.set_ylim((-2,4))\n",
    "ax.text(A[0]-0.2,A[1]-0.2,'A')\n",
    "ax.text(B[0]+0.2,B[1]+0.2,'B')\n",
    "ax.text(C[0]-0.2,C[1]-0.2,'C')\n",
    "ax.text(D[0]+0.2,D[1]+0.2,'D')\n",
    "ax.axhline(0, color='g')\n",
    "ax.axvline(0, color='g')\n",
    "ax.set_aspect('equal')"
   ]
  },
  {
   "cell_type": "markdown",
   "metadata": {},
   "source": [
    "벡터의 크기는 norm이라하고 다음과 같이 표현한다\n",
    "\n",
    "2D: $\\sqrt{x_1^2 + x_2^2}$\n",
    "\n",
    "3D: $\\sqrt{x_1^2 + x_2^2 + x_3^2}$"
   ]
  },
  {
   "cell_type": "code",
   "execution_count": null,
   "metadata": {},
   "outputs": [],
   "source": [
    "ax.grid()"
   ]
  },
  {
   "cell_type": "code",
   "execution_count": null,
   "metadata": {},
   "outputs": [],
   "source": [
    "ax.quiver(B[0],B[1],**args, color='r')"
   ]
  },
  {
   "cell_type": "code",
   "execution_count": 5,
   "metadata": {},
   "outputs": [],
   "source": [
    "x=np.array([2,-3,5])"
   ]
  },
  {
   "cell_type": "code",
   "execution_count": 6,
   "metadata": {},
   "outputs": [
    {
     "name": "stdout",
     "output_type": "stream",
     "text": [
      "[ 2 -3  5]\n"
     ]
    }
   ],
   "source": [
    "print(x)"
   ]
  },
  {
   "cell_type": "code",
   "execution_count": 7,
   "metadata": {},
   "outputs": [
    {
     "name": "stdout",
     "output_type": "stream",
     "text": [
      "6.164414002968976\n"
     ]
    }
   ],
   "source": [
    "print(np.sqrt(x[0]**2+x[1]**2+x[2]**2))"
   ]
  },
  {
   "cell_type": "code",
   "execution_count": 8,
   "metadata": {},
   "outputs": [
    {
     "data": {
      "text/plain": [
       "6.164414002968976"
      ]
     },
     "execution_count": 8,
     "metadata": {},
     "output_type": "execute_result"
    }
   ],
   "source": [
    "la.norm(x)"
   ]
  },
  {
   "cell_type": "markdown",
   "metadata": {},
   "source": [
    "### 벡터합과 스칼라곱"
   ]
  },
  {
   "cell_type": "code",
   "execution_count": 9,
   "metadata": {},
   "outputs": [],
   "source": [
    "plt.close()"
   ]
  },
  {
   "cell_type": "code",
   "execution_count": 10,
   "metadata": {},
   "outputs": [],
   "source": [
    "x=np.array([4,5])\n",
    "y=np.array([-1,3])\n",
    "ax=plt.gca()\n",
    "ax.quiver(0,0,x[0],x[1],**args)\n",
    "ax.text(x[0],x[1],'x')\n",
    "ax.quiver(0,0,y[0],y[1],**args)\n",
    "ax.text(y[0],y[1],'y')\n",
    "ax.quiver(0,0,(x+y)[0],(x+y)[1],**args,color='b')\n",
    "ax.text((x+y)[0],(x+y)[1],'x+y')\n",
    "ax.set_xlim((-2,5))\n",
    "ax.set_ylim((-1,10))\n",
    "ax.axhline(0, color='g')\n",
    "ax.axvline(0, color='g')\n",
    "ax.quiver(y[0],y[1],x[0],x[1],**args,color='y')\n",
    "ax.quiver(x[0],x[1],y[0],y[1],**args,color='y')\n",
    "ax.quiver(0,0,(x+y)[0],(x+y)[1],**args,color='b')\n",
    "ax.set_aspect('equal')"
   ]
  },
  {
   "cell_type": "markdown",
   "metadata": {},
   "source": [
    "두 벡터사이의 거리는 두벡터의 시점을 원점에 두고 종점간의 거리이다. \n",
    "\n",
    "2D: $\\Vert x-y \\Vert = \\sqrt{(x_1 - y_1)^2 + (x_2 - y_2)^2}$\n",
    "\n",
    "3D: $\\Vert x-y \\Vert = \\sqrt{(x_1 - y_1)^2 + (x_2 - y_2)^2 + (x_3 - y_3)^2}$"
   ]
  },
  {
   "cell_type": "code",
   "execution_count": 11,
   "metadata": {},
   "outputs": [],
   "source": [
    "x=np.array([2,-1,4])\n",
    "y=np.array([3,1,6])"
   ]
  },
  {
   "cell_type": "code",
   "execution_count": 12,
   "metadata": {},
   "outputs": [
    {
     "data": {
      "text/plain": [
       "3.0"
      ]
     },
     "execution_count": 12,
     "metadata": {},
     "output_type": "execute_result"
    }
   ],
   "source": [
    "la.norm(x-y)"
   ]
  },
  {
   "cell_type": "code",
   "execution_count": 13,
   "metadata": {},
   "outputs": [
    {
     "name": "stdout",
     "output_type": "stream",
     "text": [
      "[-1 -2 -2]\n"
     ]
    }
   ],
   "source": [
    "print(x-y)"
   ]
  },
  {
   "cell_type": "code",
   "execution_count": 14,
   "metadata": {},
   "outputs": [],
   "source": [
    "plt.close()"
   ]
  },
  {
   "cell_type": "markdown",
   "metadata": {},
   "source": [
    "표준단위벡터"
   ]
  },
  {
   "cell_type": "code",
   "execution_count": 15,
   "metadata": {},
   "outputs": [],
   "source": [
    "i=np.array([1,0])\n",
    "j=np.array([0,1])\n",
    "ax=plt.gca()\n",
    "ax.quiver(i[0],i[1],**args,color='b')\n",
    "ax.quiver(j[0],j[1],**args,color='b')\n",
    "ax.set_xlim((-1,2))\n",
    "ax.set_ylim((-1,2))\n",
    "ax.grid()\n",
    "ax.set_aspect('equal')"
   ]
  },
  {
   "cell_type": "code",
   "execution_count": 16,
   "metadata": {},
   "outputs": [
    {
     "name": "stdout",
     "output_type": "stream",
     "text": [
      "[3 5]\n"
     ]
    }
   ],
   "source": [
    "x=np.array([3,5])\n",
    "print(x)"
   ]
  },
  {
   "cell_type": "code",
   "execution_count": 17,
   "metadata": {},
   "outputs": [
    {
     "name": "stdout",
     "output_type": "stream",
     "text": [
      "[3 5]\n"
     ]
    }
   ],
   "source": [
    "xd=3*i+5*j\n",
    "print(xd)"
   ]
  },
  {
   "cell_type": "markdown",
   "metadata": {},
   "source": [
    "### 벡터의 내적"
   ]
  },
  {
   "cell_type": "code",
   "execution_count": 18,
   "metadata": {},
   "outputs": [],
   "source": [
    "x=np.array([1,3,-2])\n",
    "y=np.array([-2,2,7])"
   ]
  },
  {
   "cell_type": "code",
   "execution_count": 19,
   "metadata": {},
   "outputs": [
    {
     "data": {
      "text/plain": [
       "-10"
      ]
     },
     "execution_count": 19,
     "metadata": {},
     "output_type": "execute_result"
    }
   ],
   "source": [
    "np.dot(x,y)"
   ]
  },
  {
   "cell_type": "code",
   "execution_count": 20,
   "metadata": {},
   "outputs": [
    {
     "name": "stdout",
     "output_type": "stream",
     "text": [
      "-10\n"
     ]
    }
   ],
   "source": [
    "print(x[0]*y[0]+x[1]*y[1]+x[2]*y[2])"
   ]
  },
  {
   "cell_type": "code",
   "execution_count": 21,
   "metadata": {},
   "outputs": [],
   "source": [
    "i=np.array([1,0,0])\n",
    "j=np.array([0,1,0])\n",
    "k=np.array([0,0,1])"
   ]
  },
  {
   "cell_type": "code",
   "execution_count": 22,
   "metadata": {},
   "outputs": [
    {
     "name": "stdout",
     "output_type": "stream",
     "text": [
      "1\n",
      "0\n"
     ]
    }
   ],
   "source": [
    "print(np.dot(i,i))\n",
    "print(np.dot(i,j))"
   ]
  },
  {
   "cell_type": "code",
   "execution_count": 23,
   "metadata": {},
   "outputs": [],
   "source": [
    "plt.close()"
   ]
  },
  {
   "cell_type": "markdown",
   "metadata": {},
   "source": [
    "두 벡터가 이루는 각"
   ]
  },
  {
   "cell_type": "code",
   "execution_count": 24,
   "metadata": {},
   "outputs": [],
   "source": [
    "x=np.array([1,0])\n",
    "y=np.array([2,2])\n",
    "ax=plt.gca()\n",
    "ax.quiver(x[0],x[1],**args)\n",
    "ax.quiver(y[0],y[1],**args)\n",
    "ax.set_xticks(range(-1,4))\n",
    "ax.set_yticks(range(-1,4))\n",
    "ax.grid()\n",
    "ax.set_aspect('equal')"
   ]
  },
  {
   "cell_type": "code",
   "execution_count": 25,
   "metadata": {},
   "outputs": [
    {
     "name": "stdout",
     "output_type": "stream",
     "text": [
      "0.7071067811865475\n"
     ]
    }
   ],
   "source": [
    "c=np.dot(x,y)/(la.norm(x)*la.norm(y))\n",
    "print(c)"
   ]
  },
  {
   "cell_type": "code",
   "execution_count": 26,
   "metadata": {},
   "outputs": [],
   "source": [
    "c=np.dot(x,y)/(la.norm(x)*la.norm(y))"
   ]
  },
  {
   "cell_type": "code",
   "execution_count": 27,
   "metadata": {},
   "outputs": [
    {
     "name": "stdout",
     "output_type": "stream",
     "text": [
      "45.02282465335691\n"
     ]
    }
   ],
   "source": [
    "print(np.arccos(c)/3.14*180)"
   ]
  },
  {
   "cell_type": "code",
   "execution_count": 28,
   "metadata": {},
   "outputs": [
    {
     "data": {
      "text/plain": [
       "45.00000000000001"
      ]
     },
     "execution_count": 28,
     "metadata": {},
     "output_type": "execute_result"
    }
   ],
   "source": [
    "np.arccos(c)*180/np.pi"
   ]
  },
  {
   "cell_type": "markdown",
   "metadata": {},
   "source": [
    "## **직교정사영**\n",
    "\n",
    "- x 벡터의 y 벡터로의 정사영은 x의 y방향 성분을 말하고 $proj_\\bf{y}\\bf{x}$ 라고 쓴다\n",
    "- $proj_\\bf{y}\\bf{x}$  방향의 단위벡터는 $\\bf{y}$ 벡터를 그 크기로 나눈것과 같다. 즉 $\\frac{\\bf{y}}{\\Vert\\bf{y}\\Vert}$ 이다\n",
    "- $proj_\\bf{y}\\bf{x}$ 의 크기는 $\\bf{x}$ 와 $\\bf{y}$ 벡터 방향의 단위벡터와 내적한 것과 같다. 즉  $\\Vert proj_\\bf{y}\\bf{x}\\Vert = \\bf{x} \\cdot \\frac{\\bf{y}}{\\Vert\\bf{y}\\Vert}$   \n",
    "\n",
    "<a><img src=\"projection.png\" width=\"400\"></a>"
   ]
  },
  {
   "cell_type": "code",
   "execution_count": 29,
   "metadata": {},
   "outputs": [],
   "source": [
    "x=np.array([2, 2])\n",
    "y=np.array([3, 1])"
   ]
  },
  {
   "cell_type": "code",
   "execution_count": 30,
   "metadata": {},
   "outputs": [
    {
     "name": "stdout",
     "output_type": "stream",
     "text": [
      "[2.4 0.8]\n"
     ]
    }
   ],
   "source": [
    "z=np.dot(x,y/la.norm(y))*y/la.norm(y)\n",
    "print(z)"
   ]
  },
  {
   "cell_type": "code",
   "execution_count": 31,
   "metadata": {},
   "outputs": [],
   "source": [
    "plt.close()"
   ]
  },
  {
   "cell_type": "code",
   "execution_count": 32,
   "metadata": {},
   "outputs": [],
   "source": [
    "ax=plt.gca()\n",
    "ax.quiver(x[0],x[1],**args)\n",
    "ax.quiver(y[0],y[1],**args)\n",
    "ax.quiver(z[0],z[1],**args,color='b')\n",
    "h=z-x\n",
    "ax.quiver(x[0],x[1],h[0],h[1],**args,color='y')\n",
    "ax.set_xticks(range(-1,4))\n",
    "ax.set_yticks(range(-1,4))\n",
    "ax.grid()\n",
    "ax.set_aspect('equal')"
   ]
  },
  {
   "cell_type": "code",
   "execution_count": 33,
   "metadata": {},
   "outputs": [
    {
     "name": "stdout",
     "output_type": "stream",
     "text": [
      "90.00000000000001\n"
     ]
    }
   ],
   "source": [
    "print(np.arccos(np.dot(z,h)/(la.norm(z)*la.norm(h)))/np.pi*180)"
   ]
  },
  {
   "cell_type": "markdown",
   "metadata": {},
   "source": [
    "## **벡터의 외적** \n",
    "   \n",
    "$\\begin{aligned}\n",
    "\\mathbf{x} \\times \\mathbf{y} & = \\begin{vmatrix}\n",
    "\\mathbf{i} & \\mathbf{j} & \\mathbf{k} \\\\\n",
    "x_1 & x_2 & x_3 \\\\\n",
    "y_1 & y_2 & y_3 \\\\\n",
    "\\end{vmatrix} \\\\ \\\\\n",
    " & = \\begin{vmatrix}\n",
    "x_2 & x_3 \\\\\n",
    "y_2 & y_3 \\\\\n",
    "\\end{vmatrix} \\mathbf{i} -\n",
    "\\begin{vmatrix}\n",
    "x_1 & x_3 \\\\\n",
    "y_1 & y_3 \\\\\n",
    "\\end{vmatrix} \\mathbf{j} +\n",
    "\\begin{vmatrix}\n",
    "x_1 & x_2 \\\\\n",
    "y_1 & y_2 \\\\\n",
    "\\end{vmatrix} \\mathbf{k} \\\\ \\\\\n",
    "& = (x_2 y_3 - x_3 y_2 ) \\mathbf{i} - (x_1 y_3 - x_3 y_1 ) \\mathbf{j} + (x_1 y_2 - x_2 y_1 ) \\mathbf{k}\n",
    "\\end{aligned}$"
   ]
  },
  {
   "cell_type": "code",
   "execution_count": 34,
   "metadata": {},
   "outputs": [],
   "source": [
    "x=np.array([-2, 1, 0])\n",
    "y=np.array([0, 3, 0])"
   ]
  },
  {
   "cell_type": "code",
   "execution_count": 35,
   "metadata": {},
   "outputs": [
    {
     "data": {
      "text/plain": [
       "array([ 0,  0, -6])"
      ]
     },
     "execution_count": 35,
     "metadata": {},
     "output_type": "execute_result"
    }
   ],
   "source": [
    "np.cross(x,y)"
   ]
  },
  {
   "cell_type": "code",
   "execution_count": 36,
   "metadata": {},
   "outputs": [],
   "source": [
    "x=np.array([-2, 3, 0])\n",
    "y=np.array([3, 0, 1])"
   ]
  },
  {
   "cell_type": "code",
   "execution_count": 37,
   "metadata": {},
   "outputs": [
    {
     "data": {
      "text/plain": [
       "array([ 3,  2, -9])"
      ]
     },
     "execution_count": 37,
     "metadata": {},
     "output_type": "execute_result"
    }
   ],
   "source": [
    "np.cross(x,y)"
   ]
  },
  {
   "cell_type": "markdown",
   "metadata": {},
   "source": [
    "단위벡터의 외적"
   ]
  },
  {
   "cell_type": "code",
   "execution_count": 38,
   "metadata": {},
   "outputs": [],
   "source": [
    "i=np.array([1,0,0])\n",
    "j=np.array([0,1,0])\n",
    "k=np.array([0,0,1])"
   ]
  },
  {
   "cell_type": "code",
   "execution_count": 39,
   "metadata": {},
   "outputs": [
    {
     "data": {
      "text/plain": [
       "array([0, 0, 0])"
      ]
     },
     "execution_count": 39,
     "metadata": {},
     "output_type": "execute_result"
    }
   ],
   "source": [
    "np.cross(i,i)"
   ]
  },
  {
   "cell_type": "code",
   "execution_count": 40,
   "metadata": {},
   "outputs": [
    {
     "data": {
      "text/plain": [
       "array([0, 0, 1])"
      ]
     },
     "execution_count": 40,
     "metadata": {},
     "output_type": "execute_result"
    }
   ],
   "source": [
    "np.cross(i,j)"
   ]
  },
  {
   "cell_type": "code",
   "execution_count": 41,
   "metadata": {},
   "outputs": [
    {
     "data": {
      "text/plain": [
       "array([ 0,  0, -1])"
      ]
     },
     "execution_count": 41,
     "metadata": {},
     "output_type": "execute_result"
    }
   ],
   "source": [
    "np.cross(j,i)"
   ]
  },
  {
   "cell_type": "code",
   "execution_count": 42,
   "metadata": {},
   "outputs": [
    {
     "data": {
      "text/plain": [
       "array([-1,  0,  0])"
      ]
     },
     "execution_count": 42,
     "metadata": {},
     "output_type": "execute_result"
    }
   ],
   "source": [
    "np.cross(k,j)"
   ]
  },
  {
   "cell_type": "markdown",
   "metadata": {},
   "source": [
    "3차원에서 두 벡터에 모두 수직인 벡터"
   ]
  },
  {
   "cell_type": "code",
   "execution_count": 43,
   "metadata": {},
   "outputs": [
    {
     "name": "stderr",
     "output_type": "stream",
     "text": [
      "C:\\Users\\plane\\Anaconda3\\lib\\site-packages\\ipykernel_launcher.py:6: UserWarning: Requested projection is different from current axis projection, creating new axis with requested projection.\n",
      "  \n",
      "C:\\Users\\plane\\Anaconda3\\lib\\site-packages\\ipykernel_launcher.py:6: MatplotlibDeprecationWarning: Adding an axes using the same arguments as a previous axes currently reuses the earlier instance.  In a future version, a new instance will always be created and returned.  Meanwhile, this warning can be suppressed, and the future behavior ensured, by passing a unique label to each axes instance.\n",
      "  \n"
     ]
    },
    {
     "data": {
      "text/plain": [
       "Text(-3, -2, 'z')"
      ]
     },
     "execution_count": 43,
     "metadata": {},
     "output_type": "execute_result"
    }
   ],
   "source": [
    "x=np.array([-2,3,0])\n",
    "y=np.array([1,1,-1])\n",
    "z=np.cross(x,y)\n",
    "\n",
    "from mpl_toolkits.mplot3d import axes3d\n",
    "ax = plt.gca(projection='3d')\n",
    "\n",
    "vts = np.vstack((x,y,z))\n",
    "colors=['r','g','b']\n",
    "ax.quiver(np.zeros(3),np.zeros(3),np.zeros(3),vts[:,0],vts[:,1],vts[:,2],color=colors)\n",
    "mv=np.max(np.abs(vts))\n",
    "ax.set_xlim(-mv,mv)\n",
    "ax.set_ylim(-mv,mv)\n",
    "ax.set_zlim(-mv,mv)\n",
    "ax.text(x[0],x[1],x[2],'x')\n",
    "ax.text(y[0],y[1],y[2],'y')\n",
    "ax.text(z[0],z[1],z[2],'z')"
   ]
  },
  {
   "cell_type": "code",
   "execution_count": 44,
   "metadata": {},
   "outputs": [
    {
     "name": "stdout",
     "output_type": "stream",
     "text": [
      "[[-2  3  0]\n",
      " [ 1  1 -1]\n",
      " [-3 -2 -5]]\n"
     ]
    },
    {
     "data": {
      "text/plain": [
       "5"
      ]
     },
     "execution_count": 44,
     "metadata": {},
     "output_type": "execute_result"
    }
   ],
   "source": [
    "print(vts)\n",
    "np.max(np.abs(vts))"
   ]
  },
  {
   "cell_type": "markdown",
   "metadata": {},
   "source": [
    "### 벡터곱의 크기 (벡터곱 = 외적 = cross product)\n",
    "\n",
    "<a><img src=\"unitInnerOuter.png\" width=\"200\" align=\"left\"></a> 사이각 $\\theta = \\beta - \\alpha$\n",
    "\n",
    "- $\\mathbf{u} = (x_1 , x_2 ) = (\\cos \\alpha , \\sin \\alpha )$\n",
    "\n",
    "- $\\mathbf{v} = (y_1 , y_2 ) =  (\\cos \\beta , \\sin \\beta )$\n",
    "\n",
    "### **내적** (inner product)\n",
    "- $\\mathbf{u} \\cdot \\mathbf{v} = x_1 y_1 + x_2 y_2 = \\cos \\beta \\cos \\alpha + \\sin \\beta \\sin \\alpha = \\cos ( \\beta - \\alpha) = \\cos \\theta$\n",
    "\n",
    "### **외적** (outer product, vector product, cross product)\n",
    "    \n",
    "\n",
    "- $\\begin{equation*}\n",
    "\\mathbf{u} = x_1 \\mathbf{i} + x_2 \\mathbf{j} \\\\\n",
    "\\mathbf{v} = y_1 \\mathbf{i} + y_2 \\mathbf{j}\n",
    "\\end{equation*}$\n",
    "    \n",
    "\n",
    "- $\\begin{align}\n",
    "\\mathbf{u} \\times \\mathbf{v} & = \\begin{vmatrix}\n",
    "\\mathbf{i} & \\mathbf{j} & \\mathbf{k} \\\\\n",
    "x_1 & x_2 & 0 \\\\\n",
    "y_1 & y_2 & 0 \\\\\n",
    "\\end{vmatrix} \\\\ \n",
    "& = (x_1 y_2 - x_2 y_1 ) \\mathbf{k} \\\\ \n",
    "& = (\\cos \\alpha \\sin \\beta - \\cos \\beta \\sin \\alpha ) \\\\ \n",
    "& = \\sin \\theta\n",
    "\\end{align}$\n",
    "    "
   ]
  },
  {
   "cell_type": "code",
   "execution_count": 45,
   "metadata": {},
   "outputs": [
    {
     "data": {
      "text/plain": [
       "array([-3, -2, -5])"
      ]
     },
     "execution_count": 45,
     "metadata": {},
     "output_type": "execute_result"
    }
   ],
   "source": [
    "np.cross(x,y)"
   ]
  },
  {
   "cell_type": "code",
   "execution_count": 46,
   "metadata": {},
   "outputs": [],
   "source": [
    "A=np.array([2, -1, 0])\n",
    "B=np.array([3, 0, 1])\n",
    "C=np.array([0, 2, -1])"
   ]
  },
  {
   "cell_type": "markdown",
   "metadata": {},
   "source": [
    "### 외적의 기하학적 의미\n",
    "\n",
    "<img src=\"crossProduct.png\" width=400>\n",
    "\n",
    "$\\Vert \\mathbf{x} \\times \\mathbf{y} \\Vert = \\Vert \\mathbf{x}\\Vert \\Vert \\mathbf{y}\\Vert \\Vert \\mathbf{u}_\\mathbf{x} \\times \\mathbf{u}_\\mathbf{y} \\Vert = \\Vert \\mathbf{x}\\Vert \\Vert \\mathbf{y}\\Vert\\sin \\theta$"
   ]
  },
  {
   "cell_type": "markdown",
   "metadata": {},
   "source": [
    "---\n",
    "(example) 세꼭지점이 $A=(2,-1,0)$, $B=(3,0,1)$, $C=(0,2,-1)$ 인 평행 사변형의 넓이는?\n",
    "\n",
    "<img src=\"평행사변형넓이.jpg\" width=300>"
   ]
  },
  {
   "cell_type": "code",
   "execution_count": 47,
   "metadata": {},
   "outputs": [
    {
     "name": "stdout",
     "output_type": "stream",
     "text": [
      "[1 1 1] [-2  3 -1]\n"
     ]
    }
   ],
   "source": [
    "x=B-A\n",
    "y=C-A\n",
    "print(x,y)"
   ]
  },
  {
   "cell_type": "code",
   "execution_count": 48,
   "metadata": {},
   "outputs": [
    {
     "data": {
      "text/plain": [
       "6.48074069840786"
      ]
     },
     "execution_count": 48,
     "metadata": {},
     "output_type": "execute_result"
    }
   ],
   "source": [
    "la.norm(np.cross(x,y))"
   ]
  },
  {
   "cell_type": "markdown",
   "metadata": {},
   "source": [
    "### 스칼라 삼중적\n",
    "\n",
    "$\\mathbf{x} \\cdot (\\mathbf{y} \\times \\mathbf{z}) = \\begin{vmatrix}\n",
    "x_1 & x_2 & x_3 \\\\\n",
    "y_1 & y_2 & y_3 \\\\\n",
    "z_1 & z_2 & z_3 \\\\\n",
    "\\end{vmatrix}$\n",
    "\n",
    "<img src=\"scalarTripleProd.png\" width=400>\n",
    "\n",
    "<a><img src=\"평행육면체.png\" width=400></a>\n",
    "\n",
    "- 밑면적: $\\Vert \\mathbf{y} \\times \\mathbf{z} \\Vert$\n",
    "- 높이: $\\Vert \\mathbf{x}\\Vert\\cos \\theta = \\Vert \\mathbf{x}\\Vert\\mathbf{u}_\\mathbf{x} \\cdot \\mathbf{u}_{\\mathbf{y} \\times \\mathbf{z}} = \\Vert \\mathbf{x}\\Vert \\frac{\\mathbf{x} \\cdot (\\mathbf{y} \\times \\mathbf{z})}{\\Vert \\mathbf{x}\\Vert \\Vert \\mathbf{y} \\times \\mathbf{z} \\Vert }$\n",
    "- 부피: $\\mathbf{y} \\times \\mathbf{z} \\Vert \\Vert \\mathbf{x} \\Vert \\cos \\theta = \\mathbf{x} \\cdot (\\mathbf{y} \\times \\mathbf{z})$"
   ]
  },
  {
   "cell_type": "code",
   "execution_count": 49,
   "metadata": {},
   "outputs": [],
   "source": [
    "x=np.array([2, -3, -4])\n",
    "y=np.array([1, 2, 5])\n",
    "z=np.array([1, 0, -3])"
   ]
  },
  {
   "cell_type": "code",
   "execution_count": 50,
   "metadata": {},
   "outputs": [
    {
     "data": {
      "text/plain": [
       "-28.00000000000001"
      ]
     },
     "execution_count": 50,
     "metadata": {},
     "output_type": "execute_result"
    }
   ],
   "source": [
    "la.det(np.array([x,y,z]))"
   ]
  },
  {
   "cell_type": "markdown",
   "metadata": {},
   "source": [
    "---\n",
    "시점이 같은 세벡터가 동일 평면상에 있을 필요 충분 조건 = 스칼라 삼중적이 0\n",
    "\n",
    "$\\mathbf{x} \\cdot (\\mathbf{y} \\times \\mathbf{z}) = 0$"
   ]
  },
  {
   "cell_type": "code",
   "execution_count": 51,
   "metadata": {},
   "outputs": [],
   "source": [
    "x=np.array([2, -3, 9])\n",
    "y=np.array([3, -2, 5])\n",
    "z=np.array([-4, 1, -1])"
   ]
  },
  {
   "cell_type": "code",
   "execution_count": 52,
   "metadata": {},
   "outputs": [
    {
     "data": {
      "text/plain": [
       "0.0"
      ]
     },
     "execution_count": 52,
     "metadata": {},
     "output_type": "execute_result"
    }
   ],
   "source": [
    "la.det(np.array([x,y,z]))"
   ]
  },
  {
   "cell_type": "markdown",
   "metadata": {},
   "source": [
    "## 벡터 삼중적\n",
    "\n",
    "$\\mathbf{x} \\times (\\mathbf{y} \\times \\mathbf{z})$\n",
    "\n",
    "**properties**\n",
    "- $\\mathbf{x} \\times (\\mathbf{y} \\times \\mathbf{z}) + \\mathbf{y} \\times (\\mathbf{z} \\times \\mathbf{x}) + \\mathbf{z} \\times (\\mathbf{x} \\times \\mathbf{y}) = 0$\n",
    "- $\\mathbf{x} \\times (\\mathbf{y} \\times \\mathbf{z}) \\neq (\\mathbf{x} \\times \\mathbf{y}) \\times \\mathbf{z}$ \n"
   ]
  },
  {
   "cell_type": "code",
   "execution_count": 53,
   "metadata": {},
   "outputs": [],
   "source": [
    "i=np.array([1,0,0])\n",
    "j=np.array([0,1,0])\n",
    "k=np.array([0,0,1])"
   ]
  },
  {
   "cell_type": "code",
   "execution_count": 54,
   "metadata": {},
   "outputs": [
    {
     "data": {
      "text/plain": [
       "array([-1,  0,  0])"
      ]
     },
     "execution_count": 54,
     "metadata": {},
     "output_type": "execute_result"
    }
   ],
   "source": [
    "np.cross(np.cross(i,j),j)"
   ]
  },
  {
   "cell_type": "code",
   "execution_count": 55,
   "metadata": {},
   "outputs": [
    {
     "data": {
      "text/plain": [
       "array([0, 0, 0])"
      ]
     },
     "execution_count": 55,
     "metadata": {},
     "output_type": "execute_result"
    }
   ],
   "source": [
    "np.cross(i,np.cross(j,j))"
   ]
  },
  {
   "cell_type": "markdown",
   "metadata": {},
   "source": [
    "### 직선의 방정식\n",
    "\n",
    "<img src=\"lineEquation.png\" width=400>\n",
    "\n",
    "- $P_0 (\\mathbf{x}_0)$ 를 지나고 $\\mathbf{u}$ 에 평행한 직선 $L$\n",
    "- $\\mathbf{x} - \\mathbf{x}_0 = t \\mathbf{u}$"
   ]
  },
  {
   "cell_type": "code",
   "execution_count": 56,
   "metadata": {},
   "outputs": [],
   "source": [
    "#linspace 사용법\n",
    "ax=plt.gca()\n",
    "ax.set_xlim(-2,2)\n",
    "ax.set_ylim(-2,2)\n",
    "x=np.linspace(-2,2,100)\n",
    "y=x\n",
    "ax.scatter(x,y,c='b')\n",
    "ax.grid()"
   ]
  },
  {
   "cell_type": "code",
   "execution_count": 57,
   "metadata": {},
   "outputs": [],
   "source": [
    "plt.close()"
   ]
  },
  {
   "cell_type": "code",
   "execution_count": 58,
   "metadata": {},
   "outputs": [],
   "source": [
    "from mpl_toolkits.mplot3d import Axes3D\n",
    "import matplotlib.pyplot as plt\n",
    "import numpy as np\n",
    "from sympy import *\n",
    "import numpy.linalg as la\n",
    "#%matplotlib"
   ]
  },
  {
   "cell_type": "markdown",
   "metadata": {},
   "source": [
    "두점 (3,4)과 (-4,5)를 지나는 직선의 방정식 $ \\mathbf{x} = \\mathbf{x_0} + t \\mathbf{u}$ 를 구하고 매개 변수 $t$ 여러 값에 따라 생기는 직선상의 점들을 끝점으로 하는 벡터들을 구해 본다."
   ]
  },
  {
   "cell_type": "code",
   "execution_count": 59,
   "metadata": {},
   "outputs": [],
   "source": [
    "A=np.array([3,4])\n",
    "B=np.array([-4,5])\n",
    "x0=A       \n",
    "u=(B-A)/la.norm(B-A) #직선 방향의 단위벡터"
   ]
  },
  {
   "cell_type": "markdown",
   "metadata": {},
   "source": [
    "이상으로부터 x0를 지나고 u에 나란한 직선의 방정식은 x0+t*u 이다"
   ]
  },
  {
   "cell_type": "code",
   "execution_count": 60,
   "metadata": {},
   "outputs": [
    {
     "name": "stderr",
     "output_type": "stream",
     "text": [
      "C:\\Users\\plane\\Anaconda3\\lib\\site-packages\\ipykernel_launcher.py:1: FutureWarning: arrays to stack must be passed as a \"sequence\" type such as list or tuple. Support for non-sequence iterables such as generators is deprecated as of NumPy 1.16 and will raise an error in the future.\n",
      "  \"\"\"Entry point for launching an IPython kernel.\n"
     ]
    },
    {
     "data": {
      "text/plain": [
       "(11, 2)"
      ]
     },
     "execution_count": 60,
     "metadata": {},
     "output_type": "execute_result"
    }
   ],
   "source": [
    "x=np.vstack((x0+t*u for t in range(-5,6)))\n",
    "x.shape"
   ]
  },
  {
   "cell_type": "code",
   "execution_count": 61,
   "metadata": {},
   "outputs": [
    {
     "data": {
      "text/plain": [
       "array([[ 7.94974747,  3.29289322],\n",
       "       [ 6.95979797,  3.43431458],\n",
       "       [ 5.96984848,  3.57573593],\n",
       "       [ 4.97989899,  3.71715729],\n",
       "       [ 3.98994949,  3.85857864],\n",
       "       [ 3.        ,  4.        ],\n",
       "       [ 2.01005051,  4.14142136],\n",
       "       [ 1.02010101,  4.28284271],\n",
       "       [ 0.03015152,  4.42426407],\n",
       "       [-0.95979797,  4.56568542],\n",
       "       [-1.94974747,  4.70710678]])"
      ]
     },
     "execution_count": 61,
     "metadata": {},
     "output_type": "execute_result"
    }
   ],
   "source": [
    "x"
   ]
  },
  {
   "cell_type": "code",
   "execution_count": 62,
   "metadata": {},
   "outputs": [],
   "source": [
    "arg={'angles':'xy', 'scale_units':'xy','scale':1,'color':'blue'}"
   ]
  },
  {
   "cell_type": "code",
   "execution_count": 63,
   "metadata": {},
   "outputs": [
    {
     "data": {
      "text/plain": [
       "(0.0, 4.707106781186548)"
      ]
     },
     "execution_count": 63,
     "metadata": {},
     "output_type": "execute_result"
    }
   ],
   "source": [
    "ax=plt.gca()\n",
    "ax.quiver(np.zeros(len(x)),np.zeros(len(x)),x[:,0],x[:,1],**arg)\n",
    "ax.set_xlim(np.min(x[:,0]),np.max(x[:,0]))\n",
    "ax.set_ylim(np.min([0,np.min(x[:,1])]),np.max(x[:,1]))"
   ]
  },
  {
   "cell_type": "code",
   "execution_count": 64,
   "metadata": {},
   "outputs": [],
   "source": [
    "plt.close()"
   ]
  },
  {
   "cell_type": "code",
   "execution_count": 65,
   "metadata": {},
   "outputs": [],
   "source": [
    "plt.plot(x[:,0],x[:,1],'bo')\n",
    "\n",
    "plt.plot(A[0],A[1],'r+')\n",
    "plt.plot(B[0],B[1],'r+')\n",
    "plt.show()\n"
   ]
  },
  {
   "cell_type": "code",
   "execution_count": 66,
   "metadata": {},
   "outputs": [
    {
     "data": {
      "text/plain": [
       "<matplotlib.quiver.Quiver at 0x1e537e0cda0>"
      ]
     },
     "execution_count": 66,
     "metadata": {},
     "output_type": "execute_result"
    }
   ],
   "source": [
    "arg={'angles':'xy', 'scale_units':'xy','scale':1,'color':'blue'}\n",
    "plt.quiver(0,0,x[:,0],x[:,1],**arg)"
   ]
  },
  {
   "cell_type": "code",
   "execution_count": 67,
   "metadata": {},
   "outputs": [],
   "source": [
    "tl=np.linspace(-5,6,100)"
   ]
  },
  {
   "cell_type": "code",
   "execution_count": 68,
   "metadata": {},
   "outputs": [
    {
     "name": "stderr",
     "output_type": "stream",
     "text": [
      "C:\\Users\\plane\\Anaconda3\\lib\\site-packages\\ipykernel_launcher.py:1: FutureWarning: arrays to stack must be passed as a \"sequence\" type such as list or tuple. Support for non-sequence iterables such as generators is deprecated as of NumPy 1.16 and will raise an error in the future.\n",
      "  \"\"\"Entry point for launching an IPython kernel.\n"
     ]
    }
   ],
   "source": [
    "x=np.vstack((x0+t*u for t in tl))"
   ]
  },
  {
   "cell_type": "code",
   "execution_count": 69,
   "metadata": {},
   "outputs": [
    {
     "data": {
      "text/plain": [
       "(100, 2)"
      ]
     },
     "execution_count": 69,
     "metadata": {},
     "output_type": "execute_result"
    }
   ],
   "source": [
    "x.shape"
   ]
  },
  {
   "cell_type": "code",
   "execution_count": 70,
   "metadata": {},
   "outputs": [
    {
     "data": {
      "text/plain": [
       "[<matplotlib.lines.Line2D at 0x1e537da2d68>]"
      ]
     },
     "execution_count": 70,
     "metadata": {},
     "output_type": "execute_result"
    }
   ],
   "source": [
    "plt.plot(x[:,0],x[:,1],'b.')\n",
    "plt.plot(A[0],A[1],'ro')\n",
    "plt.plot(B[0],B[1],'ro')"
   ]
  },
  {
   "cell_type": "code",
   "execution_count": 71,
   "metadata": {},
   "outputs": [],
   "source": [
    "plt.close()"
   ]
  },
  {
   "cell_type": "markdown",
   "metadata": {},
   "source": [
    "### 평면의 방정식\n",
    "\n",
    "<img src=\"평면방정식.png\" width=300>\n",
    "\n",
    "- $P_0 (\\mathbf{x}_0 )$ 를 지나고 $\\mathbf{n}$ 에 수직인 평면 $\\alpha$\n",
    "- $ (\\mathbf{x} - \\mathbf{x}_0 ) \\cdot \\mathbf{n} = 0$\n",
    "- $\\mathbf{n} = (a,b,c)$ 이면 $a(x-x_0)+b(y-y_0)+c(z-z_0)=0$ 이다\n",
    "- 즉 $ax+by+cz=\\mathbf{n} \\cdot \\mathbf{x_0}$ 이다.\n",
    "- 그러므로 $(x_v,y_v)$가 주어지면 $z_v=\\frac1c (\\mathbf{n} \\cdot \\mathbf{x_0}-ax_v -by_v)$ 로 구할 수 있다"
   ]
  },
  {
   "cell_type": "markdown",
   "metadata": {},
   "source": [
    "---\n",
    "(example) 점 (3,-1,4) 를 포함하고 $\\mathbf{n}=(-2,8,2)$ 에 수직인 평면"
   ]
  },
  {
   "cell_type": "code",
   "execution_count": 72,
   "metadata": {},
   "outputs": [],
   "source": [
    "x0=np.array([3, -1, 4])\n",
    "n=np.array([-2, 8, 2])"
   ]
  },
  {
   "cell_type": "code",
   "execution_count": 73,
   "metadata": {},
   "outputs": [],
   "source": [
    "xv, yv = np.meshgrid(range(x0[0]-5,x0[0]+6),range(x0[1]-5,x0[1]+6))"
   ]
  },
  {
   "cell_type": "code",
   "execution_count": 74,
   "metadata": {},
   "outputs": [],
   "source": [
    "sz=xv.shape\n",
    "zv=np.zeros(sz)"
   ]
  },
  {
   "cell_type": "code",
   "execution_count": 75,
   "metadata": {},
   "outputs": [],
   "source": [
    "for i in range(sz[1]):\n",
    "    for j in range (sz[0]):\n",
    "        zv[j,i]=1/n[2]*(np.dot(x0,n)-n[0]*xv[j,i]-n[1]*yv[j,i])"
   ]
  },
  {
   "cell_type": "code",
   "execution_count": 76,
   "metadata": {},
   "outputs": [
    {
     "data": {
      "text/plain": [
       "(-21.0, 29.0)"
      ]
     },
     "execution_count": 76,
     "metadata": {},
     "output_type": "execute_result"
    }
   ],
   "source": [
    "ax=plt.gca(projection='3d')\n",
    "ax.scatter(xv,yv,zv,'b')\n",
    "ax.quiver(x0[0],x0[1],x0[2],n[0],n[1],n[2],color='r')\n",
    "M=np.max([np.max(xv),np.max(yv),np.max(zv)])\n",
    "m=np.min([np.min(xv),np.min(yv),np.min(zv)])\n",
    "ax.set_xlim(m,M)\n",
    "ax.set_ylim(m,M)\n",
    "ax.set_zlim(m,M)"
   ]
  },
  {
   "cell_type": "code",
   "execution_count": null,
   "metadata": {},
   "outputs": [],
   "source": []
  },
  {
   "cell_type": "code",
   "execution_count": null,
   "metadata": {},
   "outputs": [],
   "source": []
  },
  {
   "cell_type": "code",
   "execution_count": null,
   "metadata": {},
   "outputs": [],
   "source": []
  }
 ],
 "metadata": {
  "kernelspec": {
   "display_name": "Python 3",
   "language": "python",
   "name": "python3"
  },
  "language_info": {
   "codemirror_mode": {
    "name": "ipython",
    "version": 3
   },
   "file_extension": ".py",
   "mimetype": "text/x-python",
   "name": "python",
   "nbconvert_exporter": "python",
   "pygments_lexer": "ipython3",
   "version": "3.7.3"
  }
 },
 "nbformat": 4,
 "nbformat_minor": 4
}
