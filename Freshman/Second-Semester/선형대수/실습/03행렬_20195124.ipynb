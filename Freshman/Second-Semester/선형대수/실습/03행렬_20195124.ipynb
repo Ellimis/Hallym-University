{
 "cells": [
  {
   "cell_type": "code",
   "execution_count": 29,
   "metadata": {},
   "outputs": [],
   "source": [
    "import numpy as np"
   ]
  },
  {
   "cell_type": "markdown",
   "metadata": {},
   "source": [
    "## 1. numpy 를 사용하여 행렬식을 구하여라"
   ]
  },
  {
   "cell_type": "code",
   "execution_count": 30,
   "metadata": {},
   "outputs": [],
   "source": [
    "A=np.array([[2, 4, 3], [0, 1, -1], [3, 5, 7]])"
   ]
  },
  {
   "cell_type": "code",
   "execution_count": 31,
   "metadata": {},
   "outputs": [
    {
     "data": {
      "text/plain": [
       "array([[ 2,  4,  3],\n",
       "       [ 0,  1, -1],\n",
       "       [ 3,  5,  7]])"
      ]
     },
     "execution_count": 31,
     "metadata": {},
     "output_type": "execute_result"
    }
   ],
   "source": [
    "A"
   ]
  },
  {
   "cell_type": "code",
   "execution_count": 32,
   "metadata": {},
   "outputs": [
    {
     "data": {
      "text/plain": [
       "2.999999999999999"
      ]
     },
     "execution_count": 32,
     "metadata": {},
     "output_type": "execute_result"
    }
   ],
   "source": [
    "np.linalg.det(A)"
   ]
  },
  {
   "cell_type": "markdown",
   "metadata": {},
   "source": [
    "## 2. 다음 행렬의 행렬식, 수반행렬, 역행렬 등을 구해라"
   ]
  },
  {
   "cell_type": "code",
   "execution_count": 66,
   "metadata": {},
   "outputs": [],
   "source": [
    "A=np.array([[1, 2, 0], [0, 4, 7], [5, 0, 3]])"
   ]
  },
  {
   "cell_type": "code",
   "execution_count": 67,
   "metadata": {},
   "outputs": [
    {
     "data": {
      "text/plain": [
       "81.99999999999994"
      ]
     },
     "execution_count": 67,
     "metadata": {},
     "output_type": "execute_result"
    }
   ],
   "source": [
    "np.linalg.det(A)"
   ]
  },
  {
   "cell_type": "code",
   "execution_count": 68,
   "metadata": {},
   "outputs": [
    {
     "data": {
      "text/plain": [
       "array([[ 0.14634146, -0.07317073,  0.17073171],\n",
       "       [ 0.42682927,  0.03658537, -0.08536585],\n",
       "       [-0.24390244,  0.12195122,  0.04878049]])"
      ]
     },
     "execution_count": 68,
     "metadata": {},
     "output_type": "execute_result"
    }
   ],
   "source": [
    "np.linalg.inv(A)\n",
    "#A의 역행렬 = adj(A)/det(A)"
   ]
  },
  {
   "cell_type": "markdown",
   "metadata": {},
   "source": [
    "## 3-c. elementary row operation matrix 들의 행렬식을 구해보고, 교재의 정리를 이용하여 row operation에 대하여 다음이 성립함을 보여라"
   ]
  },
  {
   "cell_type": "code",
   "execution_count": 35,
   "metadata": {},
   "outputs": [],
   "source": [
    "ro1=np.array([[0, 1, 0], [1, 0, 0], [0, 0, 1]])\n",
    "ro2=np.array([[1, 0, 0], [0, 1, 0], [0, 0, 5]])\n",
    "ro3=np.array([[1, 0, 0], [0, 1, 0], [-4, 0, 1]])"
   ]
  },
  {
   "cell_type": "code",
   "execution_count": 36,
   "metadata": {},
   "outputs": [
    {
     "name": "stdout",
     "output_type": "stream",
     "text": [
      "-1.0\n",
      "4.999999999999999\n",
      "1.0\n"
     ]
    }
   ],
   "source": [
    "print(np.linalg.det(ro1))\n",
    "print(np.linalg.det(ro2))\n",
    "print(np.linalg.det(ro3))"
   ]
  },
  {
   "cell_type": "markdown",
   "metadata": {},
   "source": [
    "**det(EA) = det(E) det(A) 를 증명하는 방법**"
   ]
  },
  {
   "cell_type": "markdown",
   "metadata": {},
   "source": [
    "$교재에있는 정리 1.8과 1.9에 의하여$\n",
    "> E 에 대하여 det(EA) = det(E) det(A) 임을 3가지 elementary operation 를 사용하여 정의한다."
   ]
  },
  {
   "cell_type": "code",
   "execution_count": 37,
   "metadata": {},
   "outputs": [],
   "source": [
    "A=np.array([[0, 1, 2], [4, 2, 0], [-6, 0, -4]]) #라고 했을 때"
   ]
  },
  {
   "cell_type": "code",
   "execution_count": 38,
   "metadata": {},
   "outputs": [
    {
     "data": {
      "text/plain": [
       "-40.0"
      ]
     },
     "execution_count": 38,
     "metadata": {},
     "output_type": "execute_result"
    }
   ],
   "source": [
    "np.linalg.det(np.dot(ro1, A))"
   ]
  },
  {
   "cell_type": "code",
   "execution_count": 39,
   "metadata": {},
   "outputs": [
    {
     "data": {
      "text/plain": [
       "199.99999999999991"
      ]
     },
     "execution_count": 39,
     "metadata": {},
     "output_type": "execute_result"
    }
   ],
   "source": [
    "np.linalg.det(np.dot(ro2, A))"
   ]
  },
  {
   "cell_type": "code",
   "execution_count": 40,
   "metadata": {},
   "outputs": [
    {
     "data": {
      "text/plain": [
       "40.0"
      ]
     },
     "execution_count": 40,
     "metadata": {},
     "output_type": "execute_result"
    }
   ],
   "source": [
    "np.linalg.det(np.dot(ro3, A))"
   ]
  },
  {
   "cell_type": "markdown",
   "metadata": {},
   "source": [
    "가 나오는 것을 알 수 있는데 이때 det(ro1, 2, 3)은 각각 determinant가 -1 4 1 이 나오는 것을 알 수 있다. 그렇다면 det(EA)=det(E)det(A)가 맞기 위해서는 det(A)가 40이 나와야 하므로"
   ]
  },
  {
   "cell_type": "code",
   "execution_count": 41,
   "metadata": {},
   "outputs": [
    {
     "data": {
      "text/plain": [
       "40.0"
      ]
     },
     "execution_count": 41,
     "metadata": {},
     "output_type": "execute_result"
    }
   ],
   "source": [
    "np.linalg.det(A)"
   ]
  },
  {
   "cell_type": "markdown",
   "metadata": {},
   "source": [
    "이 나오게 된다. 따라서 row operation에 대하여 그 어떤 행렬과 곱하더라도 **det(EA)= det(E)det(A)** 가 성립한다."
   ]
  },
  {
   "cell_type": "markdown",
   "metadata": {},
   "source": [
    "## 3-d. 다음 matrix A에 대하여 그 밑의 elementary row operation들을 차례로 적용하면서 operation 종류와 결과에 대하여 관찰한 내용을 써라."
   ]
  },
  {
   "cell_type": "code",
   "execution_count": 70,
   "metadata": {},
   "outputs": [],
   "source": [
    "A=np.array([[0, 1, 2], [1, 0, 3], [4, -3, 8]])"
   ]
  },
  {
   "cell_type": "code",
   "execution_count": 71,
   "metadata": {},
   "outputs": [],
   "source": [
    "E1=np.array([[0, 1, 0], [1, 0, 0], [0, 0, 1]])"
   ]
  },
  {
   "cell_type": "code",
   "execution_count": 72,
   "metadata": {},
   "outputs": [],
   "source": [
    "E2=np.array([[1, 0, 0], [0, 1, 0], [-4, 0, 1]])"
   ]
  },
  {
   "cell_type": "code",
   "execution_count": 73,
   "metadata": {},
   "outputs": [],
   "source": [
    "E3=np.array([[1, 0, 0], [0, 1, 0], [0, 3, 1]])"
   ]
  },
  {
   "cell_type": "code",
   "execution_count": 74,
   "metadata": {},
   "outputs": [],
   "source": [
    "E4=np.array([[1, 0, 0], [0, 1, 0], [0, 0, 0.5]])"
   ]
  },
  {
   "cell_type": "code",
   "execution_count": 75,
   "metadata": {},
   "outputs": [],
   "source": [
    "E5=np.array([[1, 0, 0], [0, 1, -2], [0, 0, 1]])"
   ]
  },
  {
   "cell_type": "code",
   "execution_count": 76,
   "metadata": {},
   "outputs": [],
   "source": [
    "E6=np.array([[1, 0, -3], [0, 1, 0], [0, 0, 1]])"
   ]
  },
  {
   "cell_type": "markdown",
   "metadata": {},
   "source": [
    "## 3-e. elementary row operation의 연속 적용으로 matrix A 를 만들어라."
   ]
  },
  {
   "cell_type": "code",
   "execution_count": 77,
   "metadata": {},
   "outputs": [
    {
     "name": "stdout",
     "output_type": "stream",
     "text": [
      "[[ 1  0  3]\n",
      " [ 0  1  2]\n",
      " [ 4 -3  8]]\n"
     ]
    }
   ],
   "source": [
    "A1 = np.dot(E1, A)\n",
    "print(A1)"
   ]
  },
  {
   "cell_type": "code",
   "execution_count": 78,
   "metadata": {},
   "outputs": [
    {
     "name": "stdout",
     "output_type": "stream",
     "text": [
      "[[ 1  0  3]\n",
      " [ 0  1  2]\n",
      " [ 0 -3 -4]]\n"
     ]
    }
   ],
   "source": [
    "A2 = np.dot(E2, A1)\n",
    "print(A2)"
   ]
  },
  {
   "cell_type": "code",
   "execution_count": 79,
   "metadata": {},
   "outputs": [
    {
     "name": "stdout",
     "output_type": "stream",
     "text": [
      "[[1 0 3]\n",
      " [0 1 2]\n",
      " [0 0 2]]\n"
     ]
    }
   ],
   "source": [
    "A3 = np.dot(E3, A2)\n",
    "print(A3)"
   ]
  },
  {
   "cell_type": "code",
   "execution_count": 80,
   "metadata": {},
   "outputs": [
    {
     "name": "stdout",
     "output_type": "stream",
     "text": [
      "[[1. 0. 3.]\n",
      " [0. 1. 2.]\n",
      " [0. 0. 1.]]\n"
     ]
    }
   ],
   "source": [
    "A4 = np.dot(E4, A3)\n",
    "print(A4)"
   ]
  },
  {
   "cell_type": "code",
   "execution_count": 81,
   "metadata": {},
   "outputs": [
    {
     "name": "stdout",
     "output_type": "stream",
     "text": [
      "[[1. 0. 3.]\n",
      " [0. 1. 0.]\n",
      " [0. 0. 1.]]\n"
     ]
    }
   ],
   "source": [
    "A5 = np.dot(E5, A4)\n",
    "print(A5)"
   ]
  },
  {
   "cell_type": "code",
   "execution_count": 62,
   "metadata": {},
   "outputs": [
    {
     "name": "stdout",
     "output_type": "stream",
     "text": [
      "[[1. 0. 0.]\n",
      " [0. 1. 0.]\n",
      " [0. 0. 1.]]\n"
     ]
    }
   ],
   "source": [
    "A6 = np.dot(E6, A5)\n",
    "print(A6)"
   ]
  },
  {
   "cell_type": "markdown",
   "metadata": {},
   "source": [
    "이를 보아 elementary row operation 이 연속 적용된 matrix A6은 Identity matrix가 된 것을 알 수 있다.\n",
    "이때 사용된 elementary row operation은 순서대로\n",
    "Interchange -> Replacement -> Replacement -> Scaling -> Replacement -> Replacement 이다."
   ]
  },
  {
   "cell_type": "markdown",
   "metadata": {},
   "source": [
    "## 3-f. det(EA) = det(E)det(A) 증명"
   ]
  },
  {
   "cell_type": "markdown",
   "metadata": {},
   "source": [
    ">- 1. 연속적인 elementary operation 으로 인해 만들어 지는 A = (E_1)(E_2)...(E_p)I 의 성질을 이용해야한다. \n",
    ">- 2. A 가 가역행렬인 경우 A = E_1 E_2 ... E_s 로 나타낼 수 있다. det(AB) = det(E_1) det(E_2 ...E_s B) 일 때 이 방법을 계속 사용하면 det(E_1) det(E_2) ... det(E_s)det(B) 가 된다. 이때 det(B)만 따로 떼어내면 det(E_1 E_2 ... E_s )det(B) = det(A) det(B) 가 된다.\n",
    ">- 3. A 가 가역행렬이 아닌 경우 AB 가 가역행렬이면 A 와 B 도 가역행렬임을 이용 A 가 가역행렬이 아니므로 AB 도 가역행렬이 아니다. 따라서 det(A) = 0, det(AB) = 0 이고 det(AB) = det(A) det(B) 이다. 여기서 또 A 가 가역일 필요충분조건은 det(A) 가 0 이 아님을 사용한다."
   ]
  },
  {
   "cell_type": "code",
   "execution_count": null,
   "metadata": {},
   "outputs": [],
   "source": []
  }
 ],
 "metadata": {
  "kernelspec": {
   "display_name": "Python 3",
   "language": "python",
   "name": "python3"
  },
  "language_info": {
   "codemirror_mode": {
    "name": "ipython",
    "version": 3
   },
   "file_extension": ".py",
   "mimetype": "text/x-python",
   "name": "python",
   "nbconvert_exporter": "python",
   "pygments_lexer": "ipython3",
   "version": "3.7.3"
  }
 },
 "nbformat": 4,
 "nbformat_minor": 4
}
