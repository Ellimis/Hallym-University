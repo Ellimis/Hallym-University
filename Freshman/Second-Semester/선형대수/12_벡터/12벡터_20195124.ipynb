{
 "cells": [
  {
   "cell_type": "code",
   "execution_count": 1,
   "metadata": {},
   "outputs": [],
   "source": [
    "import numpy as np\n",
    "from sympy import *"
   ]
  },
  {
   "cell_type": "markdown",
   "metadata": {},
   "source": [
    "## 과제 1."
   ]
  },
  {
   "cell_type": "code",
   "execution_count": 2,
   "metadata": {},
   "outputs": [
    {
     "name": "stdout",
     "output_type": "stream",
     "text": [
      "[[ 2  4 -2  1]\n",
      " [-2 -5  7  3]\n",
      " [ 3  7 -8  6]]\n"
     ]
    }
   ],
   "source": [
    "A = np.array([[2, 4, -2, 1], [-2, -5, 7, 3], [3, 7, -8, 6]])\n",
    "print(A)"
   ]
  },
  {
   "cell_type": "markdown",
   "metadata": {},
   "source": [
    "(1) 열공간이 Rk의 부분 공간일 때 k 를 구하시오"
   ]
  },
  {
   "cell_type": "code",
   "execution_count": 5,
   "metadata": {},
   "outputs": [
    {
     "name": "stdout",
     "output_type": "stream",
     "text": [
      "(Matrix([\n",
      "[1, 0, 0],\n",
      "[0, 1, 0],\n",
      "[0, 0, 1],\n",
      "[0, 0, 0]]), (0, 1, 2))\n"
     ]
    }
   ],
   "source": [
    "c1 = Matrix(A.T).rref()\n",
    "print(c1)"
   ]
  },
  {
   "cell_type": "code",
   "execution_count": 6,
   "metadata": {},
   "outputs": [
    {
     "name": "stdout",
     "output_type": "stream",
     "text": [
      "3\n"
     ]
    }
   ],
   "source": [
    "c2 = Matrix(A).rank()\n",
    "print(c2)"
   ]
  },
  {
   "cell_type": "code",
   "execution_count": 8,
   "metadata": {},
   "outputs": [],
   "source": [
    "# 따라서 k 는 3"
   ]
  },
  {
   "cell_type": "markdown",
   "metadata": {},
   "source": [
    "(2) 영공간이 Rk의 부분 공간일 때 k를 구하시오"
   ]
  },
  {
   "cell_type": "code",
   "execution_count": 11,
   "metadata": {},
   "outputs": [
    {
     "name": "stdout",
     "output_type": "stream",
     "text": [
      "(Matrix([\n",
      "[1, 0,  9, 0],\n",
      "[0, 1, -5, 0],\n",
      "[0, 0,  0, 1]]), (0, 1, 3))\n"
     ]
    }
   ],
   "source": [
    "print(Matrix(A).rref())"
   ]
  },
  {
   "cell_type": "markdown",
   "metadata": {},
   "source": [
    "x3 = s  라 할 때,\n",
    " \n",
    " x1 = -9s, x2 = 5s, x4 = 0 이다. 이때 선형결합으로 나타내면\n",
    " \n",
    " x = [[-9], [5], [1], [0]]*s 이다.\n",
    " \n",
    " 이때 k 는 4이다.\n",
    "\n",
    "확인을 해보면"
   ]
  },
  {
   "cell_type": "code",
   "execution_count": 12,
   "metadata": {},
   "outputs": [
    {
     "name": "stdout",
     "output_type": "stream",
     "text": [
      "[Matrix([\n",
      "[-9],\n",
      "[ 5],\n",
      "[ 1],\n",
      "[ 0]])]\n"
     ]
    }
   ],
   "source": [
    "print(Matrix(A).nullspace())"
   ]
  },
  {
   "cell_type": "markdown",
   "metadata": {},
   "source": [
    "인 것을 알 수 있다."
   ]
  },
  {
   "cell_type": "markdown",
   "metadata": {},
   "source": [
    "(3) 열공간과 영공간의 영텍버가 아닌 벡터를 구하시오"
   ]
  },
  {
   "cell_type": "markdown",
   "metadata": {},
   "source": [
    "벡터는 각각\n",
    "\n",
    "열공간에서 3차원이므로 (1, 0, 0) 이다\n",
    "\n",
    "영공간에서 s = 1 일 때도 되므로 (-9, 5, 1, 0) 이다."
   ]
  },
  {
   "cell_type": "markdown",
   "metadata": {},
   "source": [
    "(4) (3, -1, 3) 이 영공간, 열공간에 속하는 지 밝히시오"
   ]
  },
  {
   "cell_type": "code",
   "execution_count": 13,
   "metadata": {},
   "outputs": [],
   "source": [
    "# 영공간, 열공간에 속하는 지 알기 위해서는 Ax = b 식을 이용한다"
   ]
  },
  {
   "cell_type": "code",
   "execution_count": 47,
   "metadata": {},
   "outputs": [
    {
     "data": {
      "text/plain": [
       "(Matrix([\n",
       " [1, 0,  9, 0,      5],\n",
       " [0, 1, -5, 0, -30/17],\n",
       " [0, 0,  0, 1,   1/17]]), (0, 1, 3))"
      ]
     },
     "execution_count": 47,
     "metadata": {},
     "output_type": "execute_result"
    }
   ],
   "source": [
    "b = np.array([3, -1, 3])\n",
    "aug = np.column_stack((A, b))\n",
    "Matrix(aug).rref()"
   ]
  },
  {
   "cell_type": "code",
   "execution_count": 48,
   "metadata": {},
   "outputs": [
    {
     "data": {
      "text/plain": [
       "3"
      ]
     },
     "execution_count": 48,
     "metadata": {},
     "output_type": "execute_result"
    }
   ],
   "source": [
    "Matrix(aug).rank()"
   ]
  },
  {
   "cell_type": "markdown",
   "metadata": {},
   "source": [
    "인 것을 보아 열공간의 차원이 바뀌지 않았으므로 (3, -1, 3) 은 열공간에 속한다"
   ]
  },
  {
   "cell_type": "markdown",
   "metadata": {},
   "source": [
    "(5) (3, -2, -2, 0) 이 영공간, 열공간에 속하는 지 밝히시오"
   ]
  },
  {
   "cell_type": "code",
   "execution_count": 68,
   "metadata": {},
   "outputs": [
    {
     "data": {
      "text/plain": [
       "(Matrix([\n",
       " [1, 0, 0, 0],\n",
       " [0, 1, 0, 0],\n",
       " [0, 0, 1, 0],\n",
       " [0, 0, 0, 1]]), (0, 1, 2, 3))"
      ]
     },
     "execution_count": 68,
     "metadata": {},
     "output_type": "execute_result"
    }
   ],
   "source": [
    "b = np.array([3, -2, -2, 0])\n",
    "Aug = np.column_stack((A.T, b)).T\n",
    "Matrix(Aug).rref()"
   ]
  },
  {
   "cell_type": "code",
   "execution_count": 69,
   "metadata": {},
   "outputs": [
    {
     "data": {
      "text/plain": [
       "4"
      ]
     },
     "execution_count": 69,
     "metadata": {},
     "output_type": "execute_result"
    }
   ],
   "source": [
    "Matrix(Aug).rank()"
   ]
  },
  {
   "cell_type": "markdown",
   "metadata": {},
   "source": [
    "A의 영공간과 Aug 의 영공간의 차원이 같으므로 (3, -2, -2, 0) 은 영공간에 속한다"
   ]
  },
  {
   "cell_type": "code",
   "execution_count": 76,
   "metadata": {},
   "outputs": [
    {
     "name": "stdout",
     "output_type": "stream",
     "text": [
      "[  2 -10  11]\n"
     ]
    }
   ],
   "source": [
    "print(np.dot(A, b))"
   ]
  },
  {
   "cell_type": "markdown",
   "metadata": {},
   "source": [
    "(3, -2, -2, 0) 는 차원이 다르므로 열공간에 속하지 않고,\n",
    "\n",
    "둘이 곱했을 때 0 이 안나왔으므로 영공간에 속하지 않는다."
   ]
  },
  {
   "cell_type": "markdown",
   "metadata": {},
   "source": [
    "영공간 : Ax = 0 을 만족하는 것\n",
    "열공간 : Ax = b 를 만족하는 것"
   ]
  },
  {
   "cell_type": "markdown",
   "metadata": {},
   "source": [
    "(6) 열공간과 행공간의 기저를 구하시오"
   ]
  },
  {
   "cell_type": "code",
   "execution_count": 78,
   "metadata": {},
   "outputs": [
    {
     "data": {
      "text/plain": [
       "(Matrix([\n",
       " [1, 0, 0],\n",
       " [0, 1, 0],\n",
       " [0, 0, 1],\n",
       " [0, 0, 0]]), (0, 1, 2))"
      ]
     },
     "execution_count": 78,
     "metadata": {},
     "output_type": "execute_result"
    }
   ],
   "source": [
    "Matrix(A.T).rref()"
   ]
  },
  {
   "cell_type": "code",
   "execution_count": 77,
   "metadata": {},
   "outputs": [
    {
     "data": {
      "text/plain": [
       "(Matrix([\n",
       " [1, 0,  9, 0],\n",
       " [0, 1, -5, 0],\n",
       " [0, 0,  0, 1]]), (0, 1, 3))"
      ]
     },
     "execution_count": 77,
     "metadata": {},
     "output_type": "execute_result"
    }
   ],
   "source": [
    "Matrix(A).rref()"
   ]
  },
  {
   "cell_type": "markdown",
   "metadata": {},
   "source": [
    "열공간에서 3차원이므로 기저는 표준단위벡터 (1, 0, 0) ... 이다\n",
    "\n",
    "행공간에서 기저는 (1, 0, 9, 0), (0, 1, -5, 0), (0, 0, 0, 1) 이다"
   ]
  },
  {
   "cell_type": "markdown",
   "metadata": {},
   "source": [
    "(7) Rank, nullity 를 구하시오"
   ]
  },
  {
   "cell_type": "code",
   "execution_count": 79,
   "metadata": {},
   "outputs": [
    {
     "data": {
      "text/plain": [
       "3"
      ]
     },
     "execution_count": 79,
     "metadata": {},
     "output_type": "execute_result"
    }
   ],
   "source": [
    "Matrix(A).rank()"
   ]
  },
  {
   "cell_type": "markdown",
   "metadata": {},
   "source": [
    "nullity(A) = n(미지수) - rank(A) 이므로\n",
    "nulluty = 4 - 3 = 1 이다."
   ]
  },
  {
   "cell_type": "markdown",
   "metadata": {},
   "source": [
    "## 과제 2."
   ]
  },
  {
   "cell_type": "markdown",
   "metadata": {},
   "source": [
    "(1) 다음과 같은 heading 을 갖는 표를 만들고 아래 행렬들에 대하여 구하여라"
   ]
  },
  {
   "cell_type": "markdown",
   "metadata": {},
   "source": [
    "| 행렬번호 | 열의 수 | 영공간의 기저 | Nullity | 열공간의 기저 | Rank |\n",
    "|----------|---------|---------------|---------|---------------|-----|\n",
    "|a|3|(8/5, -4/5, 1)|1|(1, 0),(0, 1)|2|\n",
    "|b|5|(-6, -4, 1, 0, 0)|3|(1, 0, 1)|2|\n",
    "|||(2, 2, 0, 1, 0)||(0, 1, 1)||\n",
    "|||(-6, -5, 0, 0, 1)||||\n",
    "|c|6|(3/5, 1/5, -1/5, 1, 0, 0)|3|(1, 0, 0, 1)|3|\n",
    "|||(2/5, 4/5, 1/5, 0, 1, 0)||(0, 1, 0, 0)||\n",
    "|||(1/10, 7/10, -1/5, 0, 0, 1)||(0, 0, 1, 1)||\n",
    "|d|4|(3, 5, 1, 0)|2|(1, 1, 0, 2)|2|\n",
    "|||(1, 1, 0, 1)||(0, 1, 1, 0)||"
   ]
  },
  {
   "cell_type": "code",
   "execution_count": 27,
   "metadata": {},
   "outputs": [],
   "source": [
    "a = np.array([[1, 2, 0], [-1, 3, 4]])\n",
    "b = np.array([[1, -1, 2, 0, 1], [-1, 2, 2, -2, 4], [0, 1, 4, -2, 5]])\n",
    "c = np.array([[1, -1, 2, 0, 0, 1], [-1, 1, 3, 1, -1, 0], [1, 1, -1, -1, -1, -1], [2, 0, 1, -1, -1, 0]])\n",
    "d = np.array([[1, -1, 2, 0], [-2, 1, 1, 1], [-1, 0, 3, 1], [2, -2, 4, 0]])"
   ]
  },
  {
   "cell_type": "markdown",
   "metadata": {},
   "source": [
    "### 1번째 행렬 a"
   ]
  },
  {
   "cell_type": "code",
   "execution_count": 13,
   "metadata": {},
   "outputs": [
    {
     "name": "stdout",
     "output_type": "stream",
     "text": [
      "(Matrix([\n",
      "[1, 0, -8/5],\n",
      "[0, 1,  4/5]]), (0, 1))\n",
      "2\n"
     ]
    }
   ],
   "source": [
    "print(Matrix(a).rref())\n",
    "print(Matrix(a).rank())"
   ]
  },
  {
   "cell_type": "markdown",
   "metadata": {},
   "source": [
    "x1 = 8/5\n",
    "\n",
    "x2 = -4/5"
   ]
  },
  {
   "cell_type": "code",
   "execution_count": 17,
   "metadata": {},
   "outputs": [
    {
     "name": "stdout",
     "output_type": "stream",
     "text": [
      "(Matrix([\n",
      "[1, 0],\n",
      "[0, 1],\n",
      "[0, 0]]), (0, 1))\n"
     ]
    }
   ],
   "source": [
    "print(Matrix(a.T).rref())"
   ]
  },
  {
   "cell_type": "markdown",
   "metadata": {},
   "source": [
    "### 2번째 행렬 b"
   ]
  },
  {
   "cell_type": "code",
   "execution_count": 14,
   "metadata": {},
   "outputs": [
    {
     "name": "stdout",
     "output_type": "stream",
     "text": [
      "(Matrix([\n",
      "[1, 0, 6, -2, 6],\n",
      "[0, 1, 4, -2, 5],\n",
      "[0, 0, 0,  0, 0]]), (0, 1))\n",
      "2\n"
     ]
    }
   ],
   "source": [
    "print(Matrix(b).rref())\n",
    "print(Matrix(b).rank())"
   ]
  },
  {
   "cell_type": "markdown",
   "metadata": {},
   "source": [
    "x3 = s, x4 = t, x5 = u\n",
    "\n",
    "x1 = -6s + 2t -6u\n",
    "\n",
    "x2 = -4s + 2t -5u\n",
    "\n",
    "s = 1, t = 0, u = 0\n",
    "> x1 = -6, x2 = -4, x3 = 1, x4 = 0, x5 = 0\n",
    "\n",
    "s = 0, t = 1, u = 0\n",
    "> x1 = 2, x2 = 2, x3 = 0, x4 = 1, x5 = 0\n",
    "\n",
    "s = 0, t = 0, u = 1\n",
    "> x1 = -6, x2 = -5, x3 = 0, x4 = 0, x5 = 1"
   ]
  },
  {
   "cell_type": "code",
   "execution_count": 18,
   "metadata": {},
   "outputs": [
    {
     "name": "stdout",
     "output_type": "stream",
     "text": [
      "(Matrix([\n",
      "[1, 0, 1],\n",
      "[0, 1, 1],\n",
      "[0, 0, 0],\n",
      "[0, 0, 0],\n",
      "[0, 0, 0]]), (0, 1))\n"
     ]
    }
   ],
   "source": [
    "print(Matrix(b.T).rref())"
   ]
  },
  {
   "cell_type": "markdown",
   "metadata": {},
   "source": [
    "### 3번째 행렬 c"
   ]
  },
  {
   "cell_type": "code",
   "execution_count": 15,
   "metadata": {},
   "outputs": [
    {
     "name": "stdout",
     "output_type": "stream",
     "text": [
      "(Matrix([\n",
      "[1, 0, 0, -3/5, -2/5, -1/10],\n",
      "[0, 1, 0, -1/5, -4/5, -7/10],\n",
      "[0, 0, 1,  1/5, -1/5,   1/5],\n",
      "[0, 0, 0,    0,    0,     0]]), (0, 1, 2))\n",
      "3\n"
     ]
    }
   ],
   "source": [
    "print(Matrix(c).rref())\n",
    "print(Matrix(c).rank())"
   ]
  },
  {
   "cell_type": "markdown",
   "metadata": {},
   "source": [
    "x4 = s, x5 = t, x6 = u\n",
    "\n",
    "x1 = 3/5s + 2/5t + 1/10u\n",
    "\n",
    "x2 = 1/5s + 4/5t + 7/10u\n",
    "\n",
    "x3 = -1/5s + 1/5t - 1/5u\n",
    "\n",
    "s = 1, t = 0, u = 0\n",
    "> x1 = 3/5, x2 = 1/5, x3 = -1/5, x4 = 1, x5 = 0, x6 = 0\n",
    "\n",
    "s = 0, t = 1, u = 0\n",
    "> x1 = 2/5, x2 = 4/5, x3 = 1/5, x4 = 0, x5 = 1, x6 = 0\n",
    "\n",
    "s = 0, t = 0, u = 1\n",
    "> x1 = 1/10, x2 = 7/10, x3 = -1/5, x4 = 0, x5 = 0, x6 = 1"
   ]
  },
  {
   "cell_type": "code",
   "execution_count": 25,
   "metadata": {},
   "outputs": [
    {
     "name": "stdout",
     "output_type": "stream",
     "text": [
      "(Matrix([\n",
      "[1, 0, 0, 1],\n",
      "[0, 1, 0, 0],\n",
      "[0, 0, 1, 1],\n",
      "[0, 0, 0, 0],\n",
      "[0, 0, 0, 0],\n",
      "[0, 0, 0, 0]]), (0, 1, 2))\n"
     ]
    }
   ],
   "source": [
    "print(Matrix(c.T).rref())"
   ]
  },
  {
   "cell_type": "markdown",
   "metadata": {},
   "source": [
    "### 4번째 행렬 d"
   ]
  },
  {
   "cell_type": "code",
   "execution_count": 16,
   "metadata": {},
   "outputs": [
    {
     "name": "stdout",
     "output_type": "stream",
     "text": [
      "(Matrix([\n",
      "[1, 0, -3, -1],\n",
      "[0, 1, -5, -1],\n",
      "[0, 0,  0,  0],\n",
      "[0, 0,  0,  0]]), (0, 1))\n",
      "2\n"
     ]
    }
   ],
   "source": [
    "print(Matrix(d).rref())\n",
    "print(Matrix(d).rank())"
   ]
  },
  {
   "cell_type": "markdown",
   "metadata": {},
   "source": [
    "x3 = s, x4 = t\n",
    "\n",
    "x1 = 3s + t\n",
    "x2 = 5s + t\n",
    "\n",
    "s = 1, t = 0\n",
    "> x1 = 3, x2 = 5, x3 = 1, x4 = 0\n",
    "\n",
    "s = 0, t = 1\n",
    "> x1 = 1, x2 = 1, x3 = 0, x4 = 1"
   ]
  },
  {
   "cell_type": "code",
   "execution_count": 26,
   "metadata": {},
   "outputs": [
    {
     "name": "stdout",
     "output_type": "stream",
     "text": [
      "(Matrix([\n",
      "[1, 0, 1, 2],\n",
      "[0, 1, 1, 0],\n",
      "[0, 0, 0, 0],\n",
      "[0, 0, 0, 0]]), (0, 1))\n"
     ]
    }
   ],
   "source": [
    "print(Matrix(d.T).rref())"
   ]
  },
  {
   "cell_type": "markdown",
   "metadata": {},
   "source": [
    "(2) 위에서 만든 표를 보고, column의 수와 nullity, rank의 관계를 구하시오\n",
    "\n",
    "> column 의 수와 nullity, rank 는 nullity = column - rank 의 관계가 있다."
   ]
  },
  {
   "cell_type": "code",
   "execution_count": null,
   "metadata": {},
   "outputs": [],
   "source": []
  }
 ],
 "metadata": {
  "kernelspec": {
   "display_name": "Python 3",
   "language": "python",
   "name": "python3"
  },
  "language_info": {
   "codemirror_mode": {
    "name": "ipython",
    "version": 3
   },
   "file_extension": ".py",
   "mimetype": "text/x-python",
   "name": "python",
   "nbconvert_exporter": "python",
   "pygments_lexer": "ipython3",
   "version": "3.7.3"
  }
 },
 "nbformat": 4,
 "nbformat_minor": 4
}
