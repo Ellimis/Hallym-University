{
  "nbformat": 4,
  "nbformat_minor": 0,
  "metadata": {
    "colab": {
      "name": "07주차.ipynb",
      "provenance": [],
      "collapsed_sections": []
    },
    "kernelspec": {
      "name": "python3",
      "display_name": "Python 3"
    }
  },
  "cells": [
    {
      "cell_type": "code",
      "metadata": {
        "id": "Mc5YAw0F2Bh_",
        "outputId": "9febf2ea-da1b-4c1f-e7f2-9ae63a88df1b",
        "colab": {
          "base_uri": "https://localhost:8080/",
          "height": 107
        }
      },
      "source": [
        "!pip install pymssql"
      ],
      "execution_count": null,
      "outputs": [
        {
          "output_type": "stream",
          "text": [
            "Collecting pymssql\n",
            "\u001b[?25l  Downloading https://files.pythonhosted.org/packages/fe/aa/59c7c8a2cf1ef0726cd4c64bff7072147db8cbb6b4379fb0c3d7c67331b9/pymssql-2.1.5-cp36-cp36m-manylinux1_x86_64.whl (1.3MB)\n",
            "\r\u001b[K     |▎                               | 10kB 23.0MB/s eta 0:00:01\r\u001b[K     |▌                               | 20kB 5.5MB/s eta 0:00:01\r\u001b[K     |▊                               | 30kB 7.2MB/s eta 0:00:01\r\u001b[K     |█                               | 40kB 8.1MB/s eta 0:00:01\r\u001b[K     |█▎                              | 51kB 6.1MB/s eta 0:00:01\r\u001b[K     |█▌                              | 61kB 7.2MB/s eta 0:00:01\r\u001b[K     |█▉                              | 71kB 7.2MB/s eta 0:00:01\r\u001b[K     |██                              | 81kB 7.9MB/s eta 0:00:01\r\u001b[K     |██▎                             | 92kB 8.3MB/s eta 0:00:01\r\u001b[K     |██▋                             | 102kB 8.3MB/s eta 0:00:01\r\u001b[K     |██▉                             | 112kB 8.3MB/s eta 0:00:01\r\u001b[K     |███                             | 122kB 8.3MB/s eta 0:00:01\r\u001b[K     |███▍                            | 133kB 8.3MB/s eta 0:00:01\r\u001b[K     |███▋                            | 143kB 8.3MB/s eta 0:00:01\r\u001b[K     |███▉                            | 153kB 8.3MB/s eta 0:00:01\r\u001b[K     |████▏                           | 163kB 8.3MB/s eta 0:00:01\r\u001b[K     |████▍                           | 174kB 8.3MB/s eta 0:00:01\r\u001b[K     |████▋                           | 184kB 8.3MB/s eta 0:00:01\r\u001b[K     |█████                           | 194kB 8.3MB/s eta 0:00:01\r\u001b[K     |█████▏                          | 204kB 8.3MB/s eta 0:00:01\r\u001b[K     |█████▍                          | 215kB 8.3MB/s eta 0:00:01\r\u001b[K     |█████▊                          | 225kB 8.3MB/s eta 0:00:01\r\u001b[K     |██████                          | 235kB 8.3MB/s eta 0:00:01\r\u001b[K     |██████▏                         | 245kB 8.3MB/s eta 0:00:01\r\u001b[K     |██████▌                         | 256kB 8.3MB/s eta 0:00:01\r\u001b[K     |██████▊                         | 266kB 8.3MB/s eta 0:00:01\r\u001b[K     |███████                         | 276kB 8.3MB/s eta 0:00:01\r\u001b[K     |███████▎                        | 286kB 8.3MB/s eta 0:00:01\r\u001b[K     |███████▌                        | 296kB 8.3MB/s eta 0:00:01\r\u001b[K     |███████▊                        | 307kB 8.3MB/s eta 0:00:01\r\u001b[K     |████████                        | 317kB 8.3MB/s eta 0:00:01\r\u001b[K     |████████▎                       | 327kB 8.3MB/s eta 0:00:01\r\u001b[K     |████████▌                       | 337kB 8.3MB/s eta 0:00:01\r\u001b[K     |████████▉                       | 348kB 8.3MB/s eta 0:00:01\r\u001b[K     |█████████                       | 358kB 8.3MB/s eta 0:00:01\r\u001b[K     |█████████▎                      | 368kB 8.3MB/s eta 0:00:01\r\u001b[K     |█████████▋                      | 378kB 8.3MB/s eta 0:00:01\r\u001b[K     |█████████▉                      | 389kB 8.3MB/s eta 0:00:01\r\u001b[K     |██████████                      | 399kB 8.3MB/s eta 0:00:01\r\u001b[K     |██████████▍                     | 409kB 8.3MB/s eta 0:00:01\r\u001b[K     |██████████▋                     | 419kB 8.3MB/s eta 0:00:01\r\u001b[K     |██████████▉                     | 430kB 8.3MB/s eta 0:00:01\r\u001b[K     |███████████▏                    | 440kB 8.3MB/s eta 0:00:01\r\u001b[K     |███████████▍                    | 450kB 8.3MB/s eta 0:00:01\r\u001b[K     |███████████▋                    | 460kB 8.3MB/s eta 0:00:01\r\u001b[K     |████████████                    | 471kB 8.3MB/s eta 0:00:01\r\u001b[K     |████████████▏                   | 481kB 8.3MB/s eta 0:00:01\r\u001b[K     |████████████▍                   | 491kB 8.3MB/s eta 0:00:01\r\u001b[K     |████████████▊                   | 501kB 8.3MB/s eta 0:00:01\r\u001b[K     |█████████████                   | 512kB 8.3MB/s eta 0:00:01\r\u001b[K     |█████████████▏                  | 522kB 8.3MB/s eta 0:00:01\r\u001b[K     |█████████████▌                  | 532kB 8.3MB/s eta 0:00:01\r\u001b[K     |█████████████▊                  | 542kB 8.3MB/s eta 0:00:01\r\u001b[K     |██████████████                  | 552kB 8.3MB/s eta 0:00:01\r\u001b[K     |██████████████▎                 | 563kB 8.3MB/s eta 0:00:01\r\u001b[K     |██████████████▌                 | 573kB 8.3MB/s eta 0:00:01\r\u001b[K     |██████████████▊                 | 583kB 8.3MB/s eta 0:00:01\r\u001b[K     |███████████████                 | 593kB 8.3MB/s eta 0:00:01\r\u001b[K     |███████████████▎                | 604kB 8.3MB/s eta 0:00:01\r\u001b[K     |███████████████▌                | 614kB 8.3MB/s eta 0:00:01\r\u001b[K     |███████████████▉                | 624kB 8.3MB/s eta 0:00:01\r\u001b[K     |████████████████                | 634kB 8.3MB/s eta 0:00:01\r\u001b[K     |████████████████▎               | 645kB 8.3MB/s eta 0:00:01\r\u001b[K     |████████████████▋               | 655kB 8.3MB/s eta 0:00:01\r\u001b[K     |████████████████▉               | 665kB 8.3MB/s eta 0:00:01\r\u001b[K     |█████████████████               | 675kB 8.3MB/s eta 0:00:01\r\u001b[K     |█████████████████▍              | 686kB 8.3MB/s eta 0:00:01\r\u001b[K     |█████████████████▋              | 696kB 8.3MB/s eta 0:00:01\r\u001b[K     |█████████████████▉              | 706kB 8.3MB/s eta 0:00:01\r\u001b[K     |██████████████████▏             | 716kB 8.3MB/s eta 0:00:01\r\u001b[K     |██████████████████▍             | 727kB 8.3MB/s eta 0:00:01\r\u001b[K     |██████████████████▋             | 737kB 8.3MB/s eta 0:00:01\r\u001b[K     |███████████████████             | 747kB 8.3MB/s eta 0:00:01\r\u001b[K     |███████████████████▏            | 757kB 8.3MB/s eta 0:00:01\r\u001b[K     |███████████████████▍            | 768kB 8.3MB/s eta 0:00:01\r\u001b[K     |███████████████████▊            | 778kB 8.3MB/s eta 0:00:01\r\u001b[K     |████████████████████            | 788kB 8.3MB/s eta 0:00:01\r\u001b[K     |████████████████████▏           | 798kB 8.3MB/s eta 0:00:01\r\u001b[K     |████████████████████▌           | 808kB 8.3MB/s eta 0:00:01\r\u001b[K     |████████████████████▊           | 819kB 8.3MB/s eta 0:00:01\r\u001b[K     |█████████████████████           | 829kB 8.3MB/s eta 0:00:01\r\u001b[K     |█████████████████████▎          | 839kB 8.3MB/s eta 0:00:01\r\u001b[K     |█████████████████████▌          | 849kB 8.3MB/s eta 0:00:01\r\u001b[K     |█████████████████████▊          | 860kB 8.3MB/s eta 0:00:01\r\u001b[K     |██████████████████████          | 870kB 8.3MB/s eta 0:00:01\r\u001b[K     |██████████████████████▎         | 880kB 8.3MB/s eta 0:00:01\r\u001b[K     |██████████████████████▌         | 890kB 8.3MB/s eta 0:00:01\r\u001b[K     |██████████████████████▉         | 901kB 8.3MB/s eta 0:00:01\r\u001b[K     |███████████████████████         | 911kB 8.3MB/s eta 0:00:01\r\u001b[K     |███████████████████████▎        | 921kB 8.3MB/s eta 0:00:01\r\u001b[K     |███████████████████████▋        | 931kB 8.3MB/s eta 0:00:01\r\u001b[K     |███████████████████████▉        | 942kB 8.3MB/s eta 0:00:01\r\u001b[K     |████████████████████████        | 952kB 8.3MB/s eta 0:00:01\r\u001b[K     |████████████████████████▍       | 962kB 8.3MB/s eta 0:00:01\r\u001b[K     |████████████████████████▋       | 972kB 8.3MB/s eta 0:00:01\r\u001b[K     |████████████████████████▉       | 983kB 8.3MB/s eta 0:00:01\r\u001b[K     |█████████████████████████▏      | 993kB 8.3MB/s eta 0:00:01\r\u001b[K     |█████████████████████████▍      | 1.0MB 8.3MB/s eta 0:00:01\r\u001b[K     |█████████████████████████▋      | 1.0MB 8.3MB/s eta 0:00:01\r\u001b[K     |██████████████████████████      | 1.0MB 8.3MB/s eta 0:00:01\r\u001b[K     |██████████████████████████▏     | 1.0MB 8.3MB/s eta 0:00:01\r\u001b[K     |██████████████████████████▍     | 1.0MB 8.3MB/s eta 0:00:01\r\u001b[K     |██████████████████████████▊     | 1.1MB 8.3MB/s eta 0:00:01\r\u001b[K     |███████████████████████████     | 1.1MB 8.3MB/s eta 0:00:01\r\u001b[K     |███████████████████████████▏    | 1.1MB 8.3MB/s eta 0:00:01\r\u001b[K     |███████████████████████████▌    | 1.1MB 8.3MB/s eta 0:00:01\r\u001b[K     |███████████████████████████▊    | 1.1MB 8.3MB/s eta 0:00:01\r\u001b[K     |████████████████████████████    | 1.1MB 8.3MB/s eta 0:00:01\r\u001b[K     |████████████████████████████▎   | 1.1MB 8.3MB/s eta 0:00:01\r\u001b[K     |████████████████████████████▌   | 1.1MB 8.3MB/s eta 0:00:01\r\u001b[K     |████████████████████████████▊   | 1.1MB 8.3MB/s eta 0:00:01\r\u001b[K     |█████████████████████████████   | 1.1MB 8.3MB/s eta 0:00:01\r\u001b[K     |█████████████████████████████▎  | 1.2MB 8.3MB/s eta 0:00:01\r\u001b[K     |█████████████████████████████▌  | 1.2MB 8.3MB/s eta 0:00:01\r\u001b[K     |█████████████████████████████▉  | 1.2MB 8.3MB/s eta 0:00:01\r\u001b[K     |██████████████████████████████  | 1.2MB 8.3MB/s eta 0:00:01\r\u001b[K     |██████████████████████████████▎ | 1.2MB 8.3MB/s eta 0:00:01\r\u001b[K     |██████████████████████████████▋ | 1.2MB 8.3MB/s eta 0:00:01\r\u001b[K     |██████████████████████████████▉ | 1.2MB 8.3MB/s eta 0:00:01\r\u001b[K     |███████████████████████████████ | 1.2MB 8.3MB/s eta 0:00:01\r\u001b[K     |███████████████████████████████▍| 1.2MB 8.3MB/s eta 0:00:01\r\u001b[K     |███████████████████████████████▋| 1.2MB 8.3MB/s eta 0:00:01\r\u001b[K     |███████████████████████████████▉| 1.3MB 8.3MB/s eta 0:00:01\r\u001b[K     |████████████████████████████████| 1.3MB 8.3MB/s \n",
            "\u001b[?25hInstalling collected packages: pymssql\n",
            "Successfully installed pymssql-2.1.5\n"
          ],
          "name": "stdout"
        }
      ]
    },
    {
      "cell_type": "code",
      "metadata": {
        "id": "YWRQ5oon_UH3",
        "outputId": "e0991a05-86d1-4ff6-c486-1b13bf555c94",
        "colab": {
          "base_uri": "https://localhost:8080/",
          "height": 35
        }
      },
      "source": [
        "import pymssql\n",
        "\n",
        "print(pymssql.VERSION)"
      ],
      "execution_count": null,
      "outputs": [
        {
          "output_type": "stream",
          "text": [
            "(2, 1, 5)\n"
          ],
          "name": "stdout"
        }
      ]
    },
    {
      "cell_type": "code",
      "metadata": {
        "id": "u9zbRym6D1lV"
      },
      "source": [
        "## MSSQL 접속\n",
        "conn = pymssql.connect(host='210.115.229.77:2433', user='M20041', password='20041@hallym', database='M20041')\n",
        "\n",
        "## Connection으로 부터 Cursor생성\n",
        "cursor = conn.cursor()"
      ],
      "execution_count": null,
      "outputs": []
    },
    {
      "cell_type": "code",
      "metadata": {
        "id": "8V_oZSqiF0f5"
      },
      "source": [
        "## SQL 문 작성\n",
        "query = \"SELECT * FROM student WHERE name LIKE '%i%'\"\n",
        "\n",
        "## SQL 문 실행\n",
        "cursor.execute(query)"
      ],
      "execution_count": null,
      "outputs": []
    },
    {
      "cell_type": "code",
      "metadata": {
        "id": "gO2nZIuzIL7r",
        "outputId": "23f73945-ba51-454c-8e8a-9f6d140ce222",
        "colab": {
          "base_uri": "https://localhost:8080/",
          "height": 35
        }
      },
      "source": [
        "## SQL 문 결과 모두 가져오기\n",
        "rows = cursor.fetchall()\n",
        "print(rows, type(rows))"
      ],
      "execution_count": null,
      "outputs": [
        {
          "output_type": "stream",
          "text": [
            "[('44553', 'Peltier', 'Physics', 56), ('54321', 'Williams', 'Comp.Sci.', 54), ('76653', 'Aoi', 'Elec.Eng.', 60), ('98765', 'Bourikas', 'Elec.Eng.', 98)] <class 'list'>\n"
          ],
          "name": "stdout"
        }
      ]
    },
    {
      "cell_type": "code",
      "metadata": {
        "id": "Gp7H2NuaJ-Hv",
        "outputId": "740f611c-3d71-4194-de5c-980c40cc97c7",
        "colab": {
          "base_uri": "https://localhost:8080/",
          "height": 89
        }
      },
      "source": [
        "for row in rows:\n",
        "  print(row, type(row))"
      ],
      "execution_count": null,
      "outputs": [
        {
          "output_type": "stream",
          "text": [
            "('44553', 'Peltier', 'Physics', 56) <class 'tuple'>\n",
            "('54321', 'Williams', 'Comp.Sci.', 54) <class 'tuple'>\n",
            "('76653', 'Aoi', 'Elec.Eng.', 60) <class 'tuple'>\n",
            "('98765', 'Bourikas', 'Elec.Eng.', 98) <class 'tuple'>\n"
          ],
          "name": "stdout"
        }
      ]
    },
    {
      "cell_type": "code",
      "metadata": {
        "id": "TLCl5gsAK3OZ",
        "outputId": "116e0d31-b898-4ae5-b353-a2441216b35c",
        "colab": {
          "base_uri": "https://localhost:8080/",
          "height": 107
        }
      },
      "source": [
        "## SQL 문 재실행\n",
        "cursor.execute(query)\n",
        "\n",
        "row = cursor.fetchone()\n",
        "while row:\n",
        "  print(row, type(row))\n",
        "  row = cursor.fetchone()\n",
        "\n",
        "print(row)"
      ],
      "execution_count": null,
      "outputs": [
        {
          "output_type": "stream",
          "text": [
            "('44553', 'Peltier', 'Physics', 56) <class 'tuple'>\n",
            "('54321', 'Williams', 'Comp.Sci.', 54) <class 'tuple'>\n",
            "('76653', 'Aoi', 'Elec.Eng.', 60) <class 'tuple'>\n",
            "('98765', 'Bourikas', 'Elec.Eng.', 98) <class 'tuple'>\n",
            "None\n"
          ],
          "name": "stdout"
        }
      ]
    },
    {
      "cell_type": "code",
      "metadata": {
        "id": "R0fZucY5LfP2",
        "outputId": "35c4d26d-5159-45ed-80a4-e93603ae4461",
        "colab": {
          "base_uri": "https://localhost:8080/",
          "height": 125
        }
      },
      "source": [
        "## SQL 문 재실행\n",
        "cursor.execute(query)\n",
        "\n",
        "rows = cursor.fetchmany(3)\n",
        "print('# 3개의 데이터 출력')\n",
        "for row in rows:\n",
        "  print(row, type(row))\n",
        "\n",
        "row = cursor.fetchone() \n",
        "print('# 나머지 1개의 데이터 출력')\n",
        "print(row, type(row))"
      ],
      "execution_count": null,
      "outputs": [
        {
          "output_type": "stream",
          "text": [
            "# 3개의 데이터 출력\n",
            "('44553', 'Peltier', 'Physics', 56) <class 'tuple'>\n",
            "('54321', 'Williams', 'Comp.Sci.', 54) <class 'tuple'>\n",
            "('76653', 'Aoi', 'Elec.Eng.', 60) <class 'tuple'>\n",
            "# 나머지 1개의 데이터 출력\n",
            "('98765', 'Bourikas', 'Elec.Eng.', 98) <class 'tuple'>\n"
          ],
          "name": "stdout"
        }
      ]
    },
    {
      "cell_type": "code",
      "metadata": {
        "id": "DVvFtehPMGNT"
      },
      "source": [
        "## SQL 문 작성\n",
        "query = \"DELETE student WHERE id = '99999'\"\n",
        "\n",
        "## SQL 문 실행\n",
        "cursor.execute(query)\n",
        "conn.commit()"
      ],
      "execution_count": null,
      "outputs": []
    },
    {
      "cell_type": "code",
      "metadata": {
        "id": "paw7zlnGN8Ug",
        "outputId": "aad8f6bd-1fff-4c8f-ce79-17a883a994e9",
        "colab": {
          "base_uri": "https://localhost:8080/",
          "height": 233
        }
      },
      "source": [
        "## SQL 문 작성\n",
        "query = \"SELECT * FROM student\"\n",
        "\n",
        "## SQL 문 실행\n",
        "cursor.execute(query)\n",
        "\n",
        "rows = cursor.fetchall()\n",
        "for row in rows:\n",
        "  print(row)"
      ],
      "execution_count": null,
      "outputs": [
        {
          "output_type": "stream",
          "text": [
            "('00128', 'Zhang', 'Comp.Sci.', 102)\n",
            "('12345', 'Shankar', 'Comp.Sci.', 32)\n",
            "('19991', 'Brandt', 'History', 80)\n",
            "('23121', 'Chavez', 'Finance', 110)\n",
            "('44553', 'Peltier', 'Physics', 56)\n",
            "('45678', 'Levy', 'Physics', 46)\n",
            "('54321', 'Williams', 'Comp.Sci.', 54)\n",
            "('55739', 'Sanchez', 'Music', 38)\n",
            "('70557', 'Snow', 'Physics', 0)\n",
            "('76543', 'Brown', 'Comp.Sci.', 58)\n",
            "('76653', 'Aoi', 'Elec.Eng.', 60)\n",
            "('98765', 'Bourikas', 'Elec.Eng.', 98)\n"
          ],
          "name": "stdout"
        }
      ]
    },
    {
      "cell_type": "code",
      "metadata": {
        "id": "loC36e6mOL0T"
      },
      "source": [
        "conn.close()"
      ],
      "execution_count": null,
      "outputs": []
    }
  ]
}