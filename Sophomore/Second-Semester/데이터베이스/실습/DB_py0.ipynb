{
  "nbformat": 4,
  "nbformat_minor": 0,
  "metadata": {
    "colab": {
      "name": "DB_py0.ipynb",
      "provenance": [],
      "collapsed_sections": []
    },
    "kernelspec": {
      "name": "python3",
      "display_name": "Python 3"
    }
  },
  "cells": [
    {
      "cell_type": "code",
      "metadata": {
        "id": "XdQfxZoT7YIH",
        "outputId": "3a87e741-5f88-4d3f-c701-f9872e8d27bc",
        "colab": {
          "base_uri": "https://localhost:8080/",
          "height": 127
        }
      },
      "source": [
        "!pip install pymssql"
      ],
      "execution_count": 5,
      "outputs": [
        {
          "output_type": "stream",
          "text": [
            "Collecting pymssql\n",
            "\u001b[?25l  Downloading https://files.pythonhosted.org/packages/fe/aa/59c7c8a2cf1ef0726cd4c64bff7072147db8cbb6b4379fb0c3d7c67331b9/pymssql-2.1.5-cp36-cp36m-manylinux1_x86_64.whl (1.3MB)\n",
            "\u001b[K     |████████████████████████████████| 1.3MB 2.8MB/s \n",
            "\u001b[?25hInstalling collected packages: pymssql\n",
            "Successfully installed pymssql-2.1.5\n"
          ],
          "name": "stdout"
        }
      ]
    },
    {
      "cell_type": "code",
      "metadata": {
        "id": "I-dGtXGh8XbV",
        "outputId": "100f3aee-3b3d-45c2-c27b-10a2f11b400e",
        "colab": {
          "base_uri": "https://localhost:8080/",
          "height": 35
        }
      },
      "source": [
        "import pymssql\n",
        "\n",
        "pymssql.VERSION"
      ],
      "execution_count": 6,
      "outputs": [
        {
          "output_type": "execute_result",
          "data": {
            "text/plain": [
              "(2, 1, 5)"
            ]
          },
          "metadata": {
            "tags": []
          },
          "execution_count": 6
        }
      ]
    },
    {
      "cell_type": "code",
      "metadata": {
        "id": "6vp0Rker9LuQ"
      },
      "source": [
        "## MSSQL\n",
        "conn = pymssql.connect(host='210.115.229.77:2433', user='20195124', password='s195124@hallym', database='20195124')\n",
        "\n",
        "## Connection으로 부터 Cursor 생성\n",
        "## cursor 는 ssms에서 쿼리문을 작성하는 페이지 같은 것\n",
        "## 쿼리문을 작성할 수 있게 해주는 도구\n",
        "cursor = conn.cursor()"
      ],
      "execution_count": 8,
      "outputs": []
    },
    {
      "cell_type": "code",
      "metadata": {
        "id": "RsRZ0MWT92pv"
      },
      "source": [
        "## SQL 문 작성\n",
        "query = \"SELECT * FROM student WHERE name LIKE '%i%'\"\n",
        "\n",
        "## SQL 문 실행\n",
        "cursor.execute(query)"
      ],
      "execution_count": 16,
      "outputs": []
    },
    {
      "cell_type": "code",
      "metadata": {
        "id": "zioNxtTO-qJ1",
        "outputId": "035e0e60-9c7f-4684-ae88-215e8593d9d1",
        "colab": {
          "base_uri": "https://localhost:8080/",
          "height": 55
        }
      },
      "source": [
        "## SQL 문 결과 모두 가져오기\n",
        "rows = cursor.fetchall()\n",
        "print(rows, type(rows))"
      ],
      "execution_count": 17,
      "outputs": [
        {
          "output_type": "stream",
          "text": [
            "[('44553', 'Peltier', 'Physics', 56), ('54321', 'Williams', 'Comp.Sci.', 54), ('76653', 'Aoi', 'Elec.Eng.', 60), ('98765', 'Bourikas', 'Elec.Eng.', 98)] <class 'list'>\n"
          ],
          "name": "stdout"
        }
      ]
    },
    {
      "cell_type": "code",
      "metadata": {
        "id": "gmOjtpKk-qVW",
        "outputId": "ecc9ef06-7372-401b-c1a8-ba3e8797c56a",
        "colab": {
          "base_uri": "https://localhost:8080/",
          "height": 89
        }
      },
      "source": [
        "for row in rows:\n",
        "  print(row, type(row))"
      ],
      "execution_count": 18,
      "outputs": [
        {
          "output_type": "stream",
          "text": [
            "('44553', 'Peltier', 'Physics', 56) <class 'tuple'>\n",
            "('54321', 'Williams', 'Comp.Sci.', 54) <class 'tuple'>\n",
            "('76653', 'Aoi', 'Elec.Eng.', 60) <class 'tuple'>\n",
            "('98765', 'Bourikas', 'Elec.Eng.', 98) <class 'tuple'>\n"
          ],
          "name": "stdout"
        }
      ]
    },
    {
      "cell_type": "code",
      "metadata": {
        "id": "AxUD8_kD_CjQ",
        "outputId": "0c1bf3f2-f420-4903-a53c-0187ae156825",
        "colab": {
          "base_uri": "https://localhost:8080/",
          "height": 107
        }
      },
      "source": [
        "## SQL 문 재실행\n",
        "cursor.execute(query)\n",
        "\n",
        "row = cursor.fetchone()\n",
        "while row:\n",
        "  print(row, type(row))\n",
        "  row = cursor.fetchone()\n",
        "\n",
        "print(row)"
      ],
      "execution_count": 19,
      "outputs": [
        {
          "output_type": "stream",
          "text": [
            "('44553', 'Peltier', 'Physics', 56) <class 'tuple'>\n",
            "('54321', 'Williams', 'Comp.Sci.', 54) <class 'tuple'>\n",
            "('76653', 'Aoi', 'Elec.Eng.', 60) <class 'tuple'>\n",
            "('98765', 'Bourikas', 'Elec.Eng.', 98) <class 'tuple'>\n",
            "None\n"
          ],
          "name": "stdout"
        }
      ]
    },
    {
      "cell_type": "code",
      "metadata": {
        "id": "Ev0CC9O1_QNL",
        "outputId": "3de93831-69b9-45d3-c759-0f679a98f1e5",
        "colab": {
          "base_uri": "https://localhost:8080/",
          "height": 125
        }
      },
      "source": [
        "## SQL 문 재실행\n",
        "cursor.execute(query)\n",
        "\n",
        "rows = cursor.fetchmany(3)\n",
        "\n",
        "print('# 3개의 데이터 출력')\n",
        "\n",
        "for row in rows:\n",
        "  print(row, type(row))\n",
        "\n",
        "print('# 나머지 1개의 데이터 출력')\n",
        "row = cursor.fetchone()\n",
        "print(row, type(row))"
      ],
      "execution_count": 20,
      "outputs": [
        {
          "output_type": "stream",
          "text": [
            "# 3개의 데이터 출력\n",
            "('44553', 'Peltier', 'Physics', 56) <class 'tuple'>\n",
            "('54321', 'Williams', 'Comp.Sci.', 54) <class 'tuple'>\n",
            "('76653', 'Aoi', 'Elec.Eng.', 60) <class 'tuple'>\n",
            "# 나머지 1개의 데이터 출력\n",
            "('98765', 'Bourikas', 'Elec.Eng.', 98) <class 'tuple'>\n"
          ],
          "name": "stdout"
        }
      ]
    },
    {
      "cell_type": "code",
      "metadata": {
        "id": "VpyfXT9E_lHF"
      },
      "source": [
        "## SQL 문 작성\n",
        "query = \"INSERT INTO student VALUES ('99999', 'tester', 'Comp.Sci.', 999)\"\n",
        "\n",
        "## SQL 문 실행\n",
        "cursor.execute(query)\n",
        "conn.commit()"
      ],
      "execution_count": 28,
      "outputs": []
    },
    {
      "cell_type": "code",
      "metadata": {
        "id": "NaIbqD_B_8B6",
        "outputId": "e7063632-4a8e-4590-95c6-d988b063dec2",
        "colab": {
          "base_uri": "https://localhost:8080/",
          "height": 251
        }
      },
      "source": [
        "## SQL 문 작성\n",
        "query = \"SELECT * FROM student\"\n",
        "\n",
        "## SQL 문 실행\n",
        "cursor.execute(query)\n",
        "\n",
        "rows = cursor.fetchall()\n",
        "\n",
        "for row in rows:\n",
        "  print(row)"
      ],
      "execution_count": 29,
      "outputs": [
        {
          "output_type": "stream",
          "text": [
            "('00128', 'Zhang', 'Comp.Sci.', 102)\n",
            "('12345', 'Shankar', 'Comp.Sci.', 32)\n",
            "('19991', 'Brandt', 'History', 80)\n",
            "('23121', 'Chavez', 'Finance', 110)\n",
            "('44553', 'Peltier', 'Physics', 56)\n",
            "('45678', 'Levy', 'Physics', 46)\n",
            "('54321', 'Williams', 'Comp.Sci.', 54)\n",
            "('55739', 'Sanchez', 'Music', 38)\n",
            "('70557', 'Snow', 'Physics', 0)\n",
            "('76543', 'Brown', 'Comp.Sci.', 58)\n",
            "('76653', 'Aoi', 'Elec.Eng.', 60)\n",
            "('98765', 'Bourikas', 'Elec.Eng.', 98)\n",
            "('99999', 'tester', 'Comp.Sci.', 999)\n"
          ],
          "name": "stdout"
        }
      ]
    },
    {
      "cell_type": "code",
      "metadata": {
        "id": "4AIOR2HUCPU8"
      },
      "source": [
        "## SQL 문 작성\n",
        "query = \"DELETE student WHERE id = '99999'\"\n",
        "\n",
        "## SQL 문 실행\n",
        "cursor.execute(query)\n",
        "\n",
        "## commit 을 안했기 때문에 여기서만 삭제된 것이 보임"
      ],
      "execution_count": 30,
      "outputs": []
    },
    {
      "cell_type": "code",
      "metadata": {
        "id": "Lp1xbAISC8ry",
        "outputId": "d6b21c9c-af0d-448a-c327-52041ed06d93",
        "colab": {
          "base_uri": "https://localhost:8080/",
          "height": 233
        }
      },
      "source": [
        "## SQL 문 작성\n",
        "query = \"SELECT * FROM student\"\n",
        "\n",
        "## SQL 문 실행\n",
        "cursor.execute(query)\n",
        "\n",
        "rows = cursor.fetchall()\n",
        "\n",
        "for row in rows:\n",
        "  print(row)"
      ],
      "execution_count": 31,
      "outputs": [
        {
          "output_type": "stream",
          "text": [
            "('00128', 'Zhang', 'Comp.Sci.', 102)\n",
            "('12345', 'Shankar', 'Comp.Sci.', 32)\n",
            "('19991', 'Brandt', 'History', 80)\n",
            "('23121', 'Chavez', 'Finance', 110)\n",
            "('44553', 'Peltier', 'Physics', 56)\n",
            "('45678', 'Levy', 'Physics', 46)\n",
            "('54321', 'Williams', 'Comp.Sci.', 54)\n",
            "('55739', 'Sanchez', 'Music', 38)\n",
            "('70557', 'Snow', 'Physics', 0)\n",
            "('76543', 'Brown', 'Comp.Sci.', 58)\n",
            "('76653', 'Aoi', 'Elec.Eng.', 60)\n",
            "('98765', 'Bourikas', 'Elec.Eng.', 98)\n"
          ],
          "name": "stdout"
        }
      ]
    }
  ]
}