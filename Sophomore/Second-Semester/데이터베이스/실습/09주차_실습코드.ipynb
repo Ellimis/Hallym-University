{
  "nbformat": 4,
  "nbformat_minor": 0,
  "metadata": {
    "colab": {
      "name": "09주차.ipynb",
      "provenance": [],
      "collapsed_sections": []
    },
    "kernelspec": {
      "name": "python3",
      "display_name": "Python 3"
    }
  },
  "cells": [
    {
      "cell_type": "code",
      "metadata": {
        "id": "SL95u5bdhM2q",
        "outputId": "dd853b52-1563-4188-f6de-70b7b2c5bf5e",
        "colab": {
          "base_uri": "https://localhost:8080/",
          "height": 35
        }
      },
      "source": [
        "!pip install pymssql"
      ],
      "execution_count": null,
      "outputs": [
        {
          "output_type": "stream",
          "text": [
            "Requirement already satisfied: pymssql in /usr/local/lib/python3.6/dist-packages (2.1.5)\n"
          ],
          "name": "stdout"
        }
      ]
    },
    {
      "cell_type": "code",
      "metadata": {
        "id": "T9OtvqK7hTQE"
      },
      "source": [
        "import pymssql\n",
        "\n",
        "host = '210.115.229.77:2433'\n",
        "user = 'M20041'\n",
        "password = '20041@hallym'\n",
        "database = user"
      ],
      "execution_count": null,
      "outputs": []
    },
    {
      "cell_type": "code",
      "metadata": {
        "id": "61RZUF0PhVQX",
        "outputId": "dfdf5033-7908-42ce-c008-94a52eae964a",
        "colab": {
          "base_uri": "https://localhost:8080/",
          "height": 89
        }
      },
      "source": [
        "## MSSQL 접속\n",
        "conn = pymssql.connect(host, user, password, database)\n",
        "\n",
        "## Connection으로 부터 Cursor생성\n",
        "cursor = conn.cursor()\n",
        "\n",
        "## SQL문 작성\n",
        "query = \"SELECT * FROM student WHERE dept_name=%s\"\n",
        "\n",
        "## SQL문 실행\n",
        "cursor.execute(query, 'Comp.Sci.')\n",
        "\n",
        "## SQL 문 결과 모두 가져오기\n",
        "rows = cursor.fetchall()\n",
        "for row in rows:\n",
        "  print(row, type(row))\n",
        "\n",
        "## DB 접속 종료\n",
        "conn.close()"
      ],
      "execution_count": null,
      "outputs": [
        {
          "output_type": "stream",
          "text": [
            "('00128', 'Zhang', 'Comp.Sci.', 102) <class 'tuple'>\n",
            "('12345', 'Shankar', 'Comp.Sci.', 32) <class 'tuple'>\n",
            "('54321', 'Williams', 'Comp.Sci.', 54) <class 'tuple'>\n",
            "('76543', 'Brown', 'Comp.Sci.', 58) <class 'tuple'>\n"
          ],
          "name": "stdout"
        }
      ]
    },
    {
      "cell_type": "code",
      "metadata": {
        "id": "gIrhDAiYn4Vt",
        "outputId": "29ce48af-1f89-4d1d-bc19-a5ed57e8d24c",
        "colab": {
          "base_uri": "https://localhost:8080/",
          "height": 71
        }
      },
      "source": [
        "## 검색 할 학과명 입력\n",
        "dept_name = input('dept_name: ')\n",
        "\n",
        "## MSSQL 접속\n",
        "conn = pymssql.connect(host, user, password, database)\n",
        "\n",
        "## Connection으로 부터 Cursor생성\n",
        "cursor = conn.cursor()\n",
        "\n",
        "## SQL문 작성\n",
        "query = \"SELECT * FROM student WHERE dept_name=%s\"\n",
        "\n",
        "## SQL문 실행\n",
        "cursor.execute(query, dept_name)\n",
        "\n",
        "## SQL 문 결과 모두 가져오기\n",
        "rows = cursor.fetchall()\n",
        "for row in rows:\n",
        "  print(row, type(row))\n",
        "\n",
        "## DB 접속 종료\n",
        "conn.close()"
      ],
      "execution_count": null,
      "outputs": [
        {
          "output_type": "stream",
          "text": [
            "dept_name: History\n",
            "('19991', 'Brandt', 'History', 80) <class 'tuple'>\n",
            "('19999', 'TESTINPUT', 'History', 120) <class 'tuple'>\n"
          ],
          "name": "stdout"
        }
      ]
    },
    {
      "cell_type": "code",
      "metadata": {
        "id": "ybtZKfaSFn4q"
      },
      "source": [
        "## MSSQL 접속\n",
        "conn = pymssql.connect(host, user, password, database)\n",
        "\n",
        "## Connection으로 부터 Cursor생성\n",
        "cursor = conn.cursor()\n",
        "\n",
        "## SQL문 작성 // id = char, name = varchar, dept_name = varchar, tot_cred = int\n",
        "query = \"INSERT INTO student VALUES (%s, %s, %s, %d)\"\n",
        "\n",
        "## SQL문 실행 // id, name, dept_name, tot_cred\n",
        "cursor.executemany(query, [('00001', 'name1', 'Comp.Sci.', 16), \n",
        "                           ('00002', 'name2', 'History', 80), \n",
        "                           ('00003', 'name3', 'Biology', 104)])\n",
        "\n",
        "## SQL 문 결과 적용하기\n",
        "conn.commit()\n",
        "\n",
        "## DB 접속 종료\n",
        "conn.close()"
      ],
      "execution_count": null,
      "outputs": []
    },
    {
      "cell_type": "code",
      "metadata": {
        "id": "UCP4a0QvOjFP",
        "outputId": "f4e73b52-495c-4229-b095-90e6991d9528",
        "colab": {
          "base_uri": "https://localhost:8080/",
          "height": 251
        }
      },
      "source": [
        "## MSSQL 접속\n",
        "conn = pymssql.connect(host, user, password, database)\n",
        "\n",
        "## Connection으로 부터 Cursor생성\n",
        "cursor = conn.cursor()\n",
        "\n",
        "## SQL문 작성\n",
        "query = \"SELECT * FROM student\"\n",
        "\n",
        "## SQL문 실행\n",
        "cursor.execute(query)\n",
        "\n",
        "## SQL 문 결과 모두 가져오기\n",
        "rows = cursor.fetchall()\n",
        "for row in rows:\n",
        "  print(row, type(row))\n",
        "\n",
        "## DB 접속 종료\n",
        "conn.close()"
      ],
      "execution_count": null,
      "outputs": [
        {
          "output_type": "stream",
          "text": [
            "('00128', 'Zhang', 'Comp.Sci.', 102) <class 'tuple'>\n",
            "('12345', 'Shankar', 'Comp.Sci.', 32) <class 'tuple'>\n",
            "('19991', 'Brandt', 'History', 80) <class 'tuple'>\n",
            "('19999', 'TESTINPUT', 'History', 120) <class 'tuple'>\n",
            "('23121', 'Chavez', 'Finance', 110) <class 'tuple'>\n",
            "('44553', 'Peltier', 'Physics', 56) <class 'tuple'>\n",
            "('45678', 'Levy', 'Physics', 46) <class 'tuple'>\n",
            "('54321', 'Williams', 'Comp.Sci.', 54) <class 'tuple'>\n",
            "('55739', 'Sanchez', 'Music', 38) <class 'tuple'>\n",
            "('70557', 'Snow', 'Physics', 0) <class 'tuple'>\n",
            "('76543', 'Brown', 'Comp.Sci.', 58) <class 'tuple'>\n",
            "('76653', 'Aoi', 'Elec.Eng.', 60) <class 'tuple'>\n",
            "('98765', 'Bourikas', 'Elec.Eng.', 98) <class 'tuple'>\n"
          ],
          "name": "stdout"
        }
      ]
    },
    {
      "cell_type": "code",
      "metadata": {
        "id": "jNWHuXdpOx6J"
      },
      "source": [
        "## MSSQL 접속\n",
        "conn = pymssql.connect(host, user, password, database)\n",
        "\n",
        "## Connection으로 부터 Cursor생성\n",
        "cursor = conn.cursor()\n",
        "\n",
        "## SQL문 작성\n",
        "query = \"DELETE FROM student WHERE id=%s\"\n",
        "\n",
        "## SQL문 실행\n",
        "cursor.executemany(query, ['00001', '00002', '00003'])\n",
        "\n",
        "## SQL 문 결과 적용\n",
        "conn.commit()\n",
        "\n",
        "## DB 접속 종료\n",
        "conn.close()"
      ],
      "execution_count": null,
      "outputs": []
    },
    {
      "cell_type": "code",
      "metadata": {
        "id": "uRF_qDPPY9cw",
        "outputId": "d5416769-9aaa-4697-ab96-a87d962f011c",
        "colab": {
          "base_uri": "https://localhost:8080/",
          "height": 395
        }
      },
      "source": [
        "## MSSQL 접속\n",
        "conn = pymssql.connect(host, user, password, database)\n",
        "\n",
        "## Connection으로 부터 Cursor생성\n",
        "cursor = conn.cursor()\n",
        "\n",
        "## SQL문 작성\n",
        "sproc = 'sp_helptext'\n",
        "\n",
        "## SQL문 실행\n",
        "row = cursor.callproc(sproc, ('sp_databases', ))\n",
        "\n",
        "## SQL 문 결과 모두 가져오기\n",
        "for row in cursor:\n",
        "  print(row, type(row))\n",
        "\n",
        "## DB 접속 종료\n",
        "conn.close()"
      ],
      "execution_count": null,
      "outputs": [
        {
          "output_type": "stream",
          "text": [
            "('\\r\\n',) <class 'tuple'>\n",
            "('create procedure sys.sp_databases\\r\\n',) <class 'tuple'>\n",
            "('as\\r\\n',) <class 'tuple'>\n",
            "('    set nocount on\\r\\n',) <class 'tuple'>\n",
            "('\\r\\n',) <class 'tuple'>\n",
            "('    select\\r\\n',) <class 'tuple'>\n",
            "('        DATABASE_NAME   = db_name(s_mf.database_id),\\r\\n',) <class 'tuple'>\n",
            "('        DATABASE_SIZE   = convert(int,\\r\\n',) <class 'tuple'>\n",
            "('                                    case -- more than 2TB(maxint) worth of pages (by 8K each) can not fit an int...\\r\\n',) <class 'tuple'>\n",
            "('                                    when convert(bigint, sum(s_mf.size)) >= 268435456\\r\\n',) <class 'tuple'>\n",
            "('                                    then null\\r\\n',) <class 'tuple'>\n",
            "('                                    else sum(s_mf.size)*8 -- Convert from 8192 byte pages to Kb\\r\\n',) <class 'tuple'>\n",
            "('                                    end),\\r\\n',) <class 'tuple'>\n",
            "('        REMARKS         = convert(varchar(254),null)\\r\\n',) <class 'tuple'>\n",
            "('    from\\r\\n',) <class 'tuple'>\n",
            "('        sys.master_files s_mf\\r\\n',) <class 'tuple'>\n",
            "('    where\\r\\n',) <class 'tuple'>\n",
            "('        s_mf.state = 0 and -- ONLINE\\r\\n',) <class 'tuple'>\n",
            "('        has_dbaccess(db_name(s_mf.database_id)) = 1 -- Only look at databases to which we have access\\r\\n',) <class 'tuple'>\n",
            "('    group by s_mf.database_id\\r\\n',) <class 'tuple'>\n",
            "('    order by 1\\r\\n',) <class 'tuple'>\n"
          ],
          "name": "stdout"
        }
      ]
    }
  ]
}