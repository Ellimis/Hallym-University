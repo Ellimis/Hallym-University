{
  "nbformat": 4,
  "nbformat_minor": 0,
  "metadata": {
    "colab": {
      "name": "DB_09실습_20195124_김민석.ipynb",
      "provenance": [],
      "collapsed_sections": []
    },
    "kernelspec": {
      "name": "python3",
      "display_name": "Python 3"
    }
  },
  "cells": [
    {
      "cell_type": "code",
      "metadata": {
        "id": "0TsLq_j2rxmY",
        "outputId": "ae68b23d-158d-4779-8411-4a26b1042cca",
        "colab": {
          "base_uri": "https://localhost:8080/"
        }
      },
      "source": [
        "!pip install pymssql"
      ],
      "execution_count": 1,
      "outputs": [
        {
          "output_type": "stream",
          "text": [
            "Collecting pymssql\n",
            "\u001b[?25l  Downloading https://files.pythonhosted.org/packages/fe/aa/59c7c8a2cf1ef0726cd4c64bff7072147db8cbb6b4379fb0c3d7c67331b9/pymssql-2.1.5-cp36-cp36m-manylinux1_x86_64.whl (1.3MB)\n",
            "\u001b[K     |████████████████████████████████| 1.3MB 4.5MB/s \n",
            "\u001b[?25hInstalling collected packages: pymssql\n",
            "Successfully installed pymssql-2.1.5\n"
          ],
          "name": "stdout"
        }
      ]
    },
    {
      "cell_type": "markdown",
      "metadata": {
        "id": "VKeooOENuLj3"
      },
      "source": [
        "**과제 1** - 실습 자료에 등장하는 SQL 문 설명\n",
        "\n",
        "> 1- 1\n",
        ">\n",
        "> query = \"SELECT * FROM student WHERE dept_name=%s\"\n",
        ">\n",
        "> cursor.execute(query, 'Comp.Sci.')\n",
        ">\n",
        ">     dept_name이 'Comp.Sci.'인 모든 튜플들을 가져오는데, 이때 dept_name에 올 데이터들의 형식은 문자열이다.\n",
        "\n",
        "> 1- 2\n",
        ">\n",
        "> query = \"INSERT INTO student VALUES (%s, %s, %s, %d)\"\n",
        ">\n",
        "> cursor.executemany(query, [('00001', 'name1', 'Comp.Sci.', 16), ('00002', 'name2', 'History', 80), ('00003', 'name3', 'Biology', 104)])\n",
        ">\n",
        ">     executemany에서 쿼리문과 함께 들어온 튜플들을 student에 삽입한다. 이때 튜플들의 포맷 형식을 문자열, 문자열, 문자열, 정수로 지정해준 것이다.\n",
        "\n",
        "> 1- 3\n",
        ">\n",
        "> query = \"DELETE FROM student WHERE name=%s\"\n",
        ">\n",
        "> cursor.executemany(query, ['name1', 'name2', 'name3'])\n",
        ">\n",
        ">     student 테이블로부터 name이 'name1', 'name2', 'name3'이라면 그 튜플을 삭제하는 문장이다. 이때 name의 종류로 들어오는 값들의 형식은 문자열이다.\n",
        "\n",
        "> 1- 4\n",
        ">\n",
        "> sproc = \"sp_help\"\n",
        ">\n",
        "> row = cursor.callproc('sp_helptext', ('sp_databases', ))\n",
        ">\n",
        ">     cursor 객체의 callproc() 함수를 통해 저장 프로시져인 sp_help를 실행한다."
      ]
    },
    {
      "cell_type": "code",
      "metadata": {
        "id": "Ldinr50psXMX"
      },
      "source": [
        "import pymssql\n",
        "\n",
        "host = '210.115.229.77:2433'\n",
        "user = '20195124'\n",
        "password = 's195124@hallym'\n",
        "database = user"
      ],
      "execution_count": 2,
      "outputs": []
    },
    {
      "cell_type": "markdown",
      "metadata": {
        "id": "8c1dxfQRszdc"
      },
      "source": [
        "**과제 2**"
      ]
    },
    {
      "cell_type": "code",
      "metadata": {
        "id": "4L1ZGtCqsn3w",
        "outputId": "5350f037-c336-45a1-e1b9-253a02bfc307",
        "colab": {
          "base_uri": "https://localhost:8080/"
        }
      },
      "source": [
        "conn = pymssql.connect(host, user, password, database)\n",
        "\n",
        "cursor = conn.cursor()\n",
        "\n",
        "insert_query = \"INSERT INTO student VALUES (%s, %s, %s, %d)\"\n",
        "\n",
        "id = input('id: ')\n",
        "name = input('name: ')\n",
        "dept_name = input('dept_name: ')\n",
        "tot_cred = input('tot_cred: ')\n",
        "\n",
        "cursor.execute(insert_query, (id, name, dept_name, tot_cred))\n",
        "\n",
        "select_query = \"SELECT * FROM student\"\n",
        "\n",
        "cursor.execute(select_query)\n",
        "\n",
        "rows = cursor.fetchall()\n",
        "\n",
        "for row in rows:\n",
        "  print(row, type(row))\n",
        "\n",
        "conn.close()"
      ],
      "execution_count": 8,
      "outputs": [
        {
          "output_type": "stream",
          "text": [
            "id: 19999\n",
            "name: TESTINPUT\n",
            "dept_name: History\n",
            "tot_cred: 120\n",
            "('00128', 'Zhang', 'Comp.Sci.', 102) <class 'tuple'>\n",
            "('12345', 'Shankar', 'Comp.Sci.', 32) <class 'tuple'>\n",
            "('19991', 'Brandt', 'History', 80) <class 'tuple'>\n",
            "('19999', 'TESTINPUT', 'History', 120) <class 'tuple'>\n",
            "('23121', 'Chavez', 'Finance', 110) <class 'tuple'>\n",
            "('44553', 'Peltier', 'Physics', 56) <class 'tuple'>\n",
            "('45678', 'Levy', 'Physics', 46) <class 'tuple'>\n",
            "('54321', 'Williams', 'Comp.Sci.', 54) <class 'tuple'>\n",
            "('55739', 'Sanchez', 'Music', 38) <class 'tuple'>\n",
            "('70557', 'Snow', 'Physics', 0) <class 'tuple'>\n",
            "('76543', 'Brown', 'Comp.Sci.', 58) <class 'tuple'>\n",
            "('76653', 'Aoi', 'Elec.Eng.', 60) <class 'tuple'>\n",
            "('98765', 'Bourikas', 'Elec.Eng.', 98) <class 'tuple'>\n"
          ],
          "name": "stdout"
        }
      ]
    }
  ]
}