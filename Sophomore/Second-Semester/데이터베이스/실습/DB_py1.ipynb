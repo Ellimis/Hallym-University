{
  "nbformat": 4,
  "nbformat_minor": 0,
  "metadata": {
    "colab": {
      "name": "DB_py1.ipynb",
      "provenance": [],
      "collapsed_sections": []
    },
    "kernelspec": {
      "name": "python3",
      "display_name": "Python 3"
    }
  },
  "cells": [
    {
      "cell_type": "code",
      "metadata": {
        "id": "IkALF4F7iyN8",
        "outputId": "8e960363-b447-440f-b07f-fb9857b66717",
        "colab": {
          "base_uri": "https://localhost:8080/"
        }
      },
      "source": [
        "!pip install pymssql"
      ],
      "execution_count": 1,
      "outputs": [
        {
          "output_type": "stream",
          "text": [
            "Collecting pymssql\n",
            "\u001b[?25l  Downloading https://files.pythonhosted.org/packages/fe/aa/59c7c8a2cf1ef0726cd4c64bff7072147db8cbb6b4379fb0c3d7c67331b9/pymssql-2.1.5-cp36-cp36m-manylinux1_x86_64.whl (1.3MB)\n",
            "\u001b[K     |████████████████████████████████| 1.3MB 7.7MB/s \n",
            "\u001b[?25hInstalling collected packages: pymssql\n",
            "Successfully installed pymssql-2.1.5\n"
          ],
          "name": "stdout"
        }
      ]
    },
    {
      "cell_type": "code",
      "metadata": {
        "id": "GcDjaLMKi-Xl"
      },
      "source": [
        "#conn = pymssql.connect(host='210.115.229.77:2433', user='20195124', password='s195124@hallym', database='20195124')\n",
        "import pymssql\n",
        "\n",
        "host = '210.115.229.77:2433'\n",
        "user = '20195124'\n",
        "password = 's195124@hallym'\n",
        "database = user"
      ],
      "execution_count": 6,
      "outputs": []
    },
    {
      "cell_type": "code",
      "metadata": {
        "id": "uLO6CzN6jA1e",
        "outputId": "94622c95-51fd-4c27-c3ad-cd287f0bbc5b",
        "colab": {
          "base_uri": "https://localhost:8080/"
        }
      },
      "source": [
        "## MSSQL 접속\n",
        "conn = pymssql.connect(host, user, password, database)\n",
        "\n",
        "## Connection으로 부터 Cursor 생성\n",
        "cursor = conn.cursor()\n",
        "\n",
        "## SQL 문 작성\n",
        "query = \"SELECT * FROM student WHERE dept_name=%s\"\n",
        "\n",
        "## SQL 문 실행\n",
        "cursor.execute(query, 'Comp.Sci.')\n",
        "\n",
        "## SQL 문 결과 모두 가져오기\n",
        "rows = cursor.fetchall()\n",
        "\n",
        "for row in rows:\n",
        "  print(row, type(row))\n",
        "\n",
        "## DB 접속 종료\n",
        "conn.close()"
      ],
      "execution_count": 7,
      "outputs": [
        {
          "output_type": "stream",
          "text": [
            "('00128', 'Zhang', 'Comp.Sci.', 102) <class 'tuple'>\n",
            "('12345', 'Shankar', 'Comp.Sci.', 32) <class 'tuple'>\n",
            "('54321', 'Williams', 'Comp.Sci.', 54) <class 'tuple'>\n",
            "('76543', 'Brown', 'Comp.Sci.', 58) <class 'tuple'>\n"
          ],
          "name": "stdout"
        }
      ]
    },
    {
      "cell_type": "code",
      "metadata": {
        "id": "Iuqv-ZEcl-Bt",
        "outputId": "a25426a0-3734-460f-9970-9967a4b2d1ec",
        "colab": {
          "base_uri": "https://localhost:8080/"
        }
      },
      "source": [
        "## 검색 할 학과명 입력\n",
        "dept_name = input()\n",
        "\n",
        "## MSSQL 접속\n",
        "conn = pymssql.connect(host, user, password, database)\n",
        "\n",
        "## Connection으로 부터 Cursor 생성\n",
        "cursor = conn.cursor()\n",
        "\n",
        "## SQL 문 작성\n",
        "## %s 문자열, %d 숫자\n",
        "query = \"SELECT * FROM student WHERE dept_name=%s\"\n",
        "\n",
        "## SQL 문 실행\n",
        "cursor.execute(query, dept_name)\n",
        "\n",
        "## SQL 문 결과 모두 가져오기\n",
        "rows = cursor.fetchall()\n",
        "\n",
        "for row in rows:\n",
        "  print(row, type(row))\n",
        "\n",
        "## DB 접속 종료\n",
        "conn.close()"
      ],
      "execution_count": 8,
      "outputs": [
        {
          "output_type": "stream",
          "text": [
            "History\n",
            "('19991', 'Brandt', 'History', 80) <class 'tuple'>\n"
          ],
          "name": "stdout"
        }
      ]
    },
    {
      "cell_type": "code",
      "metadata": {
        "id": "nJfmOArWmSXh"
      },
      "source": [
        "## MSSQL 접속\n",
        "conn = pymssql.connect(host, user, password, database)\n",
        "\n",
        "## Connection으로 부터 Cursor 생성\n",
        "cursor = conn.cursor()\n",
        "\n",
        "## SQL 문 작성\n",
        "query = \"INSERT INTO student VALUES (%s, %s, %s, %d)\"\n",
        "\n",
        "## SQL 문 실행 id, name, dept_name, tot_cred\n",
        "cursor.executemany(query, [('00001', 'name1', 'Comp.Sci.', 16),\n",
        "                          ('00002', 'name2', 'History', 80),\n",
        "                          ('00003', 'name3', 'Biology', 104)])\n",
        "\n",
        "## SQL 문 결과 적용\n",
        "conn.commit()\n",
        "\n",
        "## DB 접속 종료\n",
        "conn.close()"
      ],
      "execution_count": 10,
      "outputs": []
    },
    {
      "cell_type": "code",
      "metadata": {
        "id": "-4-qDG9snt1J",
        "outputId": "81216d15-7529-460f-cf53-4f1b4efa1a5e",
        "colab": {
          "base_uri": "https://localhost:8080/"
        }
      },
      "source": [
        "## MSSQL 접속\n",
        "conn = pymssql.connect(host, user, password, database)\n",
        "\n",
        "## Connection으로 부터 Cursor 생성\n",
        "cursor = conn.cursor()\n",
        "\n",
        "## SQL 문 작성\n",
        "query = \"SELECT * FROM student\"\n",
        "\n",
        "## SQL 문 실행\n",
        "cursor.execute(query, 'Comp.Sci.')\n",
        "\n",
        "## SQL 문 결과 모두 가져오기\n",
        "rows = cursor.fetchall()\n",
        "\n",
        "for row in rows:\n",
        "  print(row, type(row))\n",
        "\n",
        "## DB 접속 종료\n",
        "conn.close()"
      ],
      "execution_count": 11,
      "outputs": [
        {
          "output_type": "stream",
          "text": [
            "('00001', 'name1', 'Comp.Sci.', 16) <class 'tuple'>\n",
            "('00002', 'name2', 'History', 80) <class 'tuple'>\n",
            "('00003', 'name3', 'Biology', 104) <class 'tuple'>\n",
            "('00128', 'Zhang', 'Comp.Sci.', 102) <class 'tuple'>\n",
            "('12345', 'Shankar', 'Comp.Sci.', 32) <class 'tuple'>\n",
            "('19991', 'Brandt', 'History', 80) <class 'tuple'>\n",
            "('23121', 'Chavez', 'Finance', 110) <class 'tuple'>\n",
            "('44553', 'Peltier', 'Physics', 56) <class 'tuple'>\n",
            "('45678', 'Levy', 'Physics', 46) <class 'tuple'>\n",
            "('54321', 'Williams', 'Comp.Sci.', 54) <class 'tuple'>\n",
            "('55739', 'Sanchez', 'Music', 38) <class 'tuple'>\n",
            "('70557', 'Snow', 'Physics', 0) <class 'tuple'>\n",
            "('76543', 'Brown', 'Comp.Sci.', 58) <class 'tuple'>\n",
            "('76653', 'Aoi', 'Elec.Eng.', 60) <class 'tuple'>\n",
            "('98765', 'Bourikas', 'Elec.Eng.', 98) <class 'tuple'>\n"
          ],
          "name": "stdout"
        }
      ]
    },
    {
      "cell_type": "code",
      "metadata": {
        "id": "S7cbAIkioFEa"
      },
      "source": [
        "## MSSQL 접속\n",
        "conn = pymssql.connect(host, user, password, database)\n",
        "\n",
        "## Connection으로 부터 Cursor 생성\n",
        "cursor = conn.cursor()\n",
        "\n",
        "## SQL 문 작성\n",
        "query = \"DELETE FROM student WHERE id=%s\"\n",
        "\n",
        "## SQL 문 실행\n",
        "cursor.executemany(query, ['00001', '00002', '00003'])\n",
        "\n",
        "## SQL 문 결과 적용\n",
        "conn.commit()\n",
        "\n",
        "## DB 접속 종료\n",
        "conn.close()"
      ],
      "execution_count": 14,
      "outputs": []
    },
    {
      "cell_type": "code",
      "metadata": {
        "id": "ji3YVmkIofZd",
        "outputId": "fdcc5b2c-dfb3-48c9-d8ca-fb54f79846e0",
        "colab": {
          "base_uri": "https://localhost:8080/"
        }
      },
      "source": [
        "## MSSQL 접속\n",
        "conn = pymssql.connect(host, user, password, database)\n",
        "\n",
        "## Connection으로 부터 Cursor 생성\n",
        "cursor = conn.cursor()\n",
        "\n",
        "## SQL 문 작성\n",
        "query = \"SELECT * FROM student\"\n",
        "\n",
        "## SQL 문 실행\n",
        "cursor.execute(query)\n",
        "\n",
        "## SQL 문 결과 모두 가져오기\n",
        "rows = cursor.fetchall()\n",
        "\n",
        "for row in rows:\n",
        "  print(row, type(row))\n",
        "\n",
        "## DB 접속 종료\n",
        "conn.close()"
      ],
      "execution_count": 16,
      "outputs": [
        {
          "output_type": "stream",
          "text": [
            "('00128', 'Zhang', 'Comp.Sci.', 102) <class 'tuple'>\n",
            "('12345', 'Shankar', 'Comp.Sci.', 32) <class 'tuple'>\n",
            "('19991', 'Brandt', 'History', 80) <class 'tuple'>\n",
            "('23121', 'Chavez', 'Finance', 110) <class 'tuple'>\n",
            "('44553', 'Peltier', 'Physics', 56) <class 'tuple'>\n",
            "('45678', 'Levy', 'Physics', 46) <class 'tuple'>\n",
            "('54321', 'Williams', 'Comp.Sci.', 54) <class 'tuple'>\n",
            "('55739', 'Sanchez', 'Music', 38) <class 'tuple'>\n",
            "('70557', 'Snow', 'Physics', 0) <class 'tuple'>\n",
            "('76543', 'Brown', 'Comp.Sci.', 58) <class 'tuple'>\n",
            "('76653', 'Aoi', 'Elec.Eng.', 60) <class 'tuple'>\n",
            "('98765', 'Bourikas', 'Elec.Eng.', 98) <class 'tuple'>\n"
          ],
          "name": "stdout"
        }
      ]
    },
    {
      "cell_type": "code",
      "metadata": {
        "id": "osifqwu_pOGZ",
        "outputId": "2dff28f3-e3d1-4a16-9587-c3351f089c8b",
        "colab": {
          "base_uri": "https://localhost:8080/"
        }
      },
      "source": [
        "## MSSQL 접속\n",
        "conn = pymssql.connect(host, user, password, database)\n",
        "\n",
        "## Connection으로 부터 Cursor 생성\n",
        "cursor = conn.cursor()\n",
        "\n",
        "## SQL 문 작성\n",
        "## 변수 = 'sp_helptext <데이터베이스 개체 명>'\n",
        "sproc = 'sp_helptext'\n",
        "\n",
        "## SQL 문 실행\n",
        "row = cursor.callproc(sproc, ('sp_databases', ))\n",
        "\n",
        "## SQL 문 결과 모두 가져오기\n",
        "for row in cursor:\n",
        "  print(row, type(row))\n",
        "\n",
        "## DB 접속 종료\n",
        "conn.close()"
      ],
      "execution_count": 18,
      "outputs": [
        {
          "output_type": "stream",
          "text": [
            "('\\r\\n',) <class 'tuple'>\n",
            "('create procedure sys.sp_databases\\r\\n',) <class 'tuple'>\n",
            "('as\\r\\n',) <class 'tuple'>\n",
            "('    set nocount on\\r\\n',) <class 'tuple'>\n",
            "('\\r\\n',) <class 'tuple'>\n",
            "('    select\\r\\n',) <class 'tuple'>\n",
            "('        DATABASE_NAME   = db_name(s_mf.database_id),\\r\\n',) <class 'tuple'>\n",
            "('        DATABASE_SIZE   = convert(int,\\r\\n',) <class 'tuple'>\n",
            "('                                    case -- more than 2TB(maxint) worth of pages (by 8K each) can not fit an int...\\r\\n',) <class 'tuple'>\n",
            "('                                    when convert(bigint, sum(s_mf.size)) >= 268435456\\r\\n',) <class 'tuple'>\n",
            "('                                    then null\\r\\n',) <class 'tuple'>\n",
            "('                                    else sum(s_mf.size)*8 -- Convert from 8192 byte pages to Kb\\r\\n',) <class 'tuple'>\n",
            "('                                    end),\\r\\n',) <class 'tuple'>\n",
            "('        REMARKS         = convert(varchar(254),null)\\r\\n',) <class 'tuple'>\n",
            "('    from\\r\\n',) <class 'tuple'>\n",
            "('        sys.master_files s_mf\\r\\n',) <class 'tuple'>\n",
            "('    where\\r\\n',) <class 'tuple'>\n",
            "('        s_mf.state = 0 and -- ONLINE\\r\\n',) <class 'tuple'>\n",
            "('        has_dbaccess(db_name(s_mf.database_id)) = 1 -- Only look at databases to which we have access\\r\\n',) <class 'tuple'>\n",
            "('    group by s_mf.database_id\\r\\n',) <class 'tuple'>\n",
            "('    order by 1\\r\\n',) <class 'tuple'>\n"
          ],
          "name": "stdout"
        }
      ]
    }
  ]
}